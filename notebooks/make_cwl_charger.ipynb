{
 "cells": [
  {
   "cell_type": "code",
   "execution_count": 1,
   "id": "a60da1a4",
   "metadata": {},
   "outputs": [],
   "source": [
    "import os\n",
    "import yaml\n",
    "import json\n",
    "import pandas as pd\n",
    "from pathlib import Path"
   ]
  },
  {
   "cell_type": "code",
   "execution_count": 3,
   "id": "0a3cb5d4",
   "metadata": {},
   "outputs": [],
   "source": [
    "cwl_dir = '/home/estorrs/pecgs-pipeline/cwl/charger'\n",
    "Path(cwl_dir).mkdir(parents=True, exist_ok=True)"
   ]
  },
  {
   "cell_type": "code",
   "execution_count": 4,
   "id": "02f0910d",
   "metadata": {},
   "outputs": [],
   "source": [
    "template = {\n",
    "    'vcf': {\n",
    "            'class': 'File',\n",
    "            'path': 'a/file/path'\n",
    "    }\n",
    "}"
   ]
  },
  {
   "cell_type": "code",
   "execution_count": 5,
   "id": "d9848281",
   "metadata": {},
   "outputs": [],
   "source": [
    "yaml.safe_dump(template, open(os.path.join(cwl_dir, 'template.charger.yaml'), 'w'))"
   ]
  },
  {
   "cell_type": "code",
   "execution_count": 8,
   "id": "67f02d33",
   "metadata": {},
   "outputs": [],
   "source": [
    "cwl = {\n",
    "    'class': 'CommandLineTool',\n",
    "    'cwlVersion': 'v1.0',\n",
    "    'id': 'charger',\n",
    "    'label': 'charger',\n",
    "    'baseCommand': ['charger'],\n",
    "    'inputs': [\n",
    "        {\n",
    "            'id': 'vcf',\n",
    "            'type': 'File',\n",
    "            'inputBinding': {\n",
    "                'position': 0,\n",
    "                'prefix': '-f'\n",
    "            }\n",
    "        },\n",
    "        # needs path to be set so it works on compute1\n",
    "        {\n",
    "            'id': 'environ_PATH',\n",
    "            'type': 'string?',\n",
    "            'default': '/miniconda/envs/charger/bin:$PATH'\n",
    "        },\n",
    "    ],\n",
    "    'arguments': [\n",
    "        {\n",
    "            'position': 0,\n",
    "            'prefix': '-o',\n",
    "            'valueFrom': 'output.tsv'\n",
    "        },\n",
    "    ],\n",
    "    'outputs': [\n",
    "        {\n",
    "            'id': 'charger_tsv',\n",
    "            'type': 'File',\n",
    "            'outputBinding': {'glob': 'output.tsv'},\n",
    "        },\n",
    "    ],\n",
    "    'requirements': [\n",
    "        {\n",
    "            'class': 'DockerRequirement',\n",
    "            'dockerPull': 'estorrs/charger:v0.5.4_patch'\n",
    "        },\n",
    "        {\n",
    "            'class': 'ResourceRequirement',\n",
    "            'ramMin': 5000,\n",
    "        },\n",
    "        {\n",
    "            'class': 'EnvVarRequirement',\n",
    "            'envDef': {\n",
    "                'PATH': '$(inputs.environ_PATH)',\n",
    "            }\n",
    "        }\n",
    "    ]\n",
    "}"
   ]
  },
  {
   "cell_type": "code",
   "execution_count": 9,
   "id": "29e62f1b",
   "metadata": {},
   "outputs": [],
   "source": [
    "yaml.safe_dump(cwl, open(os.path.join(cwl_dir, 'charger.cwl'), 'w'))"
   ]
  },
  {
   "cell_type": "code",
   "execution_count": null,
   "id": "1aae53e3",
   "metadata": {},
   "outputs": [],
   "source": []
  }
 ],
 "metadata": {
  "kernelspec": {
   "display_name": "Python 3 (ipykernel)",
   "language": "python",
   "name": "python3"
  },
  "language_info": {
   "codemirror_mode": {
    "name": "ipython",
    "version": 3
   },
   "file_extension": ".py",
   "mimetype": "text/x-python",
   "name": "python",
   "nbconvert_exporter": "python",
   "pygments_lexer": "ipython3",
   "version": "3.8.12"
  }
 },
 "nbformat": 4,
 "nbformat_minor": 5
}
