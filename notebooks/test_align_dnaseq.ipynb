{
 "cells": [
  {
   "cell_type": "code",
   "execution_count": 16,
   "id": "39d81adc",
   "metadata": {},
   "outputs": [],
   "source": [
    "import json\n",
    "import yaml\n",
    "import uuid\n",
    "import os"
   ]
  },
  {
   "cell_type": "code",
   "execution_count": 13,
   "id": "00d0ce1b",
   "metadata": {},
   "outputs": [],
   "source": [
    "import wombat.bsub as bsub"
   ]
  },
  {
   "cell_type": "code",
   "execution_count": 2,
   "id": "574471f8",
   "metadata": {},
   "outputs": [
    {
     "data": {
      "text/plain": [
       "{'id': 'HT191P1-S1H1A3Y3',\n",
       " 'rna-seq': {'tumor': {'R1': {'filepath': '/scratch1/fs1/dinglab/estorrs/pecgs_resources/test_samples/HT191P1-S1H1A3Y3/rna-seq/ht191p1-s1h1a3y3e1_1.AAGGTGTTAG-TAAGCGCGTG/ht191p1-s1h1a3y3e1_1.AAGGTGTTAG-TAAGCGCGTG.HFWJGDSXY_AAGGTGTTAG-TAAGCGCGTG_L001_R1.fastq.gz'},\n",
       "   'R2': {'filepath': '/scratch1/fs1/dinglab/estorrs/pecgs_resources/test_samples/HT191P1-S1H1A3Y3/rna-seq/ht191p1-s1h1a3y3e1_1.AAGGTGTTAG-TAAGCGCGTG/ht191p1-s1h1a3y3e1_1.AAGGTGTTAG-TAAGCGCGTG.HFWJGDSXY_AAGGTGTTAG-TAAGCGCGTG_L001_R2.fastq.gz'}}},\n",
       " 'wxs': {'normal': {'R1': {'filepath': '/scratch1/fs1/dinglab/estorrs/pecgs_resources/test_samples/HT191P1-S1H1A3Y3/wxs/CATTATCGCT-CTTGAAGGTT_S34_L001_R1_001.fastq.gz'},\n",
       "   'R2': {'filepath': '/scratch1/fs1/dinglab/estorrs/pecgs_resources/test_samples/HT191P1-S1H1A3Y3/wxs/CATTATCGCT-CTTGAAGGTT_S34_L001_R2_001.fastq.gz'}},\n",
       "  'tumor': {'R1': {'filepath': '/scratch1/fs1/dinglab/estorrs/pecgs_resources/test_samples/HT191P1-S1H1A3Y3/wxs/CCAGTAGCGT-ATGTATTGGC_S53_L002_R1_001.fastq.gz'},\n",
       "   'R2': {'filepath': '/scratch1/fs1/dinglab/estorrs/pecgs_resources/test_samples/HT191P1-S1H1A3Y3/wxs/CCAGTAGCGT-ATGTATTGGC_S53_L002_R2_001.fastq.gz'}}}}"
      ]
     },
     "execution_count": 2,
     "metadata": {},
     "output_type": "execute_result"
    }
   ],
   "source": [
    "m = yaml.safe_load(open('../tests/data/align_wxs/HT191P1-S1H1A3Y3.yaml'))\n",
    "m"
   ]
  },
  {
   "cell_type": "code",
   "execution_count": null,
   "id": "2e16293f",
   "metadata": {},
   "outputs": [],
   "source": []
  },
  {
   "cell_type": "code",
   "execution_count": 6,
   "id": "3397ac85",
   "metadata": {},
   "outputs": [
    {
     "data": {
      "text/plain": [
       "{'cpu': 'a_int',\n",
       " 'flowcell': 'a_string',\n",
       " 'fq_1': {'class': 'File', 'path': 'a/file/path'},\n",
       " 'fq_2': {'class': 'File', 'path': 'a/file/path'},\n",
       " 'index_sequencer': 'a_string',\n",
       " 'known_sites': {'class': 'File',\n",
       "  'path': 'path/to/vcf.gz',\n",
       "  'secondaryFiles': [{'class': 'File', 'path': 'path/to/vcf.gz.tbi'}]},\n",
       " 'lane': 'a_string',\n",
       " 'library_preparation': 'a_string',\n",
       " 'platform': 'a_string',\n",
       " 'reference': {'class': 'File',\n",
       "  'path': 'path/to/GRCh38.d1.vd1.fa',\n",
       "  'secondaryFiles': [{'class': 'File', 'path': 'path/to/GRCh38.d1.vd1.fa.amb'},\n",
       "   {'class': 'File', 'path': 'path/to/GRCh38.d1.vd1.fa.ann'},\n",
       "   {'class': 'File', 'path': 'path/to/GRCh38.d1.vd1.fa.bwt'},\n",
       "   {'class': 'File', 'path': 'path/to/GRCh38.d1.vd1.fa.fai'},\n",
       "   {'class': 'File', 'path': 'path/to/GRCh38.d1.vd1.fa.pac'},\n",
       "   {'class': 'File', 'path': 'path/to/GRCh38.d1.vd1.fa.sa'},\n",
       "   {'class': 'File', 'path': 'path/to/GRCh38.d1.vd1.dict'}]},\n",
       " 'sample': 'a_string'}"
      ]
     },
     "execution_count": 6,
     "metadata": {},
     "output_type": "execute_result"
    }
   ],
   "source": [
    "t = yaml.safe_load(open('/home/estorrs/pecgs-pipeline/submodules/align-dnaseq/cwl/template.align_dnaseq.yaml'))\n",
    "t"
   ]
  },
  {
   "cell_type": "code",
   "execution_count": 7,
   "id": "5f48bb3b",
   "metadata": {},
   "outputs": [],
   "source": [
    "# ID: flowcell.lane\n",
    "# SM: sample_name\n",
    "# PL: technology, i.e. ILLUMINA\n",
    "# PU: flowcell.lane.index_sequencer\n",
    "# LB: sample_name.library_preparation"
   ]
  },
  {
   "cell_type": "code",
   "execution_count": 30,
   "id": "20574734",
   "metadata": {},
   "outputs": [],
   "source": [
    "template = {\n",
    "    'fq_1': {\n",
    "        'class': 'File',\n",
    "        'path': m['wxs']['normal']['R1']['filepath']\n",
    "    },\n",
    "    'fq_2': {\n",
    "        'class': 'File',\n",
    "        'path': m['wxs']['normal']['R2']['filepath']\n",
    "    },\n",
    "    'known_sites': {\n",
    "        'class': 'File',\n",
    "        'path': '/scratch1/fs1/dinglab/estorrs/pecgs_resources/dnaseq_alignment/dbsnp/00-All.chr.vcf.gz',\n",
    "        'secondaryFiles': [\n",
    "            {'class': 'File', 'path': '/scratch1/fs1/dinglab/estorrs/pecgs_resources/dnaseq_alignment/dbsnp/00-All.chr.vcf.gz.tbi'}\n",
    "        ]\n",
    "    },\n",
    "    'reference': {\n",
    "        'class': 'File',\n",
    "        'path': '/scratch1/fs1/dinglab/estorrs/pecgs_resources/cnv/references/GRCh38.d1.vd1/GRCh38.d1.vd1.fa',\n",
    "        'secondaryFiles': [\n",
    "            {'class': 'File', 'path': '/scratch1/fs1/dinglab/estorrs/pecgs_resources/cnv/references/GRCh38.d1.vd1/GRCh38.d1.vd1.fa.amb'},\n",
    "            {'class': 'File', 'path': '/scratch1/fs1/dinglab/estorrs/pecgs_resources/cnv/references/GRCh38.d1.vd1/GRCh38.d1.vd1.fa.ann'},\n",
    "            {'class': 'File', 'path': '/scratch1/fs1/dinglab/estorrs/pecgs_resources/cnv/references/GRCh38.d1.vd1/GRCh38.d1.vd1.fa.bwt'},\n",
    "            {'class': 'File', 'path': '/scratch1/fs1/dinglab/estorrs/pecgs_resources/cnv/references/GRCh38.d1.vd1/GRCh38.d1.vd1.fa.fai'},\n",
    "            {'class': 'File', 'path': '/scratch1/fs1/dinglab/estorrs/pecgs_resources/cnv/references/GRCh38.d1.vd1/GRCh38.d1.vd1.fa.pac'},\n",
    "            {'class': 'File', 'path': '/scratch1/fs1/dinglab/estorrs/pecgs_resources/cnv/references/GRCh38.d1.vd1/GRCh38.d1.vd1.fa.sa'},\n",
    "            {'class': 'File', 'path': '/scratch1/fs1/dinglab/estorrs/pecgs_resources/cnv/references/GRCh38.d1.vd1/GRCh38.d1.vd1.dict'}\n",
    "        ]\n",
    "    },\n",
    "    'flowcell': 'HH7KNDSXY',\n",
    "    'lane': '1',\n",
    "    'index_sequencer': 'CATTATCGCT-CTTGAAGGTT',\n",
    "    'library_preparation': 'TWCE-HT191P1-JM1D1_1-lib1',\n",
    "    'platform': 'ILLUMINA',\n",
    "    'sample': m['id'] + '.wxs.N',\n",
    "    'cpu': 40\n",
    "}"
   ]
  },
  {
   "cell_type": "code",
   "execution_count": 31,
   "id": "49d0e85b",
   "metadata": {},
   "outputs": [],
   "source": [
    "yaml.safe_dump(template, open('../tests/data/align_dnaseq/HT191P1-S1H1A3Y3_inputs.yaml', 'w'))"
   ]
  },
  {
   "cell_type": "code",
   "execution_count": 32,
   "id": "70081645",
   "metadata": {},
   "outputs": [],
   "source": [
    "workflow_root = '/scratch1/fs1/dinglab/estorrs/cromwell-data/pecgs/testing/align_dnaseq/HT191P1-S1H1A3Y3'\n",
    "output_fp = '../tests/data/align_dnaseq/HT191P1-S1H1A3Y3.cromwell-config-db.compute1.dat'\n",
    "bsub.save_compute1_cromwell_template(workflow_root, output_fp)"
   ]
  },
  {
   "cell_type": "code",
   "execution_count": 33,
   "id": "ed21b2cd",
   "metadata": {},
   "outputs": [],
   "source": [
    "TEST_DIR_ROOT = '/storage1/fs1/dinglab/Active/Projects/estorrs/wombat/tests/data/align_dnaseq'\n",
    "TOOL_ROOT = '/storage1/fs1/dinglab/Active/Projects/estorrs/pecgs-pipeline'\n",
    "\n",
    "dconfig = os.path.join(TEST_DIR_ROOT, 'HT191P1-S1H1A3Y3.cromwell-config-db.compute1.dat')\n",
    "cwl_fp = os.path.join(TOOL_ROOT, 'submodules', 'align-dnaseq', 'cwl', 'align_dnaseq.cwl')\n",
    "inputs_fp = os.path.join(TEST_DIR_ROOT, 'HT191P1-S1H1A3Y3_inputs.yaml')\n",
    "volumes = [TEST_DIR_ROOT, TOOL_ROOT, workflow_root, '/storage1/fs1/dinglab/Active', '/storage1/fs1/m.wyczalkowski/Active', '/scratch1/fs1/dinglab/estorrs']"
   ]
  },
  {
   "cell_type": "code",
   "execution_count": 34,
   "id": "736e6d40",
   "metadata": {},
   "outputs": [
    {
     "data": {
      "text/plain": [
       "{'mem': 10,\n",
       " 'n_processes': 1,\n",
       " 'max_mem': None,\n",
       " 'docker': 'python:3.8',\n",
       " 'queue': 'dinglab',\n",
       " 'group': 'compute-dinglab',\n",
       " 'group_name': 'test_cromwell',\n",
       " 'n_concurrent': 10,\n",
       " 'interactive': False,\n",
       " 'username': 'estorrs'}"
      ]
     },
     "execution_count": 34,
     "metadata": {},
     "output_type": "execute_result"
    }
   ],
   "source": [
    "args = bsub.DEFAULT_ARGS\n",
    "args['group_name'] = 'test_cromwell'\n",
    "args"
   ]
  },
  {
   "cell_type": "code",
   "execution_count": 35,
   "id": "ffb85b22",
   "metadata": {},
   "outputs": [],
   "source": [
    "start_commands, run_command = bsub.cromwell_commands(dconfig, cwl_fp, inputs_fp, args, volumes, workflow_root=workflow_root)\n",
    "filepath = os.path.join('../tests/data/align_dnaseq/start_server.sh')\n",
    "bsub.write_command_file(start_commands, filepath)\n",
    "filepath = os.path.join('../tests/data/align_dnaseq/run_job.sh')\n",
    "bsub.write_command_file([run_command], filepath)"
   ]
  },
  {
   "cell_type": "code",
   "execution_count": 36,
   "id": "e2d122a1",
   "metadata": {},
   "outputs": [
    {
     "name": "stdout",
     "output_type": "stream",
     "text": [
      "mkdir -p /scratch1/fs1/dinglab/estorrs/cromwell-data/pecgs/testing/align_dnaseq/HT191P1-S1H1A3Y3/cromwell-workdir/logs\n",
      "source /opt/ibm/lsfsuite/lsf/conf/lsf.conf\n",
      "export LSF_DOCKER_NETWORK=host\n",
      "export LSF_DOCKER_VOLUMES=\"/storage1/fs1/dinglab/Active/Projects/estorrs/wombat/tests/data/align_dnaseq:/storage1/fs1/dinglab/Active/Projects/estorrs/wombat/tests/data/align_dnaseq /storage1/fs1/dinglab/Active/Projects/estorrs/pecgs-pipeline:/storage1/fs1/dinglab/Active/Projects/estorrs/pecgs-pipeline /scratch1/fs1/dinglab/estorrs/cromwell-data/pecgs/testing/align_dnaseq/HT191P1-S1H1A3Y3:/scratch1/fs1/dinglab/estorrs/cromwell-data/pecgs/testing/align_dnaseq/HT191P1-S1H1A3Y3 /storage1/fs1/dinglab/Active:/storage1/fs1/dinglab/Active /storage1/fs1/m.wyczalkowski/Active:/storage1/fs1/m.wyczalkowski/Active /scratch1/fs1/dinglab/estorrs:/scratch1/fs1/dinglab/estorrs\"\n",
      "bgadd -L 10 /estorrs/test_cromwell\n",
      "bsub -n 1 -q dinglab-interactive -G compute-dinglab -a 'docker(mwyczalkowski/cromwell-runner)' -g /estorrs/test_cromwell -J d4a8d391-03d0-4312-9e94-a11adc0da9de -Is '/bin/bash'\n"
     ]
    }
   ],
   "source": [
    "for c in start_commands: print(c)"
   ]
  },
  {
   "cell_type": "code",
   "execution_count": 37,
   "id": "d0eebffa",
   "metadata": {},
   "outputs": [
    {
     "name": "stdout",
     "output_type": "stream",
     "text": [
      "/usr/bin/java -Dconfig.file=/storage1/fs1/dinglab/Active/Projects/estorrs/wombat/tests/data/align_dnaseq/HT191P1-S1H1A3Y3.cromwell-config-db.compute1.dat -Djavax.net.ssl.trustStorePassword=changeit -Djavax.net.ssl.trustStore=/gscmnt/gc2560/core/genome/cromwell/cromwell.truststore -jar /usr/local/cromwell/cromwell-47.jar run -t cwl -i /storage1/fs1/dinglab/Active/Projects/estorrs/wombat/tests/data/align_dnaseq/HT191P1-S1H1A3Y3_inputs.yaml /storage1/fs1/dinglab/Active/Projects/estorrs/pecgs-pipeline/submodules/align-dnaseq/cwl/align_dnaseq.cwl\n"
     ]
    }
   ],
   "source": [
    "print(run_command)"
   ]
  },
  {
   "cell_type": "code",
   "execution_count": null,
   "id": "81c54bef",
   "metadata": {},
   "outputs": [],
   "source": []
  }
 ],
 "metadata": {
  "kernelspec": {
   "display_name": "Python 3 (ipykernel)",
   "language": "python",
   "name": "python3"
  },
  "language_info": {
   "codemirror_mode": {
    "name": "ipython",
    "version": 3
   },
   "file_extension": ".py",
   "mimetype": "text/x-python",
   "name": "python",
   "nbconvert_exporter": "python",
   "pygments_lexer": "ipython3",
   "version": "3.8.12"
  }
 },
 "nbformat": 4,
 "nbformat_minor": 5
}
