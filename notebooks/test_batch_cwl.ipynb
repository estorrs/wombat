{
 "cells": [
  {
   "cell_type": "code",
   "execution_count": 11,
   "id": "fbe07eaa",
   "metadata": {},
   "outputs": [],
   "source": [
    "import os\n",
    "import re\n",
    "import uuid\n",
    "import shutil\n",
    "from pathlib import Path"
   ]
  },
  {
   "cell_type": "code",
   "execution_count": 2,
   "id": "a5e06464",
   "metadata": {},
   "outputs": [],
   "source": [
    "%load_ext autoreload"
   ]
  },
  {
   "cell_type": "code",
   "execution_count": 3,
   "id": "66644803",
   "metadata": {},
   "outputs": [],
   "source": [
    "%autoreload 2"
   ]
  },
  {
   "cell_type": "code",
   "execution_count": 6,
   "id": "6aca1d30",
   "metadata": {},
   "outputs": [],
   "source": [
    "import wombat.bsub as bsub"
   ]
  },
  {
   "cell_type": "code",
   "execution_count": null,
   "id": "9cb3acbb",
   "metadata": {},
   "outputs": [],
   "source": []
  },
  {
   "cell_type": "markdown",
   "id": "e3a25253",
   "metadata": {},
   "source": [
    "###### batch cwl on compute1"
   ]
  },
  {
   "cell_type": "code",
   "execution_count": 20,
   "id": "f055defe",
   "metadata": {},
   "outputs": [],
   "source": [
    "run_dir = '/scratch1/fs1/dinglab/estorrs/cromwell-data/pecgs/testing/batch_cwl'\n",
    "log_dir = os.path.join(run_dir, 'logs')"
   ]
  },
  {
   "cell_type": "code",
   "execution_count": 19,
   "id": "1f0a1974",
   "metadata": {},
   "outputs": [
    {
     "data": {
      "text/plain": [
       "(['/storage1/fs1/dinglab/Active/Projects/estorrs/wombat/tests/data/batch_cwl/inputs/hello.0.yaml',\n",
       "  '/storage1/fs1/dinglab/Active/Projects/estorrs/wombat/tests/data/batch_cwl/inputs/hello.1.yaml',\n",
       "  '/storage1/fs1/dinglab/Active/Projects/estorrs/wombat/tests/data/batch_cwl/inputs/hello.2.yaml',\n",
       "  '/storage1/fs1/dinglab/Active/Projects/estorrs/wombat/tests/data/batch_cwl/inputs/hello.3.yaml',\n",
       "  '/storage1/fs1/dinglab/Active/Projects/estorrs/wombat/tests/data/batch_cwl/inputs/hello.4.yaml'],\n",
       " ['/storage1/fs1/dinglab/Active/Projects/estorrs/wombat/tests/data/batch_cwl/inputs/0.cromwell-config-db.compute1.dat',\n",
       "  '/storage1/fs1/dinglab/Active/Projects/estorrs/wombat/tests/data/batch_cwl/inputs/1.cromwell-config-db.compute1.dat',\n",
       "  '/storage1/fs1/dinglab/Active/Projects/estorrs/wombat/tests/data/batch_cwl/inputs/2.cromwell-config-db.compute1.dat',\n",
       "  '/storage1/fs1/dinglab/Active/Projects/estorrs/wombat/tests/data/batch_cwl/inputs/3.cromwell-config-db.compute1.dat',\n",
       "  '/storage1/fs1/dinglab/Active/Projects/estorrs/wombat/tests/data/batch_cwl/inputs/4.cromwell-config-db.compute1.dat'])"
      ]
     },
     "execution_count": 19,
     "metadata": {},
     "output_type": "execute_result"
    }
   ],
   "source": [
    "n_jobs = 5\n",
    "test_dir_root = '/storage1/fs1/dinglab/Active/Projects/estorrs/wombat/tests/data/batch_cwl'\n",
    "inputs_fps, dconfigs, run_names = [], [], list([str(x) for x in range(n_jobs)])\n",
    "for i in run_names:\n",
    "    input_yaml = f'../tests/data/batch_cwl/inputs/hello.{i}.yaml'\n",
    "    shutil.copy('/home/estorrs/pecgs-pipeline/cwl/hello/template.hello.yaml',\n",
    "                input_yaml)\n",
    "    workflow_root = os.path.join(run_dir, 'i')\n",
    "    template_fp = f'../tests/data/batch_cwl/inputs/{i}.cromwell-config-db.compute1.dat'\n",
    "    bsub.save_compute1_cromwell_template(workflow_root, template_fp)\n",
    "    \n",
    "    inputs_fps.append(os.path.join(test_dir_root, 'inputs', f'hello.{i}.yaml'))\n",
    "    dconfigs.append(os.path.join(test_dir_root, 'inputs', f'{i}.cromwell-config-db.compute1.dat'))\n",
    "\n",
    "shutil.copy('../wombat/templates/server-cromwell-config.compute1.dat',\n",
    "            '../tests/data/batch_cwl/inputs/server-cromwell-config.compute1.dat')\n",
    "server_config = os.path.join(test_dir_root, 'inputs', 'server-cromwell-config.compute1.dat')\n",
    "    \n",
    "inputs_fps, dconfigs"
   ]
  },
  {
   "cell_type": "code",
   "execution_count": 22,
   "id": "ddd6c37e",
   "metadata": {},
   "outputs": [],
   "source": [
    "tool_root = '/storage1/fs1/dinglab/Active/Projects/estorrs/pecgs-pipeline'\n",
    "cwl_fp = os.path.join(tool_root, 'cwl', 'hello', 'hello.cwl')\n",
    "volumes = [test_dir_root, tool_root, '/storage1/fs1/dinglab/Active', '/storage1/fs1/m.wyczalkowski/Active', '/scratch1/fs1/dinglab/estorrs']\n"
   ]
  },
  {
   "cell_type": "code",
   "execution_count": 41,
   "id": "75b89a9d",
   "metadata": {},
   "outputs": [
    {
     "data": {
      "text/plain": [
       "{'mem': 10,\n",
       " 'max_mem': None,\n",
       " 'docker': 'python:3.8',\n",
       " 'queue': 'dinglab',\n",
       " 'group': 'compute-dinglab',\n",
       " 'group_name': 'test_cromwell_hello',\n",
       " 'n_concurrent': 25,\n",
       " 'interactive': False,\n",
       " 'username': 'estorrs'}"
      ]
     },
     "execution_count": 41,
     "metadata": {},
     "output_type": "execute_result"
    }
   ],
   "source": [
    "args = bsub.DEFAULT_ARGS\n",
    "args['group_name'] = 'test_cromwell_hello'\n",
    "args['n_concurrent'] = 25\n",
    "args"
   ]
  },
  {
   "cell_type": "code",
   "execution_count": 46,
   "id": "ba48d50e",
   "metadata": {},
   "outputs": [],
   "source": [
    "start_commands, cromwell_server_command, run_commands = bsub.batch_cromwell_commands(\n",
    "    dconfigs, server_config, cwl_fp, inputs_fps, run_names, log_dir, run_dir, args, volumes)\n",
    "filepath = os.path.join('../tests/data/batch_cwl/1.start_server.sh')\n",
    "bsub.write_command_file(start_commands, filepath)\n",
    "filepath = os.path.join('../tests/data/batch_cwl/2.start_cromwell.sh')\n",
    "bsub.write_command_file([cromwell_server_command], filepath)\n",
    "filepath = os.path.join('../tests/data/batch_cwl/3.run_jobs.sh')\n",
    "bsub.write_command_file(run_commands, filepath)"
   ]
  },
  {
   "cell_type": "code",
   "execution_count": 50,
   "id": "fb46a263",
   "metadata": {},
   "outputs": [
    {
     "name": "stdout",
     "output_type": "stream",
     "text": [
      "mkdir -p /scratch1/fs1/dinglab/estorrs/cromwell-data/pecgs/testing/batch_cwl/logs\n",
      "mkdir -p /scratch1/fs1/dinglab/estorrs/cromwell-data/pecgs/testing/batch_cwl/0/cromwell-workdir/logs\n",
      "mkdir -p /scratch1/fs1/dinglab/estorrs/cromwell-data/pecgs/testing/batch_cwl/1/cromwell-workdir/logs\n",
      "mkdir -p /scratch1/fs1/dinglab/estorrs/cromwell-data/pecgs/testing/batch_cwl/2/cromwell-workdir/logs\n",
      "mkdir -p /scratch1/fs1/dinglab/estorrs/cromwell-data/pecgs/testing/batch_cwl/3/cromwell-workdir/logs\n",
      "mkdir -p /scratch1/fs1/dinglab/estorrs/cromwell-data/pecgs/testing/batch_cwl/4/cromwell-workdir/logs\n",
      "source /opt/ibm/lsfsuite/lsf/conf/lsf.conf\n",
      "export LSF_DOCKER_NETWORK=host\n",
      "export LSF_DOCKER_VOLUMES=\"/storage1/fs1/dinglab/Active/Projects/estorrs/wombat/tests/data/batch_cwl:/storage1/fs1/dinglab/Active/Projects/estorrs/wombat/tests/data/batch_cwl /storage1/fs1/dinglab/Active/Projects/estorrs/pecgs-pipeline:/storage1/fs1/dinglab/Active/Projects/estorrs/pecgs-pipeline /storage1/fs1/dinglab/Active:/storage1/fs1/dinglab/Active /storage1/fs1/m.wyczalkowski/Active:/storage1/fs1/m.wyczalkowski/Active /scratch1/fs1/dinglab/estorrs:/scratch1/fs1/dinglab/estorrs\"\n",
      "bgadd -L 25 /estorrs/test_cromwell_hello\n",
      "bsub -q dinglab-interactive -G compute-dinglab -a 'docker(mwyczalkowski/cromwell-runner)' -g /estorrs/test_cromwell_hello -J 312e02e2-be04-4491-8fed-162f6b00c7f9 -Is '/bin/bash'\n"
     ]
    }
   ],
   "source": [
    "for c in start_commands: print(c)"
   ]
  },
  {
   "cell_type": "code",
   "execution_count": 48,
   "id": "6b9f8192",
   "metadata": {},
   "outputs": [
    {
     "data": {
      "text/plain": [
       "'/usr/bin/java -Dconfig.file=/storage1/fs1/dinglab/Active/Projects/estorrs/wombat/tests/data/batch_cwl/inputs/server-cromwell-config.compute1.dat -jar /usr/local/cromwell/cromwell-47.jar server'"
      ]
     },
     "execution_count": 48,
     "metadata": {},
     "output_type": "execute_result"
    }
   ],
   "source": [
    "cromwell_server_command"
   ]
  },
  {
   "cell_type": "code",
   "execution_count": 49,
   "id": "5b872441",
   "metadata": {},
   "outputs": [
    {
     "data": {
      "text/plain": [
       "[\"bsub -q dinglab -G compute-dinglab -a 'docker(mwyczalkowski/cromwell-runner)' -g /estorrs/test_cromwell_hello -J cromwell_launch_0 -oo /scratch1/fs1/dinglab/estorrs/cromwell-data/pecgs/testing/batch_cwl/logs/0.log '/usr/bin/java -Dconfig.file=/storage1/fs1/dinglab/Active/Projects/estorrs/wombat/tests/data/batch_cwl/inputs/0.cromwell-config-db.compute1.dat -Djavax.net.ssl.trustStorePassword=changeit -Djavax.net.ssl.trustStore=/gscmnt/gc2560/core/genome/cromwell/cromwell.truststore -jar /usr/local/cromwell/cromwell-47.jar run -t cwl -i /storage1/fs1/dinglab/Active/Projects/estorrs/wombat/tests/data/batch_cwl/inputs/hello.0.yaml /storage1/fs1/dinglab/Active/Projects/estorrs/pecgs-pipeline/cwl/hello/hello.cwl'\",\n",
       " \"bsub -q dinglab -G compute-dinglab -a 'docker(mwyczalkowski/cromwell-runner)' -g /estorrs/test_cromwell_hello -J cromwell_launch_1 -oo /scratch1/fs1/dinglab/estorrs/cromwell-data/pecgs/testing/batch_cwl/logs/1.log '/usr/bin/java -Dconfig.file=/storage1/fs1/dinglab/Active/Projects/estorrs/wombat/tests/data/batch_cwl/inputs/1.cromwell-config-db.compute1.dat -Djavax.net.ssl.trustStorePassword=changeit -Djavax.net.ssl.trustStore=/gscmnt/gc2560/core/genome/cromwell/cromwell.truststore -jar /usr/local/cromwell/cromwell-47.jar run -t cwl -i /storage1/fs1/dinglab/Active/Projects/estorrs/wombat/tests/data/batch_cwl/inputs/hello.1.yaml /storage1/fs1/dinglab/Active/Projects/estorrs/pecgs-pipeline/cwl/hello/hello.cwl'\",\n",
       " \"bsub -q dinglab -G compute-dinglab -a 'docker(mwyczalkowski/cromwell-runner)' -g /estorrs/test_cromwell_hello -J cromwell_launch_2 -oo /scratch1/fs1/dinglab/estorrs/cromwell-data/pecgs/testing/batch_cwl/logs/2.log '/usr/bin/java -Dconfig.file=/storage1/fs1/dinglab/Active/Projects/estorrs/wombat/tests/data/batch_cwl/inputs/2.cromwell-config-db.compute1.dat -Djavax.net.ssl.trustStorePassword=changeit -Djavax.net.ssl.trustStore=/gscmnt/gc2560/core/genome/cromwell/cromwell.truststore -jar /usr/local/cromwell/cromwell-47.jar run -t cwl -i /storage1/fs1/dinglab/Active/Projects/estorrs/wombat/tests/data/batch_cwl/inputs/hello.2.yaml /storage1/fs1/dinglab/Active/Projects/estorrs/pecgs-pipeline/cwl/hello/hello.cwl'\",\n",
       " \"bsub -q dinglab -G compute-dinglab -a 'docker(mwyczalkowski/cromwell-runner)' -g /estorrs/test_cromwell_hello -J cromwell_launch_3 -oo /scratch1/fs1/dinglab/estorrs/cromwell-data/pecgs/testing/batch_cwl/logs/3.log '/usr/bin/java -Dconfig.file=/storage1/fs1/dinglab/Active/Projects/estorrs/wombat/tests/data/batch_cwl/inputs/3.cromwell-config-db.compute1.dat -Djavax.net.ssl.trustStorePassword=changeit -Djavax.net.ssl.trustStore=/gscmnt/gc2560/core/genome/cromwell/cromwell.truststore -jar /usr/local/cromwell/cromwell-47.jar run -t cwl -i /storage1/fs1/dinglab/Active/Projects/estorrs/wombat/tests/data/batch_cwl/inputs/hello.3.yaml /storage1/fs1/dinglab/Active/Projects/estorrs/pecgs-pipeline/cwl/hello/hello.cwl'\",\n",
       " \"bsub -q dinglab -G compute-dinglab -a 'docker(mwyczalkowski/cromwell-runner)' -g /estorrs/test_cromwell_hello -J cromwell_launch_4 -oo /scratch1/fs1/dinglab/estorrs/cromwell-data/pecgs/testing/batch_cwl/logs/4.log '/usr/bin/java -Dconfig.file=/storage1/fs1/dinglab/Active/Projects/estorrs/wombat/tests/data/batch_cwl/inputs/4.cromwell-config-db.compute1.dat -Djavax.net.ssl.trustStorePassword=changeit -Djavax.net.ssl.trustStore=/gscmnt/gc2560/core/genome/cromwell/cromwell.truststore -jar /usr/local/cromwell/cromwell-47.jar run -t cwl -i /storage1/fs1/dinglab/Active/Projects/estorrs/wombat/tests/data/batch_cwl/inputs/hello.4.yaml /storage1/fs1/dinglab/Active/Projects/estorrs/pecgs-pipeline/cwl/hello/hello.cwl'\"]"
      ]
     },
     "execution_count": 49,
     "metadata": {},
     "output_type": "execute_result"
    }
   ],
   "source": [
    "run_commands"
   ]
  },
  {
   "cell_type": "code",
   "execution_count": null,
   "id": "00146013",
   "metadata": {},
   "outputs": [],
   "source": []
  }
 ],
 "metadata": {
  "kernelspec": {
   "display_name": "Python 3 (ipykernel)",
   "language": "python",
   "name": "python3"
  },
  "language_info": {
   "codemirror_mode": {
    "name": "ipython",
    "version": 3
   },
   "file_extension": ".py",
   "mimetype": "text/x-python",
   "name": "python",
   "nbconvert_exporter": "python",
   "pygments_lexer": "ipython3",
   "version": "3.8.12"
  }
 },
 "nbformat": 4,
 "nbformat_minor": 5
}
