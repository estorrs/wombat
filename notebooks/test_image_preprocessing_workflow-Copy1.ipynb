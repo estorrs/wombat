{
 "cells": [
  {
   "cell_type": "code",
   "execution_count": 1,
   "id": "5432e572",
   "metadata": {},
   "outputs": [],
   "source": [
    "import os\n",
    "import yaml\n",
    "import json\n",
    "import pandas as pd"
   ]
  },
  {
   "cell_type": "code",
   "execution_count": 2,
   "id": "f966ed05",
   "metadata": {},
   "outputs": [],
   "source": [
    "%load_ext autoreload"
   ]
  },
  {
   "cell_type": "code",
   "execution_count": 3,
   "id": "51cae587",
   "metadata": {},
   "outputs": [],
   "source": [
    "%autoreload 2"
   ]
  },
  {
   "cell_type": "code",
   "execution_count": 4,
   "id": "090ef42e",
   "metadata": {},
   "outputs": [],
   "source": [
    "import wombat.bsub as bsub"
   ]
  },
  {
   "cell_type": "markdown",
   "id": "d57ac9d9",
   "metadata": {},
   "source": [
    "make test input yaml"
   ]
  },
  {
   "cell_type": "code",
   "execution_count": 5,
   "id": "ab037e24",
   "metadata": {},
   "outputs": [],
   "source": [
    "template = {\n",
    "    'specimen_id': 'HT206B1-S1H5_U1_07012023_test',\n",
    "    'ome_tiff': {\n",
    "        'class': 'File',\n",
    "        'path': ''\n",
    "    },\n",
    "    'group': 'HTAN',\n",
    "    'project': 'Multiplex_Imaging'\n",
    "}"
   ]
  },
  {
   "cell_type": "code",
   "execution_count": 8,
   "id": "0a22b3d8",
   "metadata": {},
   "outputs": [],
   "source": [
    "yaml.safe_dump(template, open('../tests/data/image_processing_no_thresholds_workflow/inputs.yaml', 'w'))"
   ]
  },
  {
   "cell_type": "markdown",
   "id": "12560a0a",
   "metadata": {},
   "source": [
    "make cromwell compute1 config"
   ]
  },
  {
   "cell_type": "code",
   "execution_count": 9,
   "id": "907b723c",
   "metadata": {},
   "outputs": [],
   "source": [
    "workflow_root = '/scratch1/fs1/dinglab/estorrs/cromwell-data/pecgs/testing/image_processing_no_thresholds_workflow'\n",
    "output_fp = '../tests/data/image_processing_no_thresholds_workflow/image_processing_no_thresholds_workflow.cromwell-config-db.compute1.dat'\n",
    "bsub.save_compute1_cromwell_template(workflow_root, output_fp)"
   ]
  },
  {
   "cell_type": "code",
   "execution_count": 10,
   "id": "1497e9c1",
   "metadata": {},
   "outputs": [],
   "source": [
    "# !mkdir -p ../tests/data/image_processing_no_thresholds_workflow"
   ]
  },
  {
   "cell_type": "markdown",
   "id": "a474eb61",
   "metadata": {},
   "source": [
    "make execution script"
   ]
  },
  {
   "cell_type": "code",
   "execution_count": 11,
   "id": "f1ab9ce6",
   "metadata": {},
   "outputs": [],
   "source": [
    "TEST_DIR_ROOT = '/storage1/fs1/dinglab/Active/Projects/estorrs/wombat/tests/data/image_processing_no_thresholds_workflow'\n",
    "TOOL_ROOT = '/storage1/fs1/dinglab/Active/Projects/estorrs/multiplex-imaging-pipeline'\n",
    "\n",
    "dconfig = os.path.join(TEST_DIR_ROOT, 'image_processing_no_thresholds_workflow.cromwell-config-db.compute1.dat')\n",
    "cwl_fp = os.path.join(TOOL_ROOT, 'cwl', 'image_processing_no_thresholds_workflow.cwl')\n",
    "inputs_fp = os.path.join(TEST_DIR_ROOT, 'inputs.yaml')\n",
    "volumes = [TEST_DIR_ROOT, TOOL_ROOT, workflow_root, '/storage1/fs1/dinglab', '/scratch1/fs1/dinglab']\n"
   ]
  },
  {
   "cell_type": "code",
   "execution_count": 12,
   "id": "4f4fc2c7",
   "metadata": {},
   "outputs": [
    {
     "data": {
      "text/plain": [
       "{'mem': 10,\n",
       " 'n_processes': 1,\n",
       " 'max_mem': None,\n",
       " 'docker': 'python:3.8',\n",
       " 'queue': 'dinglab',\n",
       " 'gpu_model': 'TeslaV100_SXM2_32GB',\n",
       " 'gpu_mem': '30',\n",
       " 'gpu_num': 1,\n",
       " 'use_gpu': False,\n",
       " 'group': 'compute-dinglab',\n",
       " 'group_name': 'test_cromwell',\n",
       " 'n_concurrent': 10,\n",
       " 'interactive': False,\n",
       " 'username': 'estorrs'}"
      ]
     },
     "execution_count": 12,
     "metadata": {},
     "output_type": "execute_result"
    }
   ],
   "source": [
    "args = bsub.DEFAULT_ARGS\n",
    "args['group_name'] = 'test_cromwell'\n",
    "args"
   ]
  },
  {
   "cell_type": "code",
   "execution_count": 13,
   "id": "9431583c",
   "metadata": {},
   "outputs": [],
   "source": [
    "run_commands = bsub.cromwell_commands(dconfig, cwl_fp, inputs_fp, args, volumes, workflow_root=workflow_root, log_fp='log.txt')\n",
    "filepath = os.path.join('../tests/data/image_processing_no_thresholds_workflow/run_job.sh')\n",
    "bsub.write_command_file(run_commands, filepath)"
   ]
  },
  {
   "cell_type": "code",
   "execution_count": 14,
   "id": "0fd11e67",
   "metadata": {},
   "outputs": [
    {
     "name": "stdout",
     "output_type": "stream",
     "text": [
      "mkdir -p /scratch1/fs1/dinglab/estorrs/cromwell-data/pecgs/testing/image_processing_no_thresholds_workflow/cromwell-workdir/logs\n",
      "source /opt/ibm/lsfsuite/lsf/conf/lsf.conf\n",
      "export LSF_DOCKER_NETWORK=host\n",
      "export LSF_DOCKER_VOLUMES=\"/storage1/fs1/dinglab/Active/Projects/estorrs/wombat/tests/data/image_processing_no_thresholds_workflow:/storage1/fs1/dinglab/Active/Projects/estorrs/wombat/tests/data/image_processing_no_thresholds_workflow /storage1/fs1/dinglab/Active/Projects/estorrs/multiplex-imaging-pipeline:/storage1/fs1/dinglab/Active/Projects/estorrs/multiplex-imaging-pipeline /scratch1/fs1/dinglab/estorrs/cromwell-data/pecgs/testing/image_processing_no_thresholds_workflow:/scratch1/fs1/dinglab/estorrs/cromwell-data/pecgs/testing/image_processing_no_thresholds_workflow /storage1/fs1/dinglab:/storage1/fs1/dinglab /scratch1/fs1/dinglab:/scratch1/fs1/dinglab\"\n",
      "bgadd -L 10 /estorrs/test_cromwell\n",
      "export PATH=\"/opt/java/openjdk/bin:$PATH\"\n",
      "bsub -R 'select[mem>10GB] rusage[mem=10GB] span[hosts=1]' -M 11GB -n 1 -q dinglab -G compute-dinglab -a 'docker(estorrs/cromwell-runner:58)' -g /estorrs/test_cromwell -J ea5e4bf2-2348-440b-96d7-ef1184873dd3 -oo log.txt '/opt/java/openjdk/bin/java -Dconfig.file=/storage1/fs1/dinglab/Active/Projects/estorrs/wombat/tests/data/image_processing_no_thresholds_workflow/image_processing_no_thresholds_workflow.cromwell-config-db.compute1.dat -jar /app/cromwell-78-38cd360.jar run -t cwl -i /storage1/fs1/dinglab/Active/Projects/estorrs/wombat/tests/data/image_processing_no_thresholds_workflow/inputs.yaml /storage1/fs1/dinglab/Active/Projects/estorrs/multiplex-imaging-pipeline/cwl/image_processing_no_thresholds_workflow.cwl'\n"
     ]
    }
   ],
   "source": [
    "for c in run_commands: print(c)"
   ]
  },
  {
   "cell_type": "code",
   "execution_count": null,
   "id": "91530674",
   "metadata": {},
   "outputs": [],
   "source": []
  },
  {
   "cell_type": "code",
   "execution_count": null,
   "id": "0bd6d2fc",
   "metadata": {},
   "outputs": [],
   "source": []
  }
 ],
 "metadata": {
  "kernelspec": {
   "display_name": "Python 3 (ipykernel)",
   "language": "python",
   "name": "python3"
  },
  "language_info": {
   "codemirror_mode": {
    "name": "ipython",
    "version": 3
   },
   "file_extension": ".py",
   "mimetype": "text/x-python",
   "name": "python",
   "nbconvert_exporter": "python",
   "pygments_lexer": "ipython3",
   "version": "3.9.16"
  }
 },
 "nbformat": 4,
 "nbformat_minor": 5
}
