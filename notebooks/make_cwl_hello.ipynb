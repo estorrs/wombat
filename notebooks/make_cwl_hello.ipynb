{
 "cells": [
  {
   "cell_type": "code",
   "execution_count": 23,
   "id": "9d116b7c",
   "metadata": {},
   "outputs": [],
   "source": [
    "import os\n",
    "import yaml\n",
    "import json\n",
    "import pandas as pd\n",
    "from pathlib import Path"
   ]
  },
  {
   "cell_type": "code",
   "execution_count": 24,
   "id": "f42a991a",
   "metadata": {},
   "outputs": [],
   "source": [
    "cwl_dir = '/home/estorrs/pecgs-pipeline/cwl/hello'\n",
    "Path(cwl_dir).mkdir(parents=True, exist_ok=True)"
   ]
  },
  {
   "cell_type": "markdown",
   "id": "63205254",
   "metadata": {},
   "source": [
    "looking at another template for reference"
   ]
  },
  {
   "cell_type": "code",
   "execution_count": 2,
   "id": "6c51b278",
   "metadata": {},
   "outputs": [
    {
     "data": {
      "text/plain": [
       "{'sample_barcode': 'a_string',\n",
       " 'centromere': {'class': 'File', 'path': 'a/file/path'},\n",
       " 'chrlist': {'class': 'File', 'path': 'a/file/path'},\n",
       " 'Canonical_BED': {'class': 'File', 'path': 'a/file/path'},\n",
       " 'assembly': 'a_string',\n",
       " 'vep_cache_version': 'a_string',\n",
       " 'vep_cache_gz': {'class': 'File', 'path': 'a/file/path'},\n",
       " 'ROI_BED': {'class': 'File', 'path': 'a/file/path'},\n",
       " 'varscan_filter_config': {'class': 'File', 'path': 'a/file/path'},\n",
       " 'pindel_filter_config': {'class': 'File', 'path': 'a/file/path'},\n",
       " 'pindel_config_template': {'class': 'File', 'path': 'a/file/path'},\n",
       " 'gatk_filter_config': {'class': 'File', 'path': 'a/file/path'},\n",
       " 'reference': {'class': 'File', 'path': 'a/file/path'},\n",
       " 'bam': {'class': 'File', 'path': 'a/file/path'}}"
      ]
     },
     "execution_count": 2,
     "metadata": {},
     "output_type": "execute_result"
    }
   ],
   "source": [
    "t = yaml.safe_load(open('/home/estorrs/TinJasmine/cwl/template.TinJasmine.yaml'))\n",
    "t"
   ]
  },
  {
   "cell_type": "markdown",
   "id": "b0303f60",
   "metadata": {},
   "source": [
    "test invocation"
   ]
  },
  {
   "cell_type": "code",
   "execution_count": 32,
   "id": "fc44386a",
   "metadata": {},
   "outputs": [],
   "source": [
    "template = {\n",
    "    'message': '/path/to/file'\n",
    "}"
   ]
  },
  {
   "cell_type": "code",
   "execution_count": 33,
   "id": "03c4deeb",
   "metadata": {},
   "outputs": [],
   "source": [
    "yaml.safe_dump(template, open(os.path.join(cwl_dir, 'template.hello.yaml'), 'w'))"
   ]
  },
  {
   "cell_type": "code",
   "execution_count": null,
   "id": "1d782150",
   "metadata": {},
   "outputs": [],
   "source": []
  },
  {
   "cell_type": "code",
   "execution_count": null,
   "id": "4358590e",
   "metadata": {},
   "outputs": [],
   "source": []
  },
  {
   "cell_type": "markdown",
   "id": "bf8e38fc",
   "metadata": {},
   "source": [
    "make cwl file"
   ]
  },
  {
   "cell_type": "code",
   "execution_count": 34,
   "id": "e8808235",
   "metadata": {},
   "outputs": [],
   "source": [
    "cwl = {\n",
    "    'class': 'CommandLineTool',\n",
    "    'cwlVersion': 'v1.0',\n",
    "    '$namespaces': {'sbg': 'https://www.sevenbridges.com/'},\n",
    "    'id': 'hello',\n",
    "    'label': 'hello',\n",
    "    'baseCommand': ['cp'],\n",
    "    'inputs': [\n",
    "        {\n",
    "            'id': 'message',\n",
    "            'type': 'File',\n",
    "            'inputBinding': {\n",
    "                'position': '1'\n",
    "            }\n",
    "        },\n",
    "    ],\n",
    "    'outputs': [\n",
    "        {\n",
    "            'id': 'output_message',\n",
    "            'type': 'File',\n",
    "            'outputBinding': {'glob': 'hello.txt'},     \n",
    "        },\n",
    "    ],\n",
    "    'arguments': [\n",
    "        {\n",
    "            'position': 2,\n",
    "            'valueFrom': '/hehello.txt'\n",
    "        },\n",
    "    ],\n",
    "    'requirements': [\n",
    "        {\n",
    "            'class': 'DockerRequirement',\n",
    "            'dockerPull': 'estorrs/hello:0.0.1'\n",
    "        },\n",
    "        {\n",
    "            'class': 'ResourceRequirement',\n",
    "            'ramMin': 2000\n",
    "        }\n",
    "    ]\n",
    "}"
   ]
  },
  {
   "cell_type": "code",
   "execution_count": 35,
   "id": "c34f7ed6",
   "metadata": {},
   "outputs": [],
   "source": [
    "yaml.safe_dump(cwl, open(os.path.join(cwl_dir, 'hello.cwl'), 'w'))"
   ]
  },
  {
   "cell_type": "code",
   "execution_count": null,
   "id": "77b64330",
   "metadata": {},
   "outputs": [],
   "source": []
  }
 ],
 "metadata": {
  "kernelspec": {
   "display_name": "Python 3 (ipykernel)",
   "language": "python",
   "name": "python3"
  },
  "language_info": {
   "codemirror_mode": {
    "name": "ipython",
    "version": 3
   },
   "file_extension": ".py",
   "mimetype": "text/x-python",
   "name": "python",
   "nbconvert_exporter": "python",
   "pygments_lexer": "ipython3",
   "version": "3.8.12"
  }
 },
 "nbformat": 4,
 "nbformat_minor": 5
}
