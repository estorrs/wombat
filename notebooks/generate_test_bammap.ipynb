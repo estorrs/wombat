{
 "cells": [
  {
   "cell_type": "code",
   "execution_count": 7,
   "id": "2ee89933",
   "metadata": {},
   "outputs": [],
   "source": [
    "import os\n",
    "import re\n",
    "import pandas as pd\n",
    "import yaml\n",
    "import uuid\n",
    "from pathlib import Path"
   ]
  },
  {
   "cell_type": "code",
   "execution_count": null,
   "id": "0378e646",
   "metadata": {},
   "outputs": [],
   "source": []
  },
  {
   "cell_type": "code",
   "execution_count": null,
   "id": "2b016851",
   "metadata": {},
   "outputs": [],
   "source": []
  },
  {
   "cell_type": "code",
   "execution_count": null,
   "id": "10416b04",
   "metadata": {},
   "outputs": [],
   "source": []
  },
  {
   "cell_type": "markdown",
   "id": "bda15eae",
   "metadata": {},
   "source": [
    "#### CPTAC style bammap"
   ]
  },
  {
   "cell_type": "code",
   "execution_count": 3,
   "id": "48201c49",
   "metadata": {},
   "outputs": [],
   "source": [
    "# sample_name\tcase\tdisease\texperimental_strategy\tsample_type\tdata_path\tfilesize\tdata_format\treference\tUUID\tsystem\n",
    "\n"
   ]
  },
  {
   "cell_type": "code",
   "execution_count": 15,
   "id": "f0252772",
   "metadata": {},
   "outputs": [
    {
     "data": {
      "text/plain": [
       "{'id': 'HT191P1-S1H1A3Y3',\n",
       " 'rna-seq': {'tumor': {'R1': {'filepath': '/scratch1/fs1/dinglab/estorrs/pecgs_resources/test_samples/HT191P1-S1H1A3Y3/rna-seq/ht191p1-s1h1a3y3e1_1.AAGGTGTTAG-TAAGCGCGTG.HFWJGDSXY_AAGGTGTTAG-TAAGCGCGTG_L001_R1.fastq.gz'},\n",
       "   'R2': {'filepath': '/scratch1/fs1/dinglab/estorrs/pecgs_resources/test_samples/HT191P1-S1H1A3Y3/rna-seq/ht191p1-s1h1a3y3e1_1.AAGGTGTTAG-TAAGCGCGTG.HFWJGDSXY_AAGGTGTTAG-TAAGCGCGTG_L001_R2.fastq.gz'}}},\n",
       " 'wxs': {'normal': {'R1': {'filepath': '/scratch1/fs1/dinglab/estorrs/pecgs_resources/test_samples/HT191P1-S1H1A3Y3/wxs/CATTATCGCT-CTTGAAGGTT_S34_L001_R1_001.fastq.gz'},\n",
       "   'R2': {'filepath': '/scratch1/fs1/dinglab/estorrs/pecgs_resources/test_samples/HT191P1-S1H1A3Y3/wxs/CATTATCGCT-CTTGAAGGTT_S34_L001_R2_001.fastq.gz'}},\n",
       "  'tumor': {'R1': {'filepath': '/scratch1/fs1/dinglab/estorrs/pecgs_resources/test_samples/HT191P1-S1H1A3Y3/wxs/CCAGTAGCGT-ATGTATTGGC_S53_L002_R1_001.fastq.gz'},\n",
       "   'R2': {'filepath': '/scratch1/fs1/dinglab/estorrs/pecgs_resources/test_samples/HT191P1-S1H1A3Y3/wxs/CCAGTAGCGT-ATGTATTGGC_S53_L002_R2_001.fastq.gz'}}}}"
      ]
     },
     "execution_count": 15,
     "metadata": {},
     "output_type": "execute_result"
    }
   ],
   "source": [
    "m = yaml.safe_load(open('../tests/data/pecgs_pipeline/HT191P1-S1H1A3Y3.yaml'))\n",
    "m"
   ]
  },
  {
   "cell_type": "code",
   "execution_count": 16,
   "id": "b7193dcb",
   "metadata": {},
   "outputs": [
    {
     "data": {
      "text/html": [
       "<div>\n",
       "<style scoped>\n",
       "    .dataframe tbody tr th:only-of-type {\n",
       "        vertical-align: middle;\n",
       "    }\n",
       "\n",
       "    .dataframe tbody tr th {\n",
       "        vertical-align: top;\n",
       "    }\n",
       "\n",
       "    .dataframe thead th {\n",
       "        text-align: right;\n",
       "    }\n",
       "</style>\n",
       "<table border=\"1\" class=\"dataframe\">\n",
       "  <thead>\n",
       "    <tr style=\"text-align: right;\">\n",
       "      <th></th>\n",
       "      <th>sample_name</th>\n",
       "      <th>case</th>\n",
       "      <th>disease</th>\n",
       "      <th>experimental_strategy</th>\n",
       "      <th>sample_type</th>\n",
       "      <th>data_path</th>\n",
       "      <th>filesize</th>\n",
       "      <th>data_format</th>\n",
       "      <th>reference</th>\n",
       "      <th>UUID</th>\n",
       "      <th>system</th>\n",
       "    </tr>\n",
       "  </thead>\n",
       "  <tbody>\n",
       "    <tr>\n",
       "      <th>0</th>\n",
       "      <td>HT191P1-S1H1A3Y3.WXS.R1.T</td>\n",
       "      <td>HT191P1-S1H1A3Y3</td>\n",
       "      <td>PDAC</td>\n",
       "      <td>WXS</td>\n",
       "      <td>tumor</td>\n",
       "      <td>/scratch1/fs1/dinglab/estorrs/pecgs_resources/...</td>\n",
       "      <td>12345678</td>\n",
       "      <td>FASTQ</td>\n",
       "      <td>NA</td>\n",
       "      <td>78777884-505c-4b2f-9170-107662c1effa</td>\n",
       "      <td>storage1</td>\n",
       "    </tr>\n",
       "    <tr>\n",
       "      <th>1</th>\n",
       "      <td>HT191P1-S1H1A3Y3.WXS.R2.T</td>\n",
       "      <td>HT191P1-S1H1A3Y3</td>\n",
       "      <td>PDAC</td>\n",
       "      <td>WXS</td>\n",
       "      <td>tumor</td>\n",
       "      <td>/scratch1/fs1/dinglab/estorrs/pecgs_resources/...</td>\n",
       "      <td>12345678</td>\n",
       "      <td>FASTQ</td>\n",
       "      <td>NA</td>\n",
       "      <td>2699158f-25fe-4f19-a7cf-2a4e1cf687b3</td>\n",
       "      <td>storage1</td>\n",
       "    </tr>\n",
       "    <tr>\n",
       "      <th>2</th>\n",
       "      <td>HT191P1-S1H1A3Y3.WXS.R1.N</td>\n",
       "      <td>HT191P1-S1H1A3Y3</td>\n",
       "      <td>PDAC</td>\n",
       "      <td>WXS</td>\n",
       "      <td>blood_normal</td>\n",
       "      <td>/scratch1/fs1/dinglab/estorrs/pecgs_resources/...</td>\n",
       "      <td>12345678</td>\n",
       "      <td>FASTQ</td>\n",
       "      <td>NA</td>\n",
       "      <td>eafb3178-e459-44c0-a374-8e17a8107fce</td>\n",
       "      <td>storage1</td>\n",
       "    </tr>\n",
       "    <tr>\n",
       "      <th>3</th>\n",
       "      <td>HT191P1-S1H1A3Y3.WXS.R2.N</td>\n",
       "      <td>HT191P1-S1H1A3Y3</td>\n",
       "      <td>PDAC</td>\n",
       "      <td>WXS</td>\n",
       "      <td>blood_normal</td>\n",
       "      <td>/scratch1/fs1/dinglab/estorrs/pecgs_resources/...</td>\n",
       "      <td>12345678</td>\n",
       "      <td>FASTQ</td>\n",
       "      <td>NA</td>\n",
       "      <td>9923349f-dc3c-40d4-a097-803c4828f732</td>\n",
       "      <td>storage1</td>\n",
       "    </tr>\n",
       "    <tr>\n",
       "      <th>4</th>\n",
       "      <td>HT191P1-S1H1A3Y3.RNA-seq.R1.T</td>\n",
       "      <td>HT191P1-S1H1A3Y3</td>\n",
       "      <td>PDAC</td>\n",
       "      <td>RNA-seq</td>\n",
       "      <td>tumor</td>\n",
       "      <td>/scratch1/fs1/dinglab/estorrs/pecgs_resources/...</td>\n",
       "      <td>12345678</td>\n",
       "      <td>FASTQ</td>\n",
       "      <td>NA</td>\n",
       "      <td>fb1f4b8a-a56b-4bc6-b059-864c2b066dc8</td>\n",
       "      <td>storage1</td>\n",
       "    </tr>\n",
       "    <tr>\n",
       "      <th>5</th>\n",
       "      <td>HT191P1-S1H1A3Y3.RNA-seq.R2.T</td>\n",
       "      <td>HT191P1-S1H1A3Y3</td>\n",
       "      <td>PDAC</td>\n",
       "      <td>RNA-seq</td>\n",
       "      <td>tumor</td>\n",
       "      <td>/scratch1/fs1/dinglab/estorrs/pecgs_resources/...</td>\n",
       "      <td>12345678</td>\n",
       "      <td>FASTQ</td>\n",
       "      <td>NA</td>\n",
       "      <td>80ce8102-e8a4-4529-85b0-701a4dc022ea</td>\n",
       "      <td>storage1</td>\n",
       "    </tr>\n",
       "  </tbody>\n",
       "</table>\n",
       "</div>"
      ],
      "text/plain": [
       "                     sample_name              case disease  \\\n",
       "0      HT191P1-S1H1A3Y3.WXS.R1.T  HT191P1-S1H1A3Y3    PDAC   \n",
       "1      HT191P1-S1H1A3Y3.WXS.R2.T  HT191P1-S1H1A3Y3    PDAC   \n",
       "2      HT191P1-S1H1A3Y3.WXS.R1.N  HT191P1-S1H1A3Y3    PDAC   \n",
       "3      HT191P1-S1H1A3Y3.WXS.R2.N  HT191P1-S1H1A3Y3    PDAC   \n",
       "4  HT191P1-S1H1A3Y3.RNA-seq.R1.T  HT191P1-S1H1A3Y3    PDAC   \n",
       "5  HT191P1-S1H1A3Y3.RNA-seq.R2.T  HT191P1-S1H1A3Y3    PDAC   \n",
       "\n",
       "  experimental_strategy   sample_type  \\\n",
       "0                   WXS         tumor   \n",
       "1                   WXS         tumor   \n",
       "2                   WXS  blood_normal   \n",
       "3                   WXS  blood_normal   \n",
       "4               RNA-seq         tumor   \n",
       "5               RNA-seq         tumor   \n",
       "\n",
       "                                           data_path  filesize data_format  \\\n",
       "0  /scratch1/fs1/dinglab/estorrs/pecgs_resources/...  12345678       FASTQ   \n",
       "1  /scratch1/fs1/dinglab/estorrs/pecgs_resources/...  12345678       FASTQ   \n",
       "2  /scratch1/fs1/dinglab/estorrs/pecgs_resources/...  12345678       FASTQ   \n",
       "3  /scratch1/fs1/dinglab/estorrs/pecgs_resources/...  12345678       FASTQ   \n",
       "4  /scratch1/fs1/dinglab/estorrs/pecgs_resources/...  12345678       FASTQ   \n",
       "5  /scratch1/fs1/dinglab/estorrs/pecgs_resources/...  12345678       FASTQ   \n",
       "\n",
       "  reference                                  UUID    system  \n",
       "0        NA  78777884-505c-4b2f-9170-107662c1effa  storage1  \n",
       "1        NA  2699158f-25fe-4f19-a7cf-2a4e1cf687b3  storage1  \n",
       "2        NA  eafb3178-e459-44c0-a374-8e17a8107fce  storage1  \n",
       "3        NA  9923349f-dc3c-40d4-a097-803c4828f732  storage1  \n",
       "4        NA  fb1f4b8a-a56b-4bc6-b059-864c2b066dc8  storage1  \n",
       "5        NA  80ce8102-e8a4-4529-85b0-701a4dc022ea  storage1  "
      ]
     },
     "execution_count": 16,
     "metadata": {},
     "output_type": "execute_result"
    }
   ],
   "source": [
    "data = {\n",
    "    'sample_name': ['HT191P1-S1H1A3Y3.WXS.R1.T', 'HT191P1-S1H1A3Y3.WXS.R2.T', 'HT191P1-S1H1A3Y3.WXS.R1.N', 'HT191P1-S1H1A3Y3.WXS.R2.N', 'HT191P1-S1H1A3Y3.RNA-seq.R1.T', 'HT191P1-S1H1A3Y3.RNA-seq.R2.T'],\n",
    "    'case': ['HT191P1-S1H1A3Y3'] * 6,\n",
    "    'disease': ['PDAC'] * 6,\n",
    "    'experimental_strategy': ['WXS', 'WXS', 'WXS', 'WXS', 'RNA-seq', 'RNA-seq'],\n",
    "    'sample_type': ['tumor', 'tumor', 'blood_normal', 'blood_normal', 'tumor', 'tumor'],\n",
    "    'data_path': [m['wxs']['tumor']['R1']['filepath'], m['wxs']['tumor']['R2']['filepath'], m['wxs']['normal']['R1']['filepath'], m['wxs']['normal']['R2']['filepath'], m['rna-seq']['tumor']['R1']['filepath'], m['rna-seq']['tumor']['R2']['filepath']],\n",
    "    'filesize': ['12345678'] * 6,\n",
    "    'data_format': ['FASTQ'] * 6,\n",
    "    'reference': ['NA'] * 6,\n",
    "    'UUID': [str(uuid.uuid4()) for i in range(6)],\n",
    "    'system': ['storage1'] * 6\n",
    "}\n",
    "bammap = pd.DataFrame.from_dict(data)\n",
    "bammap\n"
   ]
  },
  {
   "cell_type": "code",
   "execution_count": 17,
   "id": "529e564d",
   "metadata": {},
   "outputs": [],
   "source": [
    "bammap.to_csv('../tests/data/pecgs_pipeline/input.bammap', sep='\\t', index=False)"
   ]
  },
  {
   "cell_type": "code",
   "execution_count": null,
   "id": "29116cc5",
   "metadata": {},
   "outputs": [],
   "source": []
  }
 ],
 "metadata": {
  "kernelspec": {
   "display_name": "Python 3 (ipykernel)",
   "language": "python",
   "name": "python3"
  },
  "language_info": {
   "codemirror_mode": {
    "name": "ipython",
    "version": 3
   },
   "file_extension": ".py",
   "mimetype": "text/x-python",
   "name": "python",
   "nbconvert_exporter": "python",
   "pygments_lexer": "ipython3",
   "version": "3.8.12"
  }
 },
 "nbformat": 4,
 "nbformat_minor": 5
}
