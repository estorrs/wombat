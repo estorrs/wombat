{
 "cells": [
  {
   "cell_type": "code",
   "execution_count": 1,
   "id": "7f760e82",
   "metadata": {},
   "outputs": [],
   "source": [
    "import os\n",
    "import re\n",
    "import pandas as pd\n",
    "import yaml\n",
    "import uuid"
   ]
  },
  {
   "cell_type": "markdown",
   "id": "85690a09",
   "metadata": {},
   "source": [
    "###### save defaults"
   ]
  },
  {
   "cell_type": "code",
   "execution_count": 2,
   "id": "9bf067e2",
   "metadata": {},
   "outputs": [],
   "source": [
    "resources_dir = '/storage1/fs1/dinglab/Active/Projects/estorrs/multiplex-imaging-pipeline'"
   ]
  },
  {
   "cell_type": "code",
   "execution_count": 3,
   "id": "21872288",
   "metadata": {},
   "outputs": [],
   "source": [
    "storage1_defaults = {    \n",
    "}"
   ]
  },
  {
   "cell_type": "code",
   "execution_count": 4,
   "id": "07023c90",
   "metadata": {},
   "outputs": [],
   "source": [
    "yaml.safe_dump(storage1_defaults, open('/diskmnt/Projects/Users/estorrs/multiplex-imaging-pipeline/cwl/defaults.full_imaging_workflow.yaml', 'w'))\n"
   ]
  },
  {
   "cell_type": "code",
   "execution_count": null,
   "id": "03ec54fb",
   "metadata": {},
   "outputs": [],
   "source": []
  }
 ],
 "metadata": {
  "kernelspec": {
   "display_name": "Python 3 (ipykernel)",
   "language": "python",
   "name": "python3"
  },
  "language_info": {
   "codemirror_mode": {
    "name": "ipython",
    "version": 3
   },
   "file_extension": ".py",
   "mimetype": "text/x-python",
   "name": "python",
   "nbconvert_exporter": "python",
   "pygments_lexer": "ipython3",
   "version": "3.9.16"
  }
 },
 "nbformat": 4,
 "nbformat_minor": 5
}
