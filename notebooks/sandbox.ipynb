{
 "cells": [
  {
   "cell_type": "code",
   "execution_count": 26,
   "id": "46df767e",
   "metadata": {},
   "outputs": [],
   "source": [
    "import os\n",
    "import re\n",
    "import uuid\n",
    "from pathlib import Path"
   ]
  },
  {
   "cell_type": "code",
   "execution_count": 18,
   "id": "535a843a",
   "metadata": {},
   "outputs": [],
   "source": [
    "%load_ext autoreload"
   ]
  },
  {
   "cell_type": "code",
   "execution_count": 19,
   "id": "3b7ee463",
   "metadata": {},
   "outputs": [],
   "source": [
    "%autoreload 2"
   ]
  },
  {
   "cell_type": "code",
   "execution_count": 20,
   "id": "9b9eebef",
   "metadata": {},
   "outputs": [],
   "source": [
    "import wombat.bsub as bsub"
   ]
  },
  {
   "cell_type": "code",
   "execution_count": 27,
   "id": "8214bf04",
   "metadata": {},
   "outputs": [],
   "source": [
    "def map_host_command(h='host'):\n",
    "    return f'export LSF_DOCKER_NETWORK={h}'\n",
    "\n",
    "def map_volumes_command(dirs):\n",
    "    vol_str = ' '.join(\n",
    "        [f'{d}:{d}' for d in dirs]\n",
    "    )\n",
    "    return f'export LSF_DOCKER_VOLUMES=\"{vol_str}\"'"
   ]
  },
  {
   "cell_type": "code",
   "execution_count": 3,
   "id": "9c816cd7",
   "metadata": {},
   "outputs": [
    {
     "data": {
      "text/plain": [
       "'export LSF_DOCKER_VOLUMES=\"/path/to/here:/path/to/here path/to/there:path/to/there\"'"
      ]
     },
     "execution_count": 3,
     "metadata": {},
     "output_type": "execute_result"
    }
   ],
   "source": [
    "dirs = [\n",
    "    '/path/to/here', 'path/to/there'\n",
    "]\n",
    "map_volumes(dirs)"
   ]
  },
  {
   "cell_type": "code",
   "execution_count": 13,
   "id": "2f03f389",
   "metadata": {},
   "outputs": [],
   "source": [
    "def create_job_group_command(group_name,  n=10, username='estorrs'):\n",
    "    return f'bgadd -L {n} /{username}/{group_name}'\n",
    "    \n",
    "def job_group_status_command(group_name, username='estorrs'):\n",
    "    return f'bjgroup -s /{username}/{group_name}'"
   ]
  },
  {
   "cell_type": "code",
   "execution_count": 14,
   "id": "4e974e9a",
   "metadata": {},
   "outputs": [
    {
     "data": {
      "text/plain": [
       "'bgadd -L 10 /estorrs/test_group'"
      ]
     },
     "execution_count": 14,
     "metadata": {},
     "output_type": "execute_result"
    }
   ],
   "source": [
    "create_job_group_command('test_group')"
   ]
  },
  {
   "cell_type": "markdown",
   "id": "77de5ac2",
   "metadata": {},
   "source": [
    "bsub -R 'select[mem>100000] rusage[mem=100000] span[hosts=1]' -M 30000000 -q dinglab -G compute-dinglab -o job.output -oo job.log -a 'docker(python:3.7)' 'bash blah.sh`"
   ]
  },
  {
   "cell_type": "markdown",
   "id": "b37b03c8",
   "metadata": {},
   "source": [
    "bsub -G ${group_name} -q foo-condo -R 'rusage[mem=8GB]' -M 6GB -a 'docker(alpine)' /bin/true"
   ]
  },
  {
   "cell_type": "markdown",
   "id": "d9e36170",
   "metadata": {},
   "source": [
    "bsub -R 'select[mem>100000] rusage[mem=100000] span[hosts=1]' -M 100000000 -Is -G compute-dinglab -q dinglab-interactive -a 'docker(python:3.7)' /bin/bash"
   ]
  },
  {
   "cell_type": "code",
   "execution_count": 5,
   "id": "f7aefb2a",
   "metadata": {},
   "outputs": [],
   "source": [
    "# bsub -g /${compute_username}/${group_name} -J ${job_name}"
   ]
  },
  {
   "cell_type": "code",
   "execution_count": 87,
   "id": "e9a05e08",
   "metadata": {},
   "outputs": [],
   "source": [
    "def bsub_command(command='/bin/bash', mem=10, max_mem=None, docker='python:3.8', queue='dinglab',\n",
    "                        group='compute-dinglab', group_name=None, job_name=None, interactive=False,\n",
    "                        username='estorrs', log_fp=None):\n",
    "    \n",
    "    if max_mem is None:\n",
    "        max_mem = mem\n",
    "        \n",
    "    if interactive and queue != f'{queue}-interactive':\n",
    "        queue = f'{queue}-interactive'\n",
    "    \n",
    "    base = f'bsub'\n",
    "    if mem is not None:\n",
    "        base += ' -R \\'rusage[mem={mem}GB]\\' -M {max_mem}GB'\n",
    "        \n",
    "    if queue is not None:\n",
    "        base += ' -q {queue}'\n",
    "    \n",
    "    if group is not None:\n",
    "        base += ' -G {group}'\n",
    "    \n",
    "    if docker is not None:\n",
    "        base += f' -a \\'docker({docker})\\''\n",
    "    \n",
    "    if group_name is not None:\n",
    "        job_name = str(uuid.UUID4()) if job_name is None else job_name\n",
    "        base += f' -g /{username}/{group_name} -J {job_name}'\n",
    "        \n",
    "    if log_fp is not None:\n",
    "        base += f' -oo {log_fp}'\n",
    "        \n",
    "    if interactive:\n",
    "        base += ' -Is'\n",
    "    \n",
    "    if command is not None:\n",
    "        base += f' \\'{command}\\''\n",
    "    \n",
    "    return base\n",
    "        \n",
    "    "
   ]
  },
  {
   "cell_type": "code",
   "execution_count": 86,
   "id": "1ba37999",
   "metadata": {},
   "outputs": [
    {
     "data": {
      "text/plain": [
       "\"bsub -R 'rusage[mem={mem}GB]' -M {max_mem}GB -q {queue} -G {group} -a 'docker(python:3.8)' '/bin/bash'\""
      ]
     },
     "execution_count": 86,
     "metadata": {},
     "output_type": "execute_result"
    }
   ],
   "source": [
    "bsub_command()"
   ]
  },
  {
   "cell_type": "code",
   "execution_count": 17,
   "id": "ecd5fabb",
   "metadata": {},
   "outputs": [
    {
     "data": {
      "text/plain": [
       "\"bsub -R 'rusage[mem=10GB]' -M 10GB -q dinglab-interactive -G compute-dinglab -a 'docker(python:3.8)' -Is '/bin/bash'\""
      ]
     },
     "execution_count": 17,
     "metadata": {},
     "output_type": "execute_result"
    }
   ],
   "source": [
    "bsub_command(interactive=True)"
   ]
  },
  {
   "cell_type": "code",
   "execution_count": 21,
   "id": "922663d1",
   "metadata": {},
   "outputs": [
    {
     "data": {
      "text/plain": [
       "\"bsub -R 'rusage[mem=10GB]' -M 10GB -q dinglab-interactive -G compute-dinglab -a 'docker(python:3.8)' -Is '/bin/bash'\""
      ]
     },
     "execution_count": 21,
     "metadata": {},
     "output_type": "execute_result"
    }
   ],
   "source": [
    "bsub.bsub_command(interactive=True)"
   ]
  },
  {
   "cell_type": "code",
   "execution_count": null,
   "id": "25ae4c89",
   "metadata": {},
   "outputs": [],
   "source": []
  },
  {
   "cell_type": "code",
   "execution_count": null,
   "id": "4a12d3c0",
   "metadata": {},
   "outputs": [],
   "source": []
  },
  {
   "cell_type": "code",
   "execution_count": null,
   "id": "6d6b821c",
   "metadata": {},
   "outputs": [],
   "source": []
  },
  {
   "cell_type": "code",
   "execution_count": null,
   "id": "d5a9676f",
   "metadata": {},
   "outputs": [],
   "source": []
  },
  {
   "cell_type": "code",
   "execution_count": 25,
   "id": "4b371ed8",
   "metadata": {},
   "outputs": [
    {
     "data": {
      "text/plain": [
       "{'mem': 10,\n",
       " 'max_mem': None,\n",
       " 'docker': 'python:3.8',\n",
       " 'queue': 'dinglab',\n",
       " 'group': 'compute-dinglab',\n",
       " 'group_name': None,\n",
       " 'n_concurrent': 10,\n",
       " 'interactive': False,\n",
       " 'username': 'estorrs'}"
      ]
     },
     "execution_count": 25,
     "metadata": {},
     "output_type": "execute_result"
    }
   ],
   "source": [
    "args = bsub.DEFAULT_ARGS\n",
    "args"
   ]
  },
  {
   "cell_type": "code",
   "execution_count": 35,
   "id": "a5961166",
   "metadata": {},
   "outputs": [],
   "source": [
    "commands = ['/bin/bash hello wooo', '/bin/bash hello bbb']\n",
    "job_names = ['wo', 'bb']\n",
    "volumes = ['/path/to/dir1', '/path/to/dir2']\n",
    "log_dir = '/path/to/log_dir'\n",
    "args['group_name'] = 'test_group'"
   ]
  },
  {
   "cell_type": "code",
   "execution_count": 60,
   "id": "8204d57c",
   "metadata": {},
   "outputs": [],
   "source": [
    "def housekeeping_priors(log_dir, args, volumes=None):\n",
    "    if volumes is None:\n",
    "        volumes = []\n",
    "    \n",
    "    try:\n",
    "        Path(log_dir).mkdir(parents=True, exist_ok=True)\n",
    "    except:\n",
    "        print(f'Failed to create log dir {log_dir}')\n",
    "\n",
    "    if log_dir not in volumes:\n",
    "        volumes.append(log_dir)\n",
    "        \n",
    "    if volumes:\n",
    "        mv_command = map_volumes_command(volumes)\n",
    "    else:\n",
    "        mv_command = None\n",
    "    \n",
    "    if args['group_name'] is not None:\n",
    "        jg_command = create_job_group_command(\n",
    "            args['group_name'],  n=args['n_concurrent'], username=args['username'])\n",
    "    else:\n",
    "        jg_command = None\n",
    "        \n",
    "    return mv_command, jg_command\n",
    "\n",
    "def batch_bsub_commands(commands, job_names, log_dir, args, volumes=None):\n",
    "    mv_command, jg_command = housekeeping_priors(log_dir, args, volumes=volumes)\n",
    "            \n",
    "    bsub_commands = []\n",
    "    for command, job_name in zip(commands, job_names):\n",
    "        log_fp = os.path.join(log_dir, f'{job_name}.txt')\n",
    "\n",
    "        c = bsub_command(\n",
    "            command=command, mem=args['mem'], max_mem=args['max_mem'],\n",
    "            docker=args['docker'], queue=args['queue'], group=args['group'],\n",
    "            group_name=args['group_name'], job_name=job_name, interactive=args['interactive'],\n",
    "            log_fp=log_fp, username=args['username'])\n",
    "\n",
    "        bsub_commands.append(c)\n",
    "        \n",
    "    all_commands = [c for c in [mv_command, jg_command]\n",
    "                    if c is not None]\n",
    "    all_commands += bsub_commands\n",
    "        \n",
    "    return all_commands"
   ]
  },
  {
   "cell_type": "code",
   "execution_count": 61,
   "id": "7568a2a6",
   "metadata": {},
   "outputs": [
    {
     "name": "stdout",
     "output_type": "stream",
     "text": [
      "Failed to create log dir /path/to/log_dir\n"
     ]
    },
    {
     "data": {
      "text/plain": [
       "['export LSF_DOCKER_VOLUMES=\"/path/to/dir1:/path/to/dir1 /path/to/dir2:/path/to/dir2 /path/to/log_dir:/path/to/log_dir\"',\n",
       " 'bgadd -L 10 /estorrs/test_group',\n",
       " \"bsub -R 'rusage[mem=10GB]' -M 10GB -q dinglab -G compute-dinglab -a 'docker(python:3.8)' -g /estorrs/test_group -J wo -oo /path/to/log_dir/wo.txt '/bin/bash hello wooo'\",\n",
       " \"bsub -R 'rusage[mem=10GB]' -M 10GB -q dinglab -G compute-dinglab -a 'docker(python:3.8)' -g /estorrs/test_group -J bb -oo /path/to/log_dir/bb.txt '/bin/bash hello bbb'\"]"
      ]
     },
     "execution_count": 61,
     "metadata": {},
     "output_type": "execute_result"
    }
   ],
   "source": [
    "batch_bsub_commands(commands, job_names, log_dir, args, volumes=volumes)"
   ]
  },
  {
   "cell_type": "code",
   "execution_count": null,
   "id": "200629f1",
   "metadata": {},
   "outputs": [],
   "source": []
  },
  {
   "cell_type": "code",
   "execution_count": 78,
   "id": "8be07d69",
   "metadata": {},
   "outputs": [],
   "source": [
    "dconfig = 'dat/cromwell-config-db.compute1.dat'\n",
    "cwl_fp = '../../cwl/workflows/tindaisy2.cwl'\n",
    "inputs_fp = 'dat/C3N-02996.BIOTEXT_YEyWzRW.yaml'\n",
    "volumes = ['/path/to/dira', '/path/to/dir/b']\n",
    "workflow_dir = '/path/to/w_dir'\n"
   ]
  },
  {
   "cell_type": "markdown",
   "id": "5cfb04e6",
   "metadata": {},
   "source": [
    "bsub -q dinglab-interactive -Is -a \"docker(mwyczalkowski/cromwell-runner)\" \n",
    "\n",
    "/usr/bin/java -Dconfig.file=dat/cromwell-config-db.compute1.dat -Djavax.net.ssl.trustStorePassword=changeit -Djavax.net.ssl.trustStore=/gscmnt/gc2560/core/genome/cromwell/cromwell.truststore -jar /usr/local/cromwell/cromwell-47.jar run -t cwl -i dat/C3N-02996.BIOTEXT_YEyWzRW.yaml ../../cwl/workflows/tindaisy2.cwl\n"
   ]
  },
  {
   "cell_type": "code",
   "execution_count": 99,
   "id": "ede4c43d",
   "metadata": {},
   "outputs": [],
   "source": [
    "def submit_cwl_command(dconfig, cwl_fp, inputs_fp, java='/usr/bin/java', jar='/usr/local/cromwell/cromwell-47.jar'):\n",
    "    cmd = f'{java} -Dconfig.file={dconfig}'\n",
    "    cmd += ' -Djavax.net.ssl.trustStorePassword=changeit -Djavax.net.ssl.trustStore=/gscmnt/gc2560/core/genome/cromwell/cromwell.truststore'\n",
    "    cmd += f' -jar {jar} -t cwl -i {inputs_fp} {cwl_fp}'\n",
    "    return cmd\n",
    "\n",
    "def cromwell_commands(dconfig, cwl_fp, inputs_fp, workflow_dir, args, volumes):\n",
    "    mv_command, jg_command = housekeeping_priors(log_dir, args, volumes=volumes)\n",
    "    mh_command = map_host_command()\n",
    "    source_lsf_command = 'source /opt/ibm/lsfsuite/lsf/conf/lsf.conf'\n",
    "    \n",
    "    start_server_command = bsub_command(\n",
    "            command=None, group=None, mem=None,\n",
    "            docker='mwyczalkowski/cromwell-runner', queue=args['queue'], interactive=True)\n",
    "    \n",
    "    submit_command = submit_cwl_command(dconfig, cwl_fp, inputs_fp)\n",
    "    \n",
    "    all_commands = [c for c in [source_lsf_command, mh_command, mv_command, jg_command, start_server_command, submit_command]\n",
    "                    if c is not None]\n",
    "    return all_commands"
   ]
  },
  {
   "cell_type": "code",
   "execution_count": 93,
   "id": "9052a222",
   "metadata": {},
   "outputs": [
    {
     "name": "stdout",
     "output_type": "stream",
     "text": [
      "Failed to create log dir /path/to/log_dir\n"
     ]
    },
    {
     "data": {
      "text/plain": [
       "['export LSF_DOCKER_NETWORK=host',\n",
       " 'export LSF_DOCKER_VOLUMES=\"/path/to/dira:/path/to/dira /path/to/dir/b:/path/to/dir/b /path/to/log_dir:/path/to/log_dir\"',\n",
       " 'bgadd -L 10 /estorrs/test_group',\n",
       " \"bsub -q {queue} -a 'docker(mwyczalkowski/cromwell-runner)' -Is\",\n",
       " '/usr/bin/java -Dconfig.file=dat/cromwell-config-db.compute1.dat -Djavax.net.ssl.trustStorePassword=changeit -Djavax.net.ssl.trustStore=/gscmnt/gc2560/core/genome/cromwell/cromwell.truststore -jar /usr/local/cromwell/cromwell-47.jar -t cwl -i dat/C3N-02996.BIOTEXT_YEyWzRW.yaml ../../cwl/workflows/tindaisy2.cwl']"
      ]
     },
     "execution_count": 93,
     "metadata": {},
     "output_type": "execute_result"
    }
   ],
   "source": [
    "cromwell_commands(dconfig, cwl_fp, inputs_fp, workflow_dir, args, volumes)"
   ]
  },
  {
   "cell_type": "code",
   "execution_count": null,
   "id": "77e535f2",
   "metadata": {},
   "outputs": [],
   "source": []
  },
  {
   "cell_type": "code",
   "execution_count": 102,
   "id": "3877dc9b",
   "metadata": {},
   "outputs": [
    {
     "data": {
      "text/plain": [
       "['source /opt/ibm/lsfsuite/lsf/conf/lsf.conf',\n",
       " 'export LSF_DOCKER_NETWORK=host',\n",
       " 'export LSF_DOCKER_VOLUMES=\"/path/to/dira:/path/to/dira /path/to/dir/b:/path/to/dir/b /path/to/log_dir:/path/to/log_dir\"',\n",
       " 'bgadd -L 10 /estorrs/test_group',\n",
       " \"bsub -q dinglab-interactive -a 'docker(mwyczalkowski/cromwell-runner)' -Is\",\n",
       " '/usr/bin/java -Dconfig.file=dat/cromwell-config-db.compute1.dat -Djavax.net.ssl.trustStorePassword=changeit -Djavax.net.ssl.trustStore=/gscmnt/gc2560/core/genome/cromwell/cromwell.truststore -jar /usr/local/cromwell/cromwell-47.jar -t cwl -i dat/C3N-02996.BIOTEXT_YEyWzRW.yaml ../../cwl/workflows/tindaisy2.cwl']"
      ]
     },
     "execution_count": 102,
     "metadata": {},
     "output_type": "execute_result"
    }
   ],
   "source": [
    "bsub.cromwell_commands(dconfig, cwl_fp, inputs_fp, workflow_dir, args, volumes)"
   ]
  },
  {
   "cell_type": "code",
   "execution_count": null,
   "id": "e9d0010a",
   "metadata": {},
   "outputs": [],
   "source": []
  },
  {
   "cell_type": "code",
   "execution_count": 103,
   "id": "363543d9",
   "metadata": {},
   "outputs": [],
   "source": [
    "filepath = '../sandbox/run_cromwell.sh'\n",
    "bsub.write_command_file(\n",
    "    bsub.cromwell_commands(dconfig, cwl_fp, inputs_fp, workflow_dir, args, volumes),\n",
    "    filepath)"
   ]
  },
  {
   "cell_type": "code",
   "execution_count": null,
   "id": "4c307a21",
   "metadata": {},
   "outputs": [],
   "source": []
  },
  {
   "cell_type": "code",
   "execution_count": null,
   "id": "21b7aa87",
   "metadata": {},
   "outputs": [],
   "source": []
  },
  {
   "cell_type": "code",
   "execution_count": null,
   "id": "64022d30",
   "metadata": {},
   "outputs": [],
   "source": []
  }
 ],
 "metadata": {
  "kernelspec": {
   "display_name": "Python 3 (ipykernel)",
   "language": "python",
   "name": "python3"
  },
  "language_info": {
   "codemirror_mode": {
    "name": "ipython",
    "version": 3
   },
   "file_extension": ".py",
   "mimetype": "text/x-python",
   "name": "python",
   "nbconvert_exporter": "python",
   "pygments_lexer": "ipython3",
   "version": "3.8.12"
  }
 },
 "nbformat": 4,
 "nbformat_minor": 5
}
