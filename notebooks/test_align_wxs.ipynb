{
 "cells": [
  {
   "cell_type": "code",
   "execution_count": 13,
   "id": "19dce120",
   "metadata": {},
   "outputs": [],
   "source": [
    "import json\n",
    "import yaml\n",
    "import uuid"
   ]
  },
  {
   "cell_type": "code",
   "execution_count": null,
   "id": "4c2d1377",
   "metadata": {},
   "outputs": [],
   "source": []
  },
  {
   "cell_type": "code",
   "execution_count": 11,
   "id": "8c59bc63",
   "metadata": {},
   "outputs": [
    {
     "data": {
      "text/plain": [
       "{'id': 'HT191P1-S1H1A3Y3',\n",
       " 'rna-seq': {'tumor': {'R1': {'filepath': '/scratch1/fs1/dinglab/estorrs/pecgs_resources/test_samples/HT191P1-S1H1A3Y3/rna-seq/ht191p1-s1h1a3y3e1_1.AAGGTGTTAG-TAAGCGCGTG/ht191p1-s1h1a3y3e1_1.AAGGTGTTAG-TAAGCGCGTG.HFWJGDSXY_AAGGTGTTAG-TAAGCGCGTG_L001_R1.fastq.gz'},\n",
       "   'R2': {'filepath': '/scratch1/fs1/dinglab/estorrs/pecgs_resources/test_samples/HT191P1-S1H1A3Y3/rna-seq/ht191p1-s1h1a3y3e1_1.AAGGTGTTAG-TAAGCGCGTG/ht191p1-s1h1a3y3e1_1.AAGGTGTTAG-TAAGCGCGTG.HFWJGDSXY_AAGGTGTTAG-TAAGCGCGTG_L001_R2.fastq.gz'}}},\n",
       " 'wxs': {'normal': {'R1': {'filepath': '/scratch1/fs1/dinglab/estorrs/pecgs_resources/test_samples/HT191P1-S1H1A3Y3/wxs/CATTATCGCT-CTTGAAGGTT_S34_L001_R1_001.fastq.gz'},\n",
       "   'R2': {'filepath': '/scratch1/fs1/dinglab/estorrs/pecgs_resources/test_samples/HT191P1-S1H1A3Y3/wxs/CATTATCGCT-CTTGAAGGTT_S34_L001_R2_001.fastq.gz'}},\n",
       "  'tumor': {'R1': {'filepath': '/scratch1/fs1/dinglab/estorrs/pecgs_resources/test_samples/HT191P1-S1H1A3Y3/wxs/CCAGTAGCGT-ATGTATTGGC_S53_L002_R1_001.fastq.gz'},\n",
       "   'R2': {'filepath': '/scratch1/fs1/dinglab/estorrs/pecgs_resources/test_samples/HT191P1-S1H1A3Y3/wxs/CCAGTAGCGT-ATGTATTGGC_S53_L002_R2_001.fastq.gz'}}}}"
      ]
     },
     "execution_count": 11,
     "metadata": {},
     "output_type": "execute_result"
    }
   ],
   "source": [
    "m = yaml.safe_load(open('../tests/data/align_wxs/HT191P1-S1H1A3Y3.yaml'))\n",
    "m"
   ]
  },
  {
   "cell_type": "code",
   "execution_count": null,
   "id": "f9184250",
   "metadata": {},
   "outputs": [],
   "source": []
  },
  {
   "cell_type": "code",
   "execution_count": 12,
   "id": "366e44b2",
   "metadata": {},
   "outputs": [
    {
     "data": {
      "text/plain": [
       "{'bam_name': 'a_string',\n",
       " 'job_uuid': 'a_string',\n",
       " 'known_snp': {'class': 'File',\n",
       "  'path': 'path/to/vcf.gz',\n",
       "  'secondaryFiles': [{'class': 'File', 'path': 'path/to/vcf.gz.tbi'}]},\n",
       " 'readgroup_fastq_pe_file_list': [{'forward_fastq': {'class': 'File',\n",
       "    'path': 'path/to/R1/fastq'},\n",
       "   'readgroup_meta': {'ID': 'input_id',\n",
       "    'PL': 'ILLUMINA',\n",
       "    'SM': 'input_sample_id'},\n",
       "   'reverse_fastq': {'class': 'File', 'path': 'path/to/R2/fastq'}}],\n",
       " 'reference_sequence': {'class': 'File',\n",
       "  'path': 'path/to/GRCh38.d1.vd1.fa',\n",
       "  'secondaryFiles': [{'class': 'File', 'path': 'path/to/GRCh38.d1.vd1.fa.amb'},\n",
       "   {'class': 'File', 'path': 'path/to/GRCh38.d1.vd1.fa.ann'},\n",
       "   {'class': 'File', 'path': 'path/to/GRCh38.d1.vd1.fa.bwt'},\n",
       "   {'class': 'File', 'path': 'path/to/GRCh38.d1.vd1.fa.fai'},\n",
       "   {'class': 'File', 'path': 'path/to/GRCh38.d1.vd1.fa.pac'},\n",
       "   {'class': 'File', 'path': 'path/to/GRCh38.d1.vd1.fa.sa'},\n",
       "   {'class': 'File', 'path': 'path/to/GRCh38.d1.vd1.dict'}]},\n",
       " 'thread_count': 'a_int'}"
      ]
     },
     "execution_count": 12,
     "metadata": {},
     "output_type": "execute_result"
    }
   ],
   "source": [
    "t = yaml.safe_load(open('/home/estorrs/pecgs-pipeline/cwl/align_dnaseq/template.align_dnaseq_workflow.yaml'))\n",
    "t"
   ]
  },
  {
   "cell_type": "code",
   "execution_count": 14,
   "id": "6cef407b",
   "metadata": {},
   "outputs": [],
   "source": [
    "# ID: flowcell.lane\n",
    "# SM: sample_name\n",
    "# PL: technology, i.e. ILLUMINA\n",
    "# PU: flowcell.lane.index_sequencer\n",
    "# LB: sample_name.library_preparation"
   ]
  },
  {
   "cell_type": "code",
   "execution_count": 16,
   "id": "c9cca386",
   "metadata": {},
   "outputs": [
    {
     "data": {
      "text/plain": [
       "{'bam_name': 'HT191P1-S1H1A3Y3.N.aligned.bam',\n",
       " 'job_uuid': '9755a5f3-7274-4eb0-9b80-cd861124459d',\n",
       " 'thread_count': 40,\n",
       " 'known_snp': {'class': 'File',\n",
       "  'path': '/scratch1/fs1/dinglab/estorrs/pecgs_resources/dnaseq_alignment/dbsnp/00-All.vcf.gz',\n",
       "  'secondaryFiles': [{'class': 'File',\n",
       "    'path': '/scratch1/fs1/dinglab/estorrs/pecgs_resources/dnaseq_alignment/dbsnp/00-All.vcf.gz.tbi'}]},\n",
       " 'reference_sequence': {'class': 'File',\n",
       "  'path': '/scratch1/fs1/dinglab/estorrs/pecgs_resources/cnv/references/GRCh38.d1.vd1/GRCh38.d1.vd1.fa',\n",
       "  'secondaryFiles': [{'class': 'File',\n",
       "    'path': '/scratch1/fs1/dinglab/estorrs/pecgs_resources/cnv/references/GRCh38.d1.vd1/GRCh38.d1.vd1.fa.amb'},\n",
       "   {'class': 'File',\n",
       "    'path': '/scratch1/fs1/dinglab/estorrs/pecgs_resources/cnv/references/GRCh38.d1.vd1/GRCh38.d1.vd1.fa.ann'},\n",
       "   {'class': 'File',\n",
       "    'path': '/scratch1/fs1/dinglab/estorrs/pecgs_resources/cnv/references/GRCh38.d1.vd1/GRCh38.d1.vd1.fa.bwt'},\n",
       "   {'class': 'File',\n",
       "    'path': '/scratch1/fs1/dinglab/estorrs/pecgs_resources/cnv/references/GRCh38.d1.vd1/GRCh38.d1.vd1.fa.fai'},\n",
       "   {'class': 'File',\n",
       "    'path': '/scratch1/fs1/dinglab/estorrs/pecgs_resources/cnv/references/GRCh38.d1.vd1/GRCh38.d1.vd1.fa.pac'},\n",
       "   {'class': 'File',\n",
       "    'path': '/scratch1/fs1/dinglab/estorrs/pecgs_resources/cnv/references/GRCh38.d1.vd1/GRCh38.d1.vd1.fa.sa'},\n",
       "   {'class': 'File',\n",
       "    'path': '/scratch1/fs1/dinglab/estorrs/pecgs_resources/cnv/references/GRCh38.d1.vd1/GRCh38.d1.vd1.dict'}]},\n",
       " 'readgroup_fastq_pe_file_list': [{'forward_fastq': {'class': 'File',\n",
       "    'path': '/scratch1/fs1/dinglab/estorrs/pecgs_resources/test_samples/HT191P1-S1H1A3Y3/wxs/CATTATCGCT-CTTGAAGGTT_S34_L001_R1_001.fastq.gz'},\n",
       "   'reverse_fastq': {'class': 'File',\n",
       "    'path': '/scratch1/fs1/dinglab/estorrs/pecgs_resources/test_samples/HT191P1-S1H1A3Y3/wxs/CATTATCGCT-CTTGAAGGTT_S34_L001_R2_001.fastq.gz'},\n",
       "   'readgroup_meta': {'ID': 'HH7KNDSXY.1',\n",
       "    'PL': 'ILLUMINA',\n",
       "    'SM': 'HT191P1-S1H1A3Y3',\n",
       "    'PU': 'HH7KNDSXY.1.CATTATCGCT-CTTGAAGGTT',\n",
       "    'LB': '2903382342.TWCE-HT191P1-JM1D1_1-lib1'}}]}"
      ]
     },
     "execution_count": 16,
     "metadata": {},
     "output_type": "execute_result"
    }
   ],
   "source": [
    "template = {\n",
    "    'bam_name': m['id'] + '.N.aligned.bam',\n",
    "    'job_uuid': str(uuid.uuid4()),\n",
    "    'thread_count': 40,\n",
    "    'known_snp': {\n",
    "        'class': 'File',\n",
    "        'path': '/scratch1/fs1/dinglab/estorrs/pecgs_resources/dnaseq_alignment/dbsnp/00-All.vcf.gz',\n",
    "        'secondaryFiles': [\n",
    "            {'class': 'File', 'path': '/scratch1/fs1/dinglab/estorrs/pecgs_resources/dnaseq_alignment/dbsnp/00-All.vcf.gz.tbi'}\n",
    "        ]\n",
    "    },\n",
    "    'reference_sequence': {\n",
    "        'class': 'File',\n",
    "        'path': '/scratch1/fs1/dinglab/estorrs/pecgs_resources/cnv/references/GRCh38.d1.vd1/GRCh38.d1.vd1.fa',\n",
    "        'secondaryFiles': [\n",
    "            {'class': 'File', 'path': '/scratch1/fs1/dinglab/estorrs/pecgs_resources/cnv/references/GRCh38.d1.vd1/GRCh38.d1.vd1.fa.amb'},\n",
    "            {'class': 'File', 'path': '/scratch1/fs1/dinglab/estorrs/pecgs_resources/cnv/references/GRCh38.d1.vd1/GRCh38.d1.vd1.fa.ann'},\n",
    "            {'class': 'File', 'path': '/scratch1/fs1/dinglab/estorrs/pecgs_resources/cnv/references/GRCh38.d1.vd1/GRCh38.d1.vd1.fa.bwt'},\n",
    "            {'class': 'File', 'path': '/scratch1/fs1/dinglab/estorrs/pecgs_resources/cnv/references/GRCh38.d1.vd1/GRCh38.d1.vd1.fa.fai'},\n",
    "            {'class': 'File', 'path': '/scratch1/fs1/dinglab/estorrs/pecgs_resources/cnv/references/GRCh38.d1.vd1/GRCh38.d1.vd1.fa.pac'},\n",
    "            {'class': 'File', 'path': '/scratch1/fs1/dinglab/estorrs/pecgs_resources/cnv/references/GRCh38.d1.vd1/GRCh38.d1.vd1.fa.sa'},\n",
    "            {'class': 'File', 'path': '/scratch1/fs1/dinglab/estorrs/pecgs_resources/cnv/references/GRCh38.d1.vd1/GRCh38.d1.vd1.dict'}\n",
    "        ]\n",
    "    },\n",
    "    'readgroup_fastq_pe_file_list': [\n",
    "        {\n",
    "            'forward_fastq': {\n",
    "                'class': 'File',\n",
    "                'path': m['wxs']['normal']['R1']['filepath']\n",
    "            },\n",
    "            'reverse_fastq': {\n",
    "                'class': 'File',\n",
    "                'path': m['wxs']['normal']['R2']['filepath']\n",
    "            },\n",
    "            'readgroup_meta': { # when doing for real grab from mgi sample csv\n",
    "                'ID': 'HH7KNDSXY.1',\n",
    "                'PL': 'ILLUMINA',\n",
    "                'SM': m['id'],\n",
    "                'PU': 'HH7KNDSXY.1.CATTATCGCT-CTTGAAGGTT',\n",
    "                'LB': '2903382342.TWCE-HT191P1-JM1D1_1-lib1'\n",
    "            }\n",
    "        }\n",
    "    ]\n",
    "}\n",
    "template"
   ]
  },
  {
   "cell_type": "code",
   "execution_count": null,
   "id": "a37770c9",
   "metadata": {},
   "outputs": [],
   "source": []
  },
  {
   "cell_type": "code",
   "execution_count": null,
   "id": "d9e197c4",
   "metadata": {},
   "outputs": [],
   "source": []
  },
  {
   "cell_type": "code",
   "execution_count": 30,
   "id": "542af206",
   "metadata": {},
   "outputs": [],
   "source": [
    "yaml.safe_dump(template, open('../tests/data/cnv/HT191P1-S1H1A3Y3_inputs.yaml', 'w'))"
   ]
  },
  {
   "cell_type": "code",
   "execution_count": 31,
   "id": "11d63a3d",
   "metadata": {},
   "outputs": [],
   "source": [
    "workflow_root = '/scratch1/fs1/dinglab/estorrs/cromwell-data/pecgs/testing/align_wxs/HT191P1-S1H1A3Y3'\n",
    "output_fp = '../tests/data/align_wxs/HT191P1-S1H1A3Y3.cromwell-config-db.compute1.dat'\n",
    "bsub.save_compute1_cromwell_template(workflow_root, output_fp)"
   ]
  },
  {
   "cell_type": "code",
   "execution_count": 32,
   "id": "1de2f0fa",
   "metadata": {},
   "outputs": [],
   "source": [
    "TEST_DIR_ROOT = '/storage1/fs1/dinglab/Active/Projects/estorrs/wombat/tests/data/align_wxs'\n",
    "TOOL_ROOT = '/storage1/fs1/dinglab/Active/Projects/estorrs/pecgs-pipeline'\n",
    "\n",
    "dconfig = os.path.join(TEST_DIR_ROOT, 'HT191P1-S1H1A3Y3.cromwell-config-db.compute1.dat')\n",
    "cwl_fp = os.path.join(TOOL_ROOT, 'align_dnaseq', 'cwl', 'align_dnaseq_workflow.cwl')\n",
    "inputs_fp = os.path.join(TEST_DIR_ROOT, 'HT191P1-S1H1A3Y3_inputs.yaml')\n",
    "volumes = [TEST_DIR_ROOT, TOOL_ROOT, workflow_root, '/storage1/fs1/dinglab/Active', '/storage1/fs1/m.wyczalkowski/Active', '/scratch1/fs1/dinglab/estorrs']"
   ]
  },
  {
   "cell_type": "code",
   "execution_count": 33,
   "id": "97f1777f",
   "metadata": {},
   "outputs": [
    {
     "data": {
      "text/plain": [
       "{'mem': 10,\n",
       " 'n_processes': 1,\n",
       " 'max_mem': None,\n",
       " 'docker': 'python:3.8',\n",
       " 'queue': 'dinglab',\n",
       " 'group': 'compute-dinglab',\n",
       " 'group_name': 'test_cromwell',\n",
       " 'n_concurrent': 10,\n",
       " 'interactive': False,\n",
       " 'username': 'estorrs'}"
      ]
     },
     "execution_count": 33,
     "metadata": {},
     "output_type": "execute_result"
    }
   ],
   "source": [
    "args = bsub.DEFAULT_ARGS\n",
    "args['group_name'] = 'test_cromwell'\n",
    "args"
   ]
  },
  {
   "cell_type": "code",
   "execution_count": 34,
   "id": "bbac243d",
   "metadata": {},
   "outputs": [],
   "source": [
    "start_commands, run_command = bsub.cromwell_commands(dconfig, cwl_fp, inputs_fp, args, volumes, workflow_root=workflow_root)\n",
    "filepath = os.path.join('../tests/data/align_wxs/start_server.sh')\n",
    "bsub.write_command_file(start_commands, filepath)\n",
    "filepath = os.path.join('../tests/data/align_wxs/run_job.sh')\n",
    "bsub.write_command_file([run_command], filepath)"
   ]
  },
  {
   "cell_type": "code",
   "execution_count": 35,
   "id": "88a4c5b2",
   "metadata": {},
   "outputs": [
    {
     "name": "stdout",
     "output_type": "stream",
     "text": [
      "mkdir -p /scratch1/fs1/dinglab/estorrs/cromwell-data/pecgs/testing/align_wxs/HT191P1-S1H1A3Y3/cromwell-workdir/logs\n",
      "source /opt/ibm/lsfsuite/lsf/conf/lsf.conf\n",
      "export LSF_DOCKER_NETWORK=host\n",
      "export LSF_DOCKER_VOLUMES=\"/storage1/fs1/dinglab/Active/Projects/estorrs/wombat/tests/data/align_wxs:/storage1/fs1/dinglab/Active/Projects/estorrs/wombat/tests/data/align_wxs /storage1/fs1/dinglab/Active/Projects/estorrs/pecgs-pipeline:/storage1/fs1/dinglab/Active/Projects/estorrs/pecgs-pipeline /scratch1/fs1/dinglab/estorrs/cromwell-data/pecgs/testing/align_wxs/HT191P1-S1H1A3Y3:/scratch1/fs1/dinglab/estorrs/cromwell-data/pecgs/testing/align_wxs/HT191P1-S1H1A3Y3 /storage1/fs1/dinglab/Active:/storage1/fs1/dinglab/Active /storage1/fs1/m.wyczalkowski/Active:/storage1/fs1/m.wyczalkowski/Active /scratch1/fs1/dinglab/estorrs:/scratch1/fs1/dinglab/estorrs\"\n",
      "bgadd -L 10 /estorrs/test_cromwell\n",
      "bsub -n 1 -q dinglab-interactive -G compute-dinglab -a 'docker(mwyczalkowski/cromwell-runner)' -g /estorrs/test_cromwell -J f64a66da-c028-4c85-adec-0879e2392eec -Is '/bin/bash'\n"
     ]
    }
   ],
   "source": [
    "for c in start_commands: print(c)"
   ]
  },
  {
   "cell_type": "code",
   "execution_count": 36,
   "id": "c08b4700",
   "metadata": {},
   "outputs": [
    {
     "name": "stdout",
     "output_type": "stream",
     "text": [
      "/usr/bin/java -Dconfig.file=/storage1/fs1/dinglab/Active/Projects/estorrs/wombat/tests/data/align_wxs/HT191P1-S1H1A3Y3.cromwell-config-db.compute1.dat -Djavax.net.ssl.trustStorePassword=changeit -Djavax.net.ssl.trustStore=/gscmnt/gc2560/core/genome/cromwell/cromwell.truststore -jar /usr/local/cromwell/cromwell-47.jar run -t cwl -i /storage1/fs1/dinglab/Active/Projects/estorrs/wombat/tests/data/align_wxs/HT191P1-S1H1A3Y3_inputs.yaml /storage1/fs1/dinglab/Active/Projects/estorrs/pecgs-pipeline/align_dnaseq/cwl/align_dnaseq_workflow.cwl\n"
     ]
    }
   ],
   "source": [
    "print(run_command)"
   ]
  },
  {
   "cell_type": "code",
   "execution_count": null,
   "id": "0d1a9b44",
   "metadata": {},
   "outputs": [],
   "source": []
  }
 ],
 "metadata": {
  "kernelspec": {
   "display_name": "Python 3 (ipykernel)",
   "language": "python",
   "name": "python3"
  },
  "language_info": {
   "codemirror_mode": {
    "name": "ipython",
    "version": 3
   },
   "file_extension": ".py",
   "mimetype": "text/x-python",
   "name": "python",
   "nbconvert_exporter": "python",
   "pygments_lexer": "ipython3",
   "version": "3.8.12"
  }
 },
 "nbformat": 4,
 "nbformat_minor": 5
}
