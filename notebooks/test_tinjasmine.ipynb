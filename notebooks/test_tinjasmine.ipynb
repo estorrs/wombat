{
 "cells": [
  {
   "cell_type": "code",
   "execution_count": 1,
   "id": "5432e572",
   "metadata": {},
   "outputs": [],
   "source": [
    "import os\n",
    "import yaml\n",
    "import json\n",
    "import pandas as pd"
   ]
  },
  {
   "cell_type": "code",
   "execution_count": 2,
   "id": "f966ed05",
   "metadata": {},
   "outputs": [],
   "source": [
    "%load_ext autoreload"
   ]
  },
  {
   "cell_type": "code",
   "execution_count": 3,
   "id": "51cae587",
   "metadata": {},
   "outputs": [],
   "source": [
    "%autoreload 2"
   ]
  },
  {
   "cell_type": "code",
   "execution_count": 4,
   "id": "090ef42e",
   "metadata": {},
   "outputs": [],
   "source": [
    "import wombat.bsub as bsub"
   ]
  },
  {
   "cell_type": "markdown",
   "id": "2402ecc6",
   "metadata": {},
   "source": [
    "load sample data"
   ]
  },
  {
   "cell_type": "code",
   "execution_count": 5,
   "id": "97126fe4",
   "metadata": {},
   "outputs": [
    {
     "data": {
      "text/plain": [
       "{'case_id': 'C3L-01232',\n",
       " 'disease': 'GBM',\n",
       " 'WXS': {'normal': {'id': 'C3L-01232.WXS.N.hg38',\n",
       "   'barcode': 'CPT0240430002',\n",
       "   'filepath': '/storage1/fs1/m.wyczalkowski/Active/Primary/CPTAC3.share/CPTAC3-GDC/GDC_import/data/a65f1db8-170a-4ec2-a20b-e6deff964e2c/54352f31-de32-4a52-b0c0-1ab882496fc3_wxs_gdc_realn.bam'},\n",
       "  'tumor': {'id': 'C3L-01232.WXS.T.hg38',\n",
       "   'barcode': 'CPT0239440006',\n",
       "   'filepath': '/storage1/fs1/m.wyczalkowski/Active/Primary/CPTAC3.share/CPTAC3-GDC/GDC_import/data/6da28b7b-b148-4c49-97ee-d4587b058a46/218349a8-16e2-4bcd-9c9a-690bc5152441_wxs_gdc_realn.bam'}},\n",
       " 'WGS': {'normal': {'id': 'C3L-01232.WGS.N.hg38',\n",
       "   'filepath': '/storage1/fs1/m.wyczalkowski/Active/Primary/CPTAC3.share/CPTAC3-GDC/GDC_import/data/c7777e0c-2447-4d47-aa47-e65bed9a8e47/54352f31-de32-4a52-b0c0-1ab882496fc3_wgs_gdc_realn.bam'},\n",
       "  'tumor': {'id': 'C3L-01232.WGS.T.hg38',\n",
       "   'filepath': '/storage1/fs1/m.wyczalkowski/Active/Primary/CPTAC3.share/CPTAC3-GDC/GDC_import/data/7794e4ec-ebc2-40ca-9e51-a0a869ecc2be/218349a8-16e2-4bcd-9c9a-690bc5152441_wgs_gdc_realn.bam'}},\n",
       " 'RNA-seq': {'normal': {'id': '', 'filepath': ''},\n",
       "  'tumor': {'id': '', 'filepath': ''}}}"
      ]
     },
     "execution_count": 5,
     "metadata": {},
     "output_type": "execute_result"
    }
   ],
   "source": [
    "m = json.load(open('../tests/data/tinjasmine/C3L-01232.json'))\n",
    "m"
   ]
  },
  {
   "cell_type": "markdown",
   "id": "d57ac9d9",
   "metadata": {},
   "source": [
    "make test input yaml"
   ]
  },
  {
   "cell_type": "code",
   "execution_count": 18,
   "id": "ca2e5afe",
   "metadata": {},
   "outputs": [
    {
     "data": {
      "text/plain": [
       "{'sample_barcode': 'a_string',\n",
       " 'centromere': {'class': 'File', 'path': 'a/file/path'},\n",
       " 'chrlist': {'class': 'File', 'path': 'a/file/path'},\n",
       " 'Canonical_BED': {'class': 'File', 'path': 'a/file/path'},\n",
       " 'assembly': 'a_string',\n",
       " 'vep_cache_version': 'a_string',\n",
       " 'vep_cache_gz': {'class': 'File', 'path': 'a/file/path'},\n",
       " 'ROI_BED': {'class': 'File', 'path': 'a/file/path'},\n",
       " 'varscan_filter_config': {'class': 'File', 'path': 'a/file/path'},\n",
       " 'pindel_filter_config': {'class': 'File', 'path': 'a/file/path'},\n",
       " 'pindel_config_template': {'class': 'File', 'path': 'a/file/path'},\n",
       " 'gatk_filter_config': {'class': 'File', 'path': 'a/file/path'},\n",
       " 'reference': {'class': 'File', 'path': 'a/file/path'},\n",
       " 'bam': {'class': 'File', 'path': 'a/file/path'}}"
      ]
     },
     "execution_count": 18,
     "metadata": {},
     "output_type": "execute_result"
    }
   ],
   "source": [
    "template = yaml.safe_load(open('/home/estorrs/TinJasmine/cwl/template.TinJasmine.yaml'))\n",
    "template"
   ]
  },
  {
   "cell_type": "code",
   "execution_count": 7,
   "id": "0ce63621",
   "metadata": {},
   "outputs": [
    {
     "data": {
      "text/plain": [
       "{'centromere': {'class': 'File',\n",
       "  'path': '/storage1/fs1/dinglab/Active/Resources/Pipelines/TinJasmine/TinJasmine_etc/centromere/ucsc-centromere.GRCh38.bed'},\n",
       " 'chrlist': {'class': 'File',\n",
       "  'path': '/storage1/fs1/dinglab/Active/Resources/Pipelines/TinJasmine/TinJasmine_etc/chrlist/GRCh38.d1.vd1.chrlist-reordered.txt'},\n",
       " 'pindel_config_template': {'class': 'File',\n",
       "  'path': '/storage1/fs1/dinglab/Active/Resources/Pipelines/TinJasmine/TinJasmine_etc/pindel_config_template/pindel_germline_filter_config.ini'},\n",
       " 'bam': {'class': 'File',\n",
       "  'path': '/storage1/fs1/m.wyczalkowski/Active/Primary/CPTAC3.share/CPTAC3-GDC/GDC_import/data/16477a75-08b9-4c77-9117-30dbb59d9f84/499d2ebb-679e-4720-8b86-3c989769d905_gdc_realn.bam'},\n",
       " 'normal_barcode': 'barcode',\n",
       " 'Canonical_BED': {'class': 'File',\n",
       "  'path': '/storage1/fs1/dinglab/Active/Resources/Pipelines/TinJasmine/TinJasmine_etc/Canonical_BED/GRCh38.callRegions.bed'},\n",
       " 'assembly': 'GRCh38',\n",
       " 'vep_cache_version': 99,\n",
       " 'vep_cache_gz': {'class': 'File',\n",
       "  'path': '/storage1/fs1/m.wyczalkowski/Active/Primary/Resources/Databases/VEP/v99/vep-cache.99_GRCh38.tar.gz'},\n",
       " 'ROI_BED': {'class': 'File',\n",
       "  'path': '/storage1/fs1/dinglab/Active/Resources/Pipelines/TinJasmine/TinJasmine_etc/ROI_BED/Homo_sapiens.GRCh38.95.allCDS.2bpFlanks.biomart.withCHR.bed'},\n",
       " 'varscan_filter_config': {'class': 'File',\n",
       "  'path': '/storage1/fs1/dinglab/Active/Resources/Pipelines/TinJasmine/TinJasmine_etc/varscan_filter_config/VLD_FilterVCF-varscan.config.ini'},\n",
       " 'pindel_filter_config': {'class': 'File',\n",
       "  'path': '/storage1/fs1/dinglab/Active/Resources/Pipelines/TinJasmine/TinJasmine_etc/pindel_filter_config/VLD_FilterVCF-pindel.config.ini'},\n",
       " 'gatk_filter_config': {'class': 'File',\n",
       "  'path': '/storage1/fs1/dinglab/Active/Resources/Pipelines/TinJasmine/TinJasmine_etc/gatk_filter_config/VLD_FilterVCF-GATK.config.ini'},\n",
       " 'reference': {'class': 'File',\n",
       "  'path': '/storage1/fs1/m.wyczalkowski/Active/Primary/Resources/References/GRCh38.d1.vd1/GRCh38.d1.vd1.fa'}}"
      ]
     },
     "execution_count": 7,
     "metadata": {},
     "output_type": "execute_result"
    }
   ],
   "source": [
    "t2 = yaml.safe_load(open('/home/estorrs/TinJasmine/testing/cromwell-simple-compute1/dat/TinJasmine.C3L-00081.yaml'))\n",
    "t2"
   ]
  },
  {
   "cell_type": "code",
   "execution_count": 9,
   "id": "b5d647bc",
   "metadata": {},
   "outputs": [
    {
     "data": {
      "text/plain": [
       "dict_keys(['centromere', 'chrlist', 'pindel_config_template', 'bam', 'normal_barcode', 'Canonical_BED', 'assembly', 'vep_cache_version', 'vep_cache_gz', 'ROI_BED', 'varscan_filter_config', 'pindel_filter_config', 'gatk_filter_config', 'reference'])"
      ]
     },
     "execution_count": 9,
     "metadata": {},
     "output_type": "execute_result"
    }
   ],
   "source": [
    "t2.keys()"
   ]
  },
  {
   "cell_type": "code",
   "execution_count": 8,
   "id": "eb84be7b",
   "metadata": {},
   "outputs": [],
   "source": [
    "t2['vep_cache_gz']['path'] = '/storage1/fs1/dinglab/Active/Projects/estorrs/pecgs_resources/vep/v99/vep-cache.99_GRCh38.tar.gz'\n",
    "t2['reference']['path'] = '/storage1/fs1/dinglab/Active/Resources/References/GRCh38.d1.vd1/GRCh38.d1.vd1.fa'"
   ]
  },
  {
   "cell_type": "code",
   "execution_count": 12,
   "id": "8c28b46f",
   "metadata": {},
   "outputs": [],
   "source": [
    "t2['bam']['path'] = m['WXS']['normal']['filepath']\n",
    "t2['sample_barcode'] = m['WXS']['normal']['barcode']\n",
    "\n",
    "# sample template hasn't been updated to new cwl name in some versions\n",
    "if 'normal_barcode' in t2:\n",
    "    t2.pop('normal_barcode')"
   ]
  },
  {
   "cell_type": "code",
   "execution_count": 13,
   "id": "baa7ba1c",
   "metadata": {},
   "outputs": [
    {
     "data": {
      "text/plain": [
       "{'centromere': {'class': 'File',\n",
       "  'path': '/storage1/fs1/dinglab/Active/Resources/Pipelines/TinJasmine/TinJasmine_etc/centromere/ucsc-centromere.GRCh38.bed'},\n",
       " 'chrlist': {'class': 'File',\n",
       "  'path': '/storage1/fs1/dinglab/Active/Resources/Pipelines/TinJasmine/TinJasmine_etc/chrlist/GRCh38.d1.vd1.chrlist-reordered.txt'},\n",
       " 'pindel_config_template': {'class': 'File',\n",
       "  'path': '/storage1/fs1/dinglab/Active/Resources/Pipelines/TinJasmine/TinJasmine_etc/pindel_config_template/pindel_germline_filter_config.ini'},\n",
       " 'bam': {'class': 'File',\n",
       "  'path': '/storage1/fs1/m.wyczalkowski/Active/Primary/CPTAC3.share/CPTAC3-GDC/GDC_import/data/a65f1db8-170a-4ec2-a20b-e6deff964e2c/54352f31-de32-4a52-b0c0-1ab882496fc3_wxs_gdc_realn.bam'},\n",
       " 'Canonical_BED': {'class': 'File',\n",
       "  'path': '/storage1/fs1/dinglab/Active/Resources/Pipelines/TinJasmine/TinJasmine_etc/Canonical_BED/GRCh38.callRegions.bed'},\n",
       " 'assembly': 'GRCh38',\n",
       " 'vep_cache_version': 99,\n",
       " 'vep_cache_gz': {'class': 'File',\n",
       "  'path': '/storage1/fs1/dinglab/Active/Projects/estorrs/pecgs_resources/vep/v99/vep-cache.99_GRCh38.tar.gz'},\n",
       " 'ROI_BED': {'class': 'File',\n",
       "  'path': '/storage1/fs1/dinglab/Active/Resources/Pipelines/TinJasmine/TinJasmine_etc/ROI_BED/Homo_sapiens.GRCh38.95.allCDS.2bpFlanks.biomart.withCHR.bed'},\n",
       " 'varscan_filter_config': {'class': 'File',\n",
       "  'path': '/storage1/fs1/dinglab/Active/Resources/Pipelines/TinJasmine/TinJasmine_etc/varscan_filter_config/VLD_FilterVCF-varscan.config.ini'},\n",
       " 'pindel_filter_config': {'class': 'File',\n",
       "  'path': '/storage1/fs1/dinglab/Active/Resources/Pipelines/TinJasmine/TinJasmine_etc/pindel_filter_config/VLD_FilterVCF-pindel.config.ini'},\n",
       " 'gatk_filter_config': {'class': 'File',\n",
       "  'path': '/storage1/fs1/dinglab/Active/Resources/Pipelines/TinJasmine/TinJasmine_etc/gatk_filter_config/VLD_FilterVCF-GATK.config.ini'},\n",
       " 'reference': {'class': 'File',\n",
       "  'path': '/storage1/fs1/dinglab/Active/Resources/References/GRCh38.d1.vd1/GRCh38.d1.vd1.fa'},\n",
       " 'sample_barcode': 'CPT0240430002'}"
      ]
     },
     "execution_count": 13,
     "metadata": {},
     "output_type": "execute_result"
    }
   ],
   "source": [
    "t2"
   ]
  },
  {
   "cell_type": "code",
   "execution_count": 15,
   "id": "121856e8",
   "metadata": {},
   "outputs": [],
   "source": [
    "yaml.safe_dump(t2, open('../tests/data/tinjasmine/C3L-01232_inputs.yaml', 'w'))"
   ]
  },
  {
   "cell_type": "code",
   "execution_count": null,
   "id": "8bbaec59",
   "metadata": {},
   "outputs": [],
   "source": []
  },
  {
   "cell_type": "markdown",
   "id": "12560a0a",
   "metadata": {},
   "source": [
    "make cromwell compute1 config"
   ]
  },
  {
   "cell_type": "code",
   "execution_count": 19,
   "id": "907b723c",
   "metadata": {},
   "outputs": [],
   "source": [
    "workflow_root = '/scratch1/fs1/dinglab/estorrs/cromwell-data/pecgs/testing/tinjasmine/C3L-01232'\n",
    "output_fp = '../tests/data/tinjasmine/C3L-01232.cromwell-config-db.compute1.dat'\n",
    "bsub.save_compute1_cromwell_template(workflow_root, output_fp)"
   ]
  },
  {
   "cell_type": "code",
   "execution_count": null,
   "id": "f5ec1447",
   "metadata": {},
   "outputs": [],
   "source": []
  },
  {
   "cell_type": "markdown",
   "id": "a474eb61",
   "metadata": {},
   "source": [
    "make execution script"
   ]
  },
  {
   "cell_type": "code",
   "execution_count": 25,
   "id": "f1ab9ce6",
   "metadata": {},
   "outputs": [],
   "source": [
    "TEST_DIR_ROOT = '/storage1/fs1/dinglab/Active/Projects/estorrs/wombat/tests/data/tinjasmine'\n",
    "TOOL_ROOT = '/storage1/fs1/dinglab/Active/Projects/estorrs/pecgs-pipeline/submodules/TinJasmine/'\n",
    "\n",
    "dconfig = os.path.join(TEST_DIR_ROOT, 'C3L-01232.cromwell-config-db.compute1.dat')\n",
    "cwl_fp = os.path.join(TOOL_ROOT, 'cwl', 'TinJasmine.cwl')\n",
    "inputs_fp = os.path.join(TEST_DIR_ROOT, 'C3L-01232_inputs.yaml')\n",
    "volumes = [TEST_DIR_ROOT, TOOL_ROOT, workflow_root, '/storage1/fs1/dinglab/Active', '/storage1/fs1/m.wyczalkowski/Active']"
   ]
  },
  {
   "cell_type": "code",
   "execution_count": 26,
   "id": "4f4fc2c7",
   "metadata": {},
   "outputs": [
    {
     "data": {
      "text/plain": [
       "{'mem': 10,\n",
       " 'max_mem': None,\n",
       " 'docker': 'python:3.8',\n",
       " 'queue': 'dinglab',\n",
       " 'group': 'compute-dinglab',\n",
       " 'group_name': 'test_cromwell',\n",
       " 'n_concurrent': 10,\n",
       " 'interactive': False,\n",
       " 'username': 'estorrs'}"
      ]
     },
     "execution_count": 26,
     "metadata": {},
     "output_type": "execute_result"
    }
   ],
   "source": [
    "args = bsub.DEFAULT_ARGS\n",
    "args['group_name'] = 'test_cromwell'\n",
    "args"
   ]
  },
  {
   "cell_type": "code",
   "execution_count": 27,
   "id": "9431583c",
   "metadata": {},
   "outputs": [],
   "source": [
    "start_commands, run_command = bsub.cromwell_commands(dconfig, cwl_fp, inputs_fp, args, volumes)\n",
    "filepath = os.path.join('../tests/data/tinjasmine/start_server.sh')\n",
    "bsub.write_command_file(start_commands, filepath)\n",
    "filepath = os.path.join('../tests/data/tinjasmine/run_job.sh')\n",
    "bsub.write_command_file([run_command], filepath)"
   ]
  },
  {
   "cell_type": "code",
   "execution_count": 28,
   "id": "0fd11e67",
   "metadata": {},
   "outputs": [
    {
     "name": "stdout",
     "output_type": "stream",
     "text": [
      "source /opt/ibm/lsfsuite/lsf/conf/lsf.conf\n",
      "export LSF_DOCKER_NETWORK=host\n",
      "export LSF_DOCKER_VOLUMES=\"/storage1/fs1/dinglab/Active/Projects/estorrs/wombat/tests/data/tinjasmine:/storage1/fs1/dinglab/Active/Projects/estorrs/wombat/tests/data/tinjasmine /storage1/fs1/dinglab/Active/Projects/estorrs/pecgs-pipeline/submodules/TinJasmine/:/storage1/fs1/dinglab/Active/Projects/estorrs/pecgs-pipeline/submodules/TinJasmine/ /scratch1/fs1/dinglab/estorrs/cromwell-data/pecgs/testing/tinjasmine/C3L-01232:/scratch1/fs1/dinglab/estorrs/cromwell-data/pecgs/testing/tinjasmine/C3L-01232 /storage1/fs1/dinglab/Active:/storage1/fs1/dinglab/Active /storage1/fs1/m.wyczalkowski/Active:/storage1/fs1/m.wyczalkowski/Active\"\n",
      "bgadd -L 10 /estorrs/test_cromwell\n",
      "bsub -q dinglab-interactive -G compute-dinglab -a 'docker(mwyczalkowski/cromwell-runner)' -Is '/bin/bash'\n"
     ]
    }
   ],
   "source": [
    "for c in start_commands: print(c)"
   ]
  },
  {
   "cell_type": "code",
   "execution_count": 29,
   "id": "a3c52b34",
   "metadata": {},
   "outputs": [
    {
     "name": "stdout",
     "output_type": "stream",
     "text": [
      "/usr/bin/java -Dconfig.file=/storage1/fs1/dinglab/Active/Projects/estorrs/wombat/tests/data/tinjasmine/C3L-01232.cromwell-config-db.compute1.dat -Djavax.net.ssl.trustStorePassword=changeit -Djavax.net.ssl.trustStore=/gscmnt/gc2560/core/genome/cromwell/cromwell.truststore -jar /usr/local/cromwell/cromwell-47.jar run -t cwl -i /storage1/fs1/dinglab/Active/Projects/estorrs/wombat/tests/data/tinjasmine/C3L-01232_inputs.yaml /storage1/fs1/dinglab/Active/Projects/estorrs/pecgs-pipeline/submodules/TinJasmine/cwl/TinJasmine.cwl\n"
     ]
    }
   ],
   "source": [
    "print(run_command)"
   ]
  },
  {
   "cell_type": "code",
   "execution_count": null,
   "id": "cd556ffc",
   "metadata": {},
   "outputs": [],
   "source": []
  }
 ],
 "metadata": {
  "kernelspec": {
   "display_name": "Python 3 (ipykernel)",
   "language": "python",
   "name": "python3"
  },
  "language_info": {
   "codemirror_mode": {
    "name": "ipython",
    "version": 3
   },
   "file_extension": ".py",
   "mimetype": "text/x-python",
   "name": "python",
   "nbconvert_exporter": "python",
   "pygments_lexer": "ipython3",
   "version": "3.8.12"
  }
 },
 "nbformat": 4,
 "nbformat_minor": 5
}
