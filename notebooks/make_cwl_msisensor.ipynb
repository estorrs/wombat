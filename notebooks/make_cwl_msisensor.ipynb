{
 "cells": [
  {
   "cell_type": "code",
   "execution_count": 4,
   "id": "d5aced2c",
   "metadata": {},
   "outputs": [],
   "source": [
    "import os\n",
    "import yaml\n",
    "import json\n",
    "import pandas as pd\n",
    "from pathlib import Path"
   ]
  },
  {
   "cell_type": "code",
   "execution_count": 5,
   "id": "d9ade16a",
   "metadata": {},
   "outputs": [],
   "source": [
    "cwl_dir = '/home/estorrs/pecgs-pipeline/cwl/msisensor'\n",
    "Path(cwl_dir).mkdir(parents=True, exist_ok=True)"
   ]
  },
  {
   "cell_type": "markdown",
   "id": "30c756ce",
   "metadata": {},
   "source": [
    "looking at another template for reference"
   ]
  },
  {
   "cell_type": "code",
   "execution_count": 2,
   "id": "036ee376",
   "metadata": {},
   "outputs": [
    {
     "data": {
      "text/plain": [
       "{'sample_barcode': 'a_string',\n",
       " 'centromere': {'class': 'File', 'path': 'a/file/path'},\n",
       " 'chrlist': {'class': 'File', 'path': 'a/file/path'},\n",
       " 'Canonical_BED': {'class': 'File', 'path': 'a/file/path'},\n",
       " 'assembly': 'a_string',\n",
       " 'vep_cache_version': 'a_string',\n",
       " 'vep_cache_gz': {'class': 'File', 'path': 'a/file/path'},\n",
       " 'ROI_BED': {'class': 'File', 'path': 'a/file/path'},\n",
       " 'varscan_filter_config': {'class': 'File', 'path': 'a/file/path'},\n",
       " 'pindel_filter_config': {'class': 'File', 'path': 'a/file/path'},\n",
       " 'pindel_config_template': {'class': 'File', 'path': 'a/file/path'},\n",
       " 'gatk_filter_config': {'class': 'File', 'path': 'a/file/path'},\n",
       " 'reference': {'class': 'File', 'path': 'a/file/path'},\n",
       " 'bam': {'class': 'File', 'path': 'a/file/path'}}"
      ]
     },
     "execution_count": 2,
     "metadata": {},
     "output_type": "execute_result"
    }
   ],
   "source": [
    "t = yaml.safe_load(open('/home/estorrs/TinJasmine/cwl/template.TinJasmine.yaml'))\n",
    "t"
   ]
  },
  {
   "cell_type": "markdown",
   "id": "bda58151",
   "metadata": {},
   "source": [
    "test invocation"
   ]
  },
  {
   "cell_type": "markdown",
   "id": "79b81eae",
   "metadata": {},
   "source": [
    "msisensor msi -d /storage1/fs1/dinglab/Active/Projects/PECGS/ref_genome/hg38.microsatellite -n /storage1/fs1/dinglab/Active/Projects/austins2/HTAN-BRCA/BAM/2021-10-12/HT268B1-Jm1D1_1.N/HT268B1-Jm1D1_1.N.human.remDup.bam -t /storage1/fs1/dinglab/Active/Projects/austins2/HTAN-BRCA/BAM/2021-10-12/HT268B1-Th1H3Y1D1_1.T/HT268B1-Th1H3Y1D1_1.T.human.remDup.bam -o /storage1/fs1/dinglab/Active/Projects/PECGS/MSI_hg38/WXS_test/Mohammad_test/HT268B1 -l 1 -q 1 -b 16"
   ]
  },
  {
   "cell_type": "markdown",
   "id": "b89b158b",
   "metadata": {},
   "source": [
    "tool options"
   ]
  },
  {
   "cell_type": "markdown",
   "id": "b89694c1",
   "metadata": {},
   "source": [
    "-d   |string|   homopolymer and microsates file\n",
    "    \n",
    "-n   |string|   normal bam file\n",
    "    \n",
    "-t   |string|   tumor  bam file\n",
    "    \n",
    "-o   |string|   output distribution file\n",
    "\n",
    "-e   |string|   bed file, optional\n",
    "    \n",
    "-f   |double|   FDR threshold for somatic sites detection, default=0.05\n",
    "    \n",
    "-c   |int|      coverage threshold for msi analysis, WXS: 20; WGS: 15, default=20\n",
    "    \n",
    "-z   |int|      coverage normalization for paired tumor and normal data, 0: no; 1: yes, default=0\n",
    "    \n",
    "-r   |string|   choose one region, format: 1:10000000-20000000\n",
    "    \n",
    "-l   |int|      minimal homopolymer size, default=5\n",
    "    \n",
    "-p   |int|      minimal homopolymer size for distribution analysis, default=10\n",
    "    \n",
    "-m   |int|      maximal homopolymer size for distribution analysis, default=50\n",
    "    \n",
    "-q   |int|      minimal microsates size, default=3\n",
    "    \n",
    "-s   |int|      minimal microsates size for distribution analysis, default=5\n",
    "    \n",
    "-w   |int|      maximal microstaes size for distribution analysis, default=40\n",
    "    \n",
    "-u   |int|      span size around window for extracting reads, default=500\n",
    "    \n",
    "-b   |int|      threads number for parallel computing, default=1\n",
    "    \n",
    "-x   |int|      output homopolymer only, 0: no; 1: yes, default=0\n",
    "    \n",
    "-y   |int|      output microsatellite only, 0: no; 1: yes, default=0\n",
    "\n",
    "-h   help"
   ]
  },
  {
   "cell_type": "code",
   "execution_count": 3,
   "id": "6c4e625e",
   "metadata": {},
   "outputs": [],
   "source": [
    "template = {\n",
    "    'microsatellite': {\n",
    "        'class': 'File',\n",
    "        'path': 'a/file/path'\n",
    "    },\n",
    "    'normal_bam': {\n",
    "        'class': 'File',\n",
    "        'path': 'a/file/path'\n",
    "    },\n",
    "    'tumor_bam': {\n",
    "        'class': 'File',\n",
    "        'path': 'a/file/path'\n",
    "    },\n",
    "    'minimal_homopolymer_size': 'a_int',\n",
    "    'minimal_microsatellite_size': 'a_int',\n",
    "    'threads': 'a_int'\n",
    "}"
   ]
  },
  {
   "cell_type": "code",
   "execution_count": 6,
   "id": "60a3adad",
   "metadata": {},
   "outputs": [],
   "source": [
    "yaml.safe_dump(template, open(os.path.join(cwl_dir, 'template.msisensor.yaml'), 'w'))"
   ]
  },
  {
   "cell_type": "code",
   "execution_count": null,
   "id": "410540ac",
   "metadata": {},
   "outputs": [],
   "source": []
  },
  {
   "cell_type": "code",
   "execution_count": null,
   "id": "644c3c2e",
   "metadata": {},
   "outputs": [],
   "source": []
  },
  {
   "cell_type": "markdown",
   "id": "7266497b",
   "metadata": {},
   "source": [
    "make cwl file"
   ]
  },
  {
   "cell_type": "markdown",
   "id": "a0f69bf3",
   "metadata": {},
   "source": [
    "looking at another for reference"
   ]
  },
  {
   "cell_type": "code",
   "execution_count": 7,
   "id": "81437820",
   "metadata": {},
   "outputs": [
    {
     "data": {
      "text/plain": [
       "{'class': 'CommandLineTool',\n",
       " 'cwlVersion': 'v1.0',\n",
       " '$namespaces': {'sbg': 'https://www.sevenbridges.com/'},\n",
       " 'id': 'stage_bam',\n",
       " 'baseCommand': ['bash', '/BICSEQ2/src/stage_file.sh'],\n",
       " 'inputs': [{'id': 'BAM',\n",
       "   'type': 'File',\n",
       "   'inputBinding': {'position': 99},\n",
       "   'secondaryFiles': ['.bai']}],\n",
       " 'outputs': [{'id': 'output',\n",
       "   'type': 'File',\n",
       "   'outputBinding': {'glob': 'staged_data.bam'},\n",
       "   'secondaryFiles': ['.bai']}],\n",
       " 'label': 'stage_bam',\n",
       " 'arguments': [{'position': 0, 'prefix': '-s', 'valueFrom': '.bai'},\n",
       "  {'position': 0, 'prefix': '-p', 'valueFrom': 'hard'},\n",
       "  {'position': 0, 'prefix': '-o', 'valueFrom': 'staged_data.bam'}],\n",
       " 'requirements': [{'class': 'DockerRequirement',\n",
       "   'dockerPull': 'mwyczalkowski/bicseq2:20210625'},\n",
       "  {'class': 'ResourceRequirement', 'ramMin': 8000}]}"
      ]
     },
     "execution_count": 7,
     "metadata": {},
     "output_type": "execute_result"
    }
   ],
   "source": [
    "t = yaml.safe_load(open('/home/estorrs/TinJasmine/cwl/stage_bam.cwl'))\n",
    "t"
   ]
  },
  {
   "cell_type": "code",
   "execution_count": 8,
   "id": "c3cbc567",
   "metadata": {},
   "outputs": [
    {
     "data": {
      "text/plain": [
       "{'BAM': {'class': 'File', 'path': 'a/file/path'}}"
      ]
     },
     "execution_count": 8,
     "metadata": {},
     "output_type": "execute_result"
    }
   ],
   "source": [
    "t = yaml.safe_load(open('/home/estorrs/TinJasmine/cwl/stage_bam.template.yaml'))\n",
    "t"
   ]
  },
  {
   "cell_type": "code",
   "execution_count": 13,
   "id": "bf5620e5",
   "metadata": {},
   "outputs": [],
   "source": [
    "cwl = {\n",
    "    'class': 'CommandLineTool',\n",
    "    'cwlVersion': 'v1.0',\n",
    "    '$namespaces': {'sbg': 'https://www.sevenbridges.com/'},\n",
    "    'id': 'msisensor',\n",
    "    'baseCommand': ['msisensor', 'msi'],\n",
    "    'inputs': [\n",
    "        {\n",
    "            'id': 'microsatellite',\n",
    "            'type': 'File',\n",
    "            'inputBinding': {\n",
    "                'prefix': '-d',\n",
    "                'position': '0'\n",
    "            }\n",
    "        },\n",
    "        {\n",
    "            'id': 'normal_bam',\n",
    "            'type': 'File',\n",
    "            'inputBinding': {\n",
    "                'prefix': '-n',\n",
    "                'position': '0'\n",
    "            }\n",
    "        },\n",
    "        {\n",
    "            'id': 'tumor_bam',\n",
    "            'type': 'File',\n",
    "            'inputBinding': {\n",
    "                'prefix': '-t',\n",
    "                'position': '0'\n",
    "            }\n",
    "        },\n",
    "        {\n",
    "            'id': 'minimal_homopolymer_size',\n",
    "            'type': 'string?',\n",
    "            'inputBinding': {\n",
    "                'prefix': '-l',\n",
    "                'position': '0'\n",
    "            }\n",
    "        },\n",
    "        {\n",
    "            'id': 'minimal_microsatellite_size',\n",
    "            'type': 'string?',\n",
    "            'inputBinding': {\n",
    "                'prefix': '-q',\n",
    "                'position': '0'\n",
    "            }\n",
    "        },\n",
    "        {\n",
    "            'id': 'threads',\n",
    "            'type': 'string?',\n",
    "            'inputBinding': {\n",
    "                'prefix': '-b',\n",
    "                'position': '0'\n",
    "            }\n",
    "        },\n",
    "    ],\n",
    "    'arguments': [\n",
    "        {\n",
    "            'position': 0,\n",
    "            'prefix': '-o',\n",
    "            'valueFrom': 'output'\n",
    "        }\n",
    "    ],\n",
    "    'outputs': [\n",
    "        {\n",
    "            'id': 'output_summary',\n",
    "            'type': 'File',\n",
    "            'outputBinding': {'glob': 'output'},     \n",
    "        },\n",
    "        {\n",
    "            'id': 'output_dis',\n",
    "            'type': 'File',\n",
    "            'outputBinding': {'glob': 'output_dis'},     \n",
    "        },\n",
    "        {\n",
    "            'id': 'output_germline',\n",
    "            'type': 'File',\n",
    "            'outputBinding': {'glob': 'output_germline'},     \n",
    "        },\n",
    "        {\n",
    "            'id': 'output_somatic',\n",
    "            'type': 'File',\n",
    "            'outputBinding': {'glob': 'output_somatic'},     \n",
    "        }\n",
    "    ],\n",
    "    'label': 'msisensor',\n",
    "    'requirements': [\n",
    "        {\n",
    "            'class': 'DockerRequirement',\n",
    "            'dockerPull': 'informationsea/msisensor:0.6'\n",
    "        },\n",
    "        {\n",
    "            'class': 'ResourceRequirement',\n",
    "            'ramMin': 20000\n",
    "        }\n",
    "    ]\n",
    "}"
   ]
  },
  {
   "cell_type": "code",
   "execution_count": 14,
   "id": "81422420",
   "metadata": {},
   "outputs": [],
   "source": [
    "yaml.safe_dump(cwl, open(os.path.join(cwl_dir, 'msisensor.cwl'), 'w'))"
   ]
  },
  {
   "cell_type": "code",
   "execution_count": null,
   "id": "e806eba2",
   "metadata": {},
   "outputs": [],
   "source": []
  }
 ],
 "metadata": {
  "kernelspec": {
   "display_name": "Python 3 (ipykernel)",
   "language": "python",
   "name": "python3"
  },
  "language_info": {
   "codemirror_mode": {
    "name": "ipython",
    "version": 3
   },
   "file_extension": ".py",
   "mimetype": "text/x-python",
   "name": "python",
   "nbconvert_exporter": "python",
   "pygments_lexer": "ipython3",
   "version": "3.8.12"
  }
 },
 "nbformat": 4,
 "nbformat_minor": 5
}
