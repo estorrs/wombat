{
 "cells": [
  {
   "cell_type": "code",
   "execution_count": 1,
   "id": "5432e572",
   "metadata": {},
   "outputs": [],
   "source": [
    "import os\n",
    "import yaml\n",
    "import json\n",
    "import pandas as pd"
   ]
  },
  {
   "cell_type": "code",
   "execution_count": 2,
   "id": "f966ed05",
   "metadata": {},
   "outputs": [],
   "source": [
    "%load_ext autoreload"
   ]
  },
  {
   "cell_type": "code",
   "execution_count": 3,
   "id": "51cae587",
   "metadata": {},
   "outputs": [],
   "source": [
    "%autoreload 2"
   ]
  },
  {
   "cell_type": "code",
   "execution_count": 4,
   "id": "090ef42e",
   "metadata": {},
   "outputs": [],
   "source": [
    "import wombat.bsub as bsub"
   ]
  },
  {
   "cell_type": "markdown",
   "id": "2402ecc6",
   "metadata": {},
   "source": [
    "load sample data"
   ]
  },
  {
   "cell_type": "code",
   "execution_count": 6,
   "id": "97126fe4",
   "metadata": {},
   "outputs": [],
   "source": [
    "input_bam = '/storage1/fs1/dinglab/Active/Projects/estorrs/pecgs_resources/test_samples/C3L-00677/wxs/1d6c4f0f-09c4-4472-a19e-30ee7e0ecf64_gdc_realn.bam'\n",
    "input_maf = '/scratch1/fs1/dinglab/estorrs/cromwell-data/pecgs/testing/pecgs_TN_wxs_bam/runs/C3L-00677_2a9edf1e-76df-4595-9125-fb9b9d919621/cromwell-workdir/cromwell-executions/pecgs_TN_wxs_bam.cwl/8e1e5c0e-f904-4995-9f97-2cfad0bbd9fc/call-run_tindaisy/tindaisy2.cwl/5d22279a-37e0-4f73-b58d-61624aca4f6e/call-vcf2maf/execution/result.maf'\n",
    "\n",
    "bed = '/storage1/fs1/dinglab/Active/Projects/estorrs/pecgs_resources_backup/neoscan/refseq_hg38_june29/proteome.bed'\n",
    "f_allele = '/storage1/fs1/dinglab/Active/Projects/estorrs/pecgs_resources_backup/neoscan/netMHC-4.0/Linux_x86_64/data/allelelist'\n",
    "netmhc = '/storage1/fs1/dinglab/Active/Projects/estorrs/pecgs_resources_backup/neoscan/netMHC-4.0/netMHC'\n",
    "ref_dir = '/storage1/fs1/dinglab/Active/Projects/estorrs/pecgs_resources_backup/neoscan/refseq_hg38_june29'\n"
   ]
  },
  {
   "cell_type": "markdown",
   "id": "d57ac9d9",
   "metadata": {},
   "source": [
    "make test input yaml"
   ]
  },
  {
   "cell_type": "code",
   "execution_count": 7,
   "id": "ca2e5afe",
   "metadata": {},
   "outputs": [
    {
     "data": {
      "text/plain": [
       "{'bam': {'class': 'File', 'path': 'a/file/path'},\n",
       " 'bed': {'class': 'File', 'path': 'a/file/path'},\n",
       " 'f_allele': {'class': 'File', 'path': 'a/file/path'},\n",
       " 'input_type': 'a_string',\n",
       " 'maf': {'class': 'File', 'path': 'a/file/path'},\n",
       " 'netmhc': {'class': 'File', 'path': 'a/file/path'},\n",
       " 'ref_dir': {'class': 'Directory', 'path': 'a/dir/path'}}"
      ]
     },
     "execution_count": 7,
     "metadata": {},
     "output_type": "execute_result"
    }
   ],
   "source": [
    "template = yaml.safe_load(open('/home/estorrs/pecgs-pipeline/submodules/pecgs-neoscan/cwl/template.neoscan.yaml'))\n",
    "template\n"
   ]
  },
  {
   "cell_type": "code",
   "execution_count": 9,
   "id": "5dfbc4b4",
   "metadata": {},
   "outputs": [],
   "source": [
    "template['bam']['path'] = input_bam\n",
    "template['maf']['path'] = input_maf\n",
    "\n",
    "template['bed']['path'] = bed\n",
    "template['f_allele']['path'] = f_allele\n",
    "template['netmhc']['path'] = netmhc\n",
    "template['ref_dir']['path'] = ref_dir"
   ]
  },
  {
   "cell_type": "code",
   "execution_count": 10,
   "id": "4ef0e758",
   "metadata": {},
   "outputs": [
    {
     "data": {
      "text/plain": [
       "{'bam': {'class': 'File',\n",
       "  'path': '/storage1/fs1/dinglab/Active/Projects/estorrs/pecgs_resources/test_samples/C3L-00677/wxs/1d6c4f0f-09c4-4472-a19e-30ee7e0ecf64_gdc_realn.bam'},\n",
       " 'bed': {'class': 'File',\n",
       "  'path': '/storage1/fs1/dinglab/Active/Projects/estorrs/pecgs_resources_backup/neoscan/refseq_hg38_june29/proteome.bed'},\n",
       " 'f_allele': {'class': 'File',\n",
       "  'path': '/storage1/fs1/dinglab/Active/Projects/estorrs/pecgs_resources_backup/neoscan/netMHC-4.0/Linux_x86_64/data/allelelist'},\n",
       " 'input_type': 'a_string',\n",
       " 'maf': {'class': 'File',\n",
       "  'path': '/scratch1/fs1/dinglab/estorrs/cromwell-data/pecgs/testing/pecgs_TN_wxs_bam/runs/C3L-00677_2a9edf1e-76df-4595-9125-fb9b9d919621/cromwell-workdir/cromwell-executions/pecgs_TN_wxs_bam.cwl/8e1e5c0e-f904-4995-9f97-2cfad0bbd9fc/call-run_tindaisy/tindaisy2.cwl/5d22279a-37e0-4f73-b58d-61624aca4f6e/call-vcf2maf/execution/result.maf'},\n",
       " 'netmhc': {'class': 'File',\n",
       "  'path': '/storage1/fs1/dinglab/Active/Projects/estorrs/pecgs_resources_backup/neoscan/netMHC-4.0/netMHC'},\n",
       " 'ref_dir': {'class': 'Directory',\n",
       "  'path': '/storage1/fs1/dinglab/Active/Projects/estorrs/pecgs_resources_backup/neoscan/refseq_hg38_june29'}}"
      ]
     },
     "execution_count": 10,
     "metadata": {},
     "output_type": "execute_result"
    }
   ],
   "source": [
    "template"
   ]
  },
  {
   "cell_type": "code",
   "execution_count": 12,
   "id": "a826e901",
   "metadata": {},
   "outputs": [],
   "source": [
    "yaml.safe_dump(template, open('../tests/data/neoscan/C3L-00677_inputs.yaml', 'w'))"
   ]
  },
  {
   "cell_type": "markdown",
   "id": "12560a0a",
   "metadata": {},
   "source": [
    "make cromwell compute1 config"
   ]
  },
  {
   "cell_type": "code",
   "execution_count": 13,
   "id": "08d83271",
   "metadata": {},
   "outputs": [
    {
     "data": {
      "text/plain": [
       "{'mem': 10,\n",
       " 'n_processes': 1,\n",
       " 'max_mem': None,\n",
       " 'docker': 'python:3.8',\n",
       " 'queue': 'dinglab',\n",
       " 'group': 'compute-dinglab',\n",
       " 'group_name': 'test_cromwell',\n",
       " 'n_concurrent': 10,\n",
       " 'interactive': False,\n",
       " 'username': 'estorrs'}"
      ]
     },
     "execution_count": 13,
     "metadata": {},
     "output_type": "execute_result"
    }
   ],
   "source": [
    "args = bsub.DEFAULT_ARGS\n",
    "args['group_name'] = 'test_cromwell'\n",
    "args"
   ]
  },
  {
   "cell_type": "code",
   "execution_count": 14,
   "id": "907b723c",
   "metadata": {},
   "outputs": [],
   "source": [
    "workflow_root = '/scratch1/fs1/dinglab/estorrs/cromwell-data/pecgs/testing/neoscan/C3L-00677'\n",
    "output_fp = '../tests/data/neoscan/C3L-00677.cromwell-config-db.compute1.dat'\n",
    "args['queue'] = 'dinglab'\n",
    "bsub.save_compute1_cromwell_template(workflow_root, output_fp, queue=args['queue'])"
   ]
  },
  {
   "cell_type": "code",
   "execution_count": null,
   "id": "f5ec1447",
   "metadata": {},
   "outputs": [],
   "source": []
  },
  {
   "cell_type": "markdown",
   "id": "a474eb61",
   "metadata": {},
   "source": [
    "make execution script"
   ]
  },
  {
   "cell_type": "code",
   "execution_count": 15,
   "id": "f1ab9ce6",
   "metadata": {},
   "outputs": [],
   "source": [
    "TEST_DIR_ROOT = '/storage1/fs1/dinglab/Active/Projects/estorrs/wombat/tests/data/neoscan'\n",
    "TOOL_ROOT = '/storage1/fs1/dinglab/Active/Projects/estorrs/pecgs-pipeline'\n",
    "\n",
    "dconfig = os.path.join(TEST_DIR_ROOT, 'C3L-00677.cromwell-config-db.compute1.dat')\n",
    "cwl_fp = os.path.join(TOOL_ROOT, 'submodules', 'pecgs-neoscan', 'cwl', 'neoscan.cwl')\n",
    "inputs_fp = os.path.join(TEST_DIR_ROOT, 'C3L-00677_inputs.yaml')\n",
    "volumes = [TEST_DIR_ROOT, TOOL_ROOT, workflow_root, '/storage1/fs1/dinglab/Active', '/storage1/fs1/m.wyczalkowski/Active', '/scratch1/fs1/dinglab/estorrs']"
   ]
  },
  {
   "cell_type": "code",
   "execution_count": 16,
   "id": "9431583c",
   "metadata": {},
   "outputs": [],
   "source": [
    "start_commands, run_command = bsub.cromwell_commands(dconfig, cwl_fp, inputs_fp, args, volumes,\n",
    "                                                     workflow_root=workflow_root)\n",
    "filepath = os.path.join('../tests/data/neoscan/start_server.sh')\n",
    "bsub.write_command_file(start_commands, filepath)\n",
    "filepath = os.path.join('../tests/data/neoscan/run_job.sh')\n",
    "bsub.write_command_file([run_command], filepath)"
   ]
  },
  {
   "cell_type": "code",
   "execution_count": 17,
   "id": "0fd11e67",
   "metadata": {},
   "outputs": [
    {
     "name": "stdout",
     "output_type": "stream",
     "text": [
      "mkdir -p /scratch1/fs1/dinglab/estorrs/cromwell-data/pecgs/testing/neoscan/C3L-00677/cromwell-workdir/logs\n",
      "source /opt/ibm/lsfsuite/lsf/conf/lsf.conf\n",
      "export LSF_DOCKER_NETWORK=host\n",
      "export LSF_DOCKER_VOLUMES=\"/storage1/fs1/dinglab/Active/Projects/estorrs/wombat/tests/data/neoscan:/storage1/fs1/dinglab/Active/Projects/estorrs/wombat/tests/data/neoscan /storage1/fs1/dinglab/Active/Projects/estorrs/pecgs-pipeline:/storage1/fs1/dinglab/Active/Projects/estorrs/pecgs-pipeline /scratch1/fs1/dinglab/estorrs/cromwell-data/pecgs/testing/neoscan/C3L-00677:/scratch1/fs1/dinglab/estorrs/cromwell-data/pecgs/testing/neoscan/C3L-00677 /storage1/fs1/dinglab/Active:/storage1/fs1/dinglab/Active /storage1/fs1/m.wyczalkowski/Active:/storage1/fs1/m.wyczalkowski/Active /scratch1/fs1/dinglab/estorrs:/scratch1/fs1/dinglab/estorrs\"\n",
      "bgadd -L 10 /estorrs/test_cromwell\n",
      "bsub -n 1 -q dinglab-interactive -G compute-dinglab -a 'docker(mwyczalkowski/cromwell-runner)' -g /estorrs/test_cromwell -J 0a751cfa-9903-4f3c-866c-784f422cae03 -Is '/bin/bash'\n"
     ]
    }
   ],
   "source": [
    "for c in start_commands: print(c)"
   ]
  },
  {
   "cell_type": "code",
   "execution_count": 18,
   "id": "a3c52b34",
   "metadata": {},
   "outputs": [
    {
     "name": "stdout",
     "output_type": "stream",
     "text": [
      "/usr/bin/java -Dconfig.file=/storage1/fs1/dinglab/Active/Projects/estorrs/wombat/tests/data/neoscan/C3L-00677.cromwell-config-db.compute1.dat -Djavax.net.ssl.trustStorePassword=changeit -Djavax.net.ssl.trustStore=/gscmnt/gc2560/core/genome/cromwell/cromwell.truststore -jar /usr/local/cromwell/cromwell-47.jar run -t cwl -i /storage1/fs1/dinglab/Active/Projects/estorrs/wombat/tests/data/neoscan/C3L-00677_inputs.yaml /storage1/fs1/dinglab/Active/Projects/estorrs/pecgs-pipeline/submodules/pecgs-neoscan/cwl/neoscan.cwl\n"
     ]
    }
   ],
   "source": [
    "print(run_command)"
   ]
  },
  {
   "cell_type": "code",
   "execution_count": null,
   "id": "cd556ffc",
   "metadata": {},
   "outputs": [],
   "source": []
  }
 ],
 "metadata": {
  "kernelspec": {
   "display_name": "Python 3 (ipykernel)",
   "language": "python",
   "name": "python3"
  },
  "language_info": {
   "codemirror_mode": {
    "name": "ipython",
    "version": 3
   },
   "file_extension": ".py",
   "mimetype": "text/x-python",
   "name": "python",
   "nbconvert_exporter": "python",
   "pygments_lexer": "ipython3",
   "version": "3.8.12"
  }
 },
 "nbformat": 4,
 "nbformat_minor": 5
}
