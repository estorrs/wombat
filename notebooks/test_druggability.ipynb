{
 "cells": [
  {
   "cell_type": "code",
   "execution_count": 9,
   "id": "5432e572",
   "metadata": {},
   "outputs": [],
   "source": [
    "import os\n",
    "import yaml\n",
    "import json\n",
    "import pandas as pd"
   ]
  },
  {
   "cell_type": "code",
   "execution_count": 12,
   "id": "090ef42e",
   "metadata": {},
   "outputs": [],
   "source": [
    "import wombat.bsub as bsub"
   ]
  },
  {
   "cell_type": "code",
   "execution_count": 13,
   "id": "16731f65",
   "metadata": {},
   "outputs": [],
   "source": [
    "root = '/diskmnt/Projects/Users/estorrs/pecgs-pipeline'"
   ]
  },
  {
   "cell_type": "markdown",
   "id": "2402ecc6",
   "metadata": {},
   "source": [
    "load sample data"
   ]
  },
  {
   "cell_type": "code",
   "execution_count": 18,
   "id": "ab04c898",
   "metadata": {},
   "outputs": [],
   "source": [
    "variant_filepath = '/storage1/fs1/dinglab/Active/Projects/estorrs/sandbox/druggability/test.maf'\n",
    "    \n",
    "annotate_trials_keyword = '' # empty until you get files from jay\n",
    "tumor_sample_name = 'C3L-00677.T'\n",
    "normal_sample_name = 'C3L-00677.N'\n",
    "sample = 'C3L-00677'"
   ]
  },
  {
   "cell_type": "markdown",
   "id": "d57ac9d9",
   "metadata": {},
   "source": [
    "make test input yaml"
   ]
  },
  {
   "cell_type": "code",
   "execution_count": 19,
   "id": "ca2e5afe",
   "metadata": {},
   "outputs": [
    {
     "data": {
      "text/plain": [
       "{'annotate_trials_keyword': 'a_string',\n",
       " 'normal_sample_name': 'a_string',\n",
       " 'tumor_sample_name': 'a_string',\n",
       " 'variant_file_type': 'a_string',\n",
       " 'variant_filepath': {'class': 'File', 'path': 'a/file/path'}}"
      ]
     },
     "execution_count": 19,
     "metadata": {},
     "output_type": "execute_result"
    }
   ],
   "source": [
    "template = yaml.safe_load(open(f'{root}/submodules/pecgs-druggability/cwl/template.druggability.yaml'))\n",
    "template\n"
   ]
  },
  {
   "cell_type": "code",
   "execution_count": 20,
   "id": "5dfbc4b4",
   "metadata": {},
   "outputs": [
    {
     "data": {
      "text/plain": [
       "'a_string'"
      ]
     },
     "execution_count": 20,
     "metadata": {},
     "output_type": "execute_result"
    }
   ],
   "source": [
    "template['variant_filepath']['path'] = variant_filepath\n",
    "\n",
    "template['tumor_sample_name'] = tumor_sample_name\n",
    "template['normal_sample_name'] = normal_sample_name\n",
    "template['annotate_trials_keyword'] = annotate_trials_keyword\n",
    "template.pop('variant_file_type')\n"
   ]
  },
  {
   "cell_type": "code",
   "execution_count": 21,
   "id": "4ef0e758",
   "metadata": {},
   "outputs": [
    {
     "data": {
      "text/plain": [
       "{'annotate_trials_keyword': '',\n",
       " 'normal_sample_name': 'C3L-00677.N',\n",
       " 'tumor_sample_name': 'C3L-00677.T',\n",
       " 'variant_filepath': {'class': 'File',\n",
       "  'path': '/storage1/fs1/dinglab/Active/Projects/estorrs/sandbox/druggability/test.maf'}}"
      ]
     },
     "execution_count": 21,
     "metadata": {},
     "output_type": "execute_result"
    }
   ],
   "source": [
    "template"
   ]
  },
  {
   "cell_type": "code",
   "execution_count": 22,
   "id": "a826e901",
   "metadata": {},
   "outputs": [],
   "source": [
    "yaml.safe_dump(template, open(f'../tests/data/druggability/{sample}_inputs.yaml', 'w'))"
   ]
  },
  {
   "cell_type": "markdown",
   "id": "12560a0a",
   "metadata": {},
   "source": [
    "make cromwell compute1 config"
   ]
  },
  {
   "cell_type": "code",
   "execution_count": 23,
   "id": "08d83271",
   "metadata": {},
   "outputs": [
    {
     "data": {
      "text/plain": [
       "{'mem': 10,\n",
       " 'n_processes': 1,\n",
       " 'max_mem': None,\n",
       " 'docker': 'python:3.8',\n",
       " 'queue': 'dinglab',\n",
       " 'gpu_model': 'TeslaV100_SXM2_32GB',\n",
       " 'gpu_mem': '30',\n",
       " 'gpu_num': 1,\n",
       " 'use_gpu': False,\n",
       " 'group': 'compute-dinglab',\n",
       " 'group_name': 'test_cromwell',\n",
       " 'n_concurrent': 10,\n",
       " 'interactive': False,\n",
       " 'username': 'estorrs'}"
      ]
     },
     "execution_count": 23,
     "metadata": {},
     "output_type": "execute_result"
    }
   ],
   "source": [
    "args = bsub.DEFAULT_ARGS\n",
    "args['group_name'] = 'test_cromwell'\n",
    "args"
   ]
  },
  {
   "cell_type": "code",
   "execution_count": 24,
   "id": "907b723c",
   "metadata": {},
   "outputs": [],
   "source": [
    "workflow_root = f'/scratch1/fs1/dinglab/estorrs/cromwell-data/pecgs/testing/druggability/{sample}'\n",
    "output_fp = f'../tests/data/druggability/{sample}.cromwell-config-db.compute1.dat'\n",
    "args['queue'] = 'general'\n",
    "bsub.save_compute1_cromwell_template(workflow_root, output_fp, queue=args['queue'])"
   ]
  },
  {
   "cell_type": "markdown",
   "id": "a474eb61",
   "metadata": {},
   "source": [
    "make execution script"
   ]
  },
  {
   "cell_type": "code",
   "execution_count": 25,
   "id": "f1ab9ce6",
   "metadata": {},
   "outputs": [],
   "source": [
    "TEST_DIR_ROOT = '/storage1/fs1/dinglab/Active/Projects/estorrs/wombat/tests/data/druggability'\n",
    "TOOL_ROOT = '/storage1/fs1/dinglab/Active/Projects/estorrs/pecgs-pipeline'\n",
    "\n",
    "dconfig = os.path.join(TEST_DIR_ROOT, f'{sample}.cromwell-config-db.compute1.dat')\n",
    "cwl_fp = os.path.join(TOOL_ROOT, 'submodules', 'pecgs-druggability', 'cwl', 'druggability.cwl')\n",
    "inputs_fp = os.path.join(TEST_DIR_ROOT, f'{sample}_inputs.yaml')\n",
    "log_fp = os.path.join(TEST_DIR_ROOT, f'{sample}.log')\n",
    "volumes = [TEST_DIR_ROOT, TOOL_ROOT, workflow_root, '/storage1/fs1/dinglab/Active', '/scratch1/fs1/dinglab/estorrs', '/home/estorrs']"
   ]
  },
  {
   "cell_type": "code",
   "execution_count": 26,
   "id": "573c9852",
   "metadata": {},
   "outputs": [],
   "source": [
    "run_commands = bsub.cromwell_commands(dconfig, cwl_fp, inputs_fp, args, volumes,\n",
    "                                     workflow_root=workflow_root, interactive=False,\n",
    "                                     log_fp=log_fp)\n",
    "filepath = os.path.join('../tests/data/druggability/run_job.sh')\n",
    "bsub.write_command_file(run_commands, filepath)"
   ]
  },
  {
   "cell_type": "code",
   "execution_count": 27,
   "id": "0fd11e67",
   "metadata": {},
   "outputs": [
    {
     "data": {
      "text/plain": [
       "['mkdir -p /scratch1/fs1/dinglab/estorrs/cromwell-data/pecgs/testing/druggability/C3L-00677/cromwell-workdir/logs',\n",
       " 'source /opt/ibm/lsfsuite/lsf/conf/lsf.conf',\n",
       " 'export LSF_DOCKER_NETWORK=host',\n",
       " 'export LSF_DOCKER_VOLUMES=\"/storage1/fs1/dinglab/Active/Projects/estorrs/wombat/tests/data/druggability:/storage1/fs1/dinglab/Active/Projects/estorrs/wombat/tests/data/druggability /storage1/fs1/dinglab/Active/Projects/estorrs/pecgs-pipeline:/storage1/fs1/dinglab/Active/Projects/estorrs/pecgs-pipeline /scratch1/fs1/dinglab/estorrs/cromwell-data/pecgs/testing/druggability/C3L-00677:/scratch1/fs1/dinglab/estorrs/cromwell-data/pecgs/testing/druggability/C3L-00677 /storage1/fs1/dinglab/Active:/storage1/fs1/dinglab/Active /scratch1/fs1/dinglab/estorrs:/scratch1/fs1/dinglab/estorrs /home/estorrs:/home/estorrs\"',\n",
       " 'bgadd -L 10 /estorrs/test_cromwell',\n",
       " 'export PATH=\"/opt/java/openjdk/bin:$PATH\"',\n",
       " \"bsub -R 'select[mem>10GB] rusage[mem=10GB] span[hosts=1]' -M 11GB -n 1 -q general -G compute-dinglab -a 'docker(estorrs/cromwell-runner:58)' -g /estorrs/test_cromwell -J 495a3b19-bc5e-4977-951a-651a8a0181ff -oo /storage1/fs1/dinglab/Active/Projects/estorrs/wombat/tests/data/druggability/C3L-00677.log '/opt/java/openjdk/bin/java -Dconfig.file=/storage1/fs1/dinglab/Active/Projects/estorrs/wombat/tests/data/druggability/C3L-00677.cromwell-config-db.compute1.dat -jar /app/cromwell-78-38cd360.jar run -t cwl -i /storage1/fs1/dinglab/Active/Projects/estorrs/wombat/tests/data/druggability/C3L-00677_inputs.yaml /storage1/fs1/dinglab/Active/Projects/estorrs/pecgs-pipeline/submodules/pecgs-druggability/cwl/druggability.cwl'\"]"
      ]
     },
     "execution_count": 27,
     "metadata": {},
     "output_type": "execute_result"
    }
   ],
   "source": [
    "run_commands"
   ]
  },
  {
   "cell_type": "code",
   "execution_count": null,
   "id": "dd5a6aee",
   "metadata": {},
   "outputs": [],
   "source": []
  }
 ],
 "metadata": {
  "kernelspec": {
   "display_name": "Python 3 (ipykernel)",
   "language": "python",
   "name": "python3"
  },
  "language_info": {
   "codemirror_mode": {
    "name": "ipython",
    "version": 3
   },
   "file_extension": ".py",
   "mimetype": "text/x-python",
   "name": "python",
   "nbconvert_exporter": "python",
   "pygments_lexer": "ipython3",
   "version": "3.8.12"
  }
 },
 "nbformat": 4,
 "nbformat_minor": 5
}
