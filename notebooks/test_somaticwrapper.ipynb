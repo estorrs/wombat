{
 "cells": [
  {
   "cell_type": "code",
   "execution_count": 1,
   "id": "5432e572",
   "metadata": {},
   "outputs": [],
   "source": [
    "import os\n",
    "import yaml\n",
    "import json\n",
    "import pandas as pd"
   ]
  },
  {
   "cell_type": "code",
   "execution_count": 2,
   "id": "f966ed05",
   "metadata": {},
   "outputs": [],
   "source": [
    "%load_ext autoreload"
   ]
  },
  {
   "cell_type": "code",
   "execution_count": 3,
   "id": "51cae587",
   "metadata": {},
   "outputs": [],
   "source": [
    "%autoreload 2"
   ]
  },
  {
   "cell_type": "code",
   "execution_count": 4,
   "id": "090ef42e",
   "metadata": {},
   "outputs": [],
   "source": [
    "import wombat.bsub as bsub"
   ]
  },
  {
   "cell_type": "markdown",
   "id": "d57ac9d9",
   "metadata": {},
   "source": [
    "make test input yaml"
   ]
  },
  {
   "cell_type": "code",
   "execution_count": 12,
   "id": "c430c095",
   "metadata": {},
   "outputs": [],
   "source": [
    "# template = yaml.safe_load(open('/diskmnt/Projects/Users/estorrs/pecgs-pipeline/submodules/pecgs-somaticwrapper/cwl/template.somaticwrapper.yaml'))\n",
    "# template"
   ]
  },
  {
   "cell_type": "code",
   "execution_count": 13,
   "id": "b0b98496",
   "metadata": {},
   "outputs": [],
   "source": [
    "# template['normal_bam']['path'] = '/storage1/fs1/dinglab/Active/Projects/estorrs/pecgs_resources/test_samples/C3L-00677/wxs/5cee818c-61e8-4441-bd9a-5c984cde9c6b_gdc_realn.bam'\n",
    "# template['normal_bam'].pop('secondaryFiles')\n",
    "# template['tumor_bam']['path'] = '/storage1/fs1/dinglab/Active/Projects/estorrs/pecgs_resources/test_samples/C3L-00677/wxs/1d6c4f0f-09c4-4472-a19e-30ee7e0ecf64_gdc_realn.bam'\n",
    "# template['tumor_bam'].pop('secondaryFiles')\n",
    "# template['reference']['path'] = '/storage1/fs1/dinglab/Active/Projects/estorrs/pecgs_resources/cnv/references/GRCh38.d1.vd1/GRCh38.d1.vd1.fa'\n",
    "# template['reference'].pop('secondaryFiles')\n",
    "\n",
    "# template['sample'] = 'C3L-00677'\n",
    "# template"
   ]
  },
  {
   "cell_type": "code",
   "execution_count": 14,
   "id": "e522e874",
   "metadata": {},
   "outputs": [],
   "source": [
    "\n",
    "# yaml.safe_dump(template, open('../tests/data/somaticwrapper/C3L-00677_inputs.yaml', 'w'))"
   ]
  },
  {
   "cell_type": "code",
   "execution_count": 15,
   "id": "8bbaec59",
   "metadata": {},
   "outputs": [
    {
     "data": {
      "text/plain": [
       "{'normal_bam': {'class': 'File',\n",
       "  'path': '/storage1/fs1/dinglab/Active/Projects/estorrs/pecgs_resources/test_samples/C3L-00677/wxs/5cee818c-61e8-4441-bd9a-5c984cde9c6b_gdc_realn.bam'},\n",
       " 'reference': {'class': 'Directory',\n",
       "  'path': '/storage1/fs1/dinglab/Active/Projects/estorrs/pecgs_resources/cnv/references/GRCh38.d1.vd1/GRCh38.d1.vd1.fa'},\n",
       " 'sample': 'C3L-00677',\n",
       " 'tumor_bam': {'class': 'File',\n",
       "  'path': '/storage1/fs1/dinglab/Active/Projects/estorrs/pecgs_resources/test_samples/C3L-00677/wxs/1d6c4f0f-09c4-4472-a19e-30ee7e0ecf64_gdc_realn.bam'}}"
      ]
     },
     "execution_count": 15,
     "metadata": {},
     "output_type": "execute_result"
    }
   ],
   "source": [
    "template = yaml.safe_load(open('../tests/data/somaticwrapper/C3L-00677_inputs.yaml'))\n",
    "template"
   ]
  },
  {
   "cell_type": "markdown",
   "id": "12560a0a",
   "metadata": {},
   "source": [
    "make cromwell compute1 config"
   ]
  },
  {
   "cell_type": "code",
   "execution_count": 16,
   "id": "907b723c",
   "metadata": {},
   "outputs": [],
   "source": [
    "workflow_root = '/scratch1/fs1/dinglab/estorrs/cromwell-data/pecgs/testing/somaticwrapper/C3L-00677'\n",
    "output_fp = '../tests/data/somaticwrapper/C3L-00677.cromwell-config-db.compute1.dat'\n",
    "bsub.save_compute1_cromwell_template(workflow_root, output_fp)"
   ]
  },
  {
   "cell_type": "code",
   "execution_count": null,
   "id": "f5ec1447",
   "metadata": {},
   "outputs": [],
   "source": []
  },
  {
   "cell_type": "markdown",
   "id": "a474eb61",
   "metadata": {},
   "source": [
    "make execution script"
   ]
  },
  {
   "cell_type": "code",
   "execution_count": 17,
   "id": "f1ab9ce6",
   "metadata": {},
   "outputs": [],
   "source": [
    "TEST_DIR_ROOT = '/storage1/fs1/dinglab/Active/Projects/estorrs/wombat/tests/data/somaticwrapper'\n",
    "TOOL_ROOT = '/storage1/fs1/dinglab/Active/Projects/estorrs/pecgs-pipeline'\n",
    "\n",
    "dconfig = os.path.join(TEST_DIR_ROOT, 'C3L-00677.cromwell-config-db.compute1.dat')\n",
    "cwl_fp = os.path.join(TOOL_ROOT, 'submodules', 'pecgs-somaticwrapper', 'cwl', 'somaticwrapper.cwl')\n",
    "inputs_fp = os.path.join(TEST_DIR_ROOT, 'C3L-00677_inputs.yaml')\n",
    "volumes = [TEST_DIR_ROOT, TOOL_ROOT, workflow_root, '/storage1/fs1/dinglab', '/storage1/fs1/m.wyczalkowski', '/scratch1/fs1/dinglab']"
   ]
  },
  {
   "cell_type": "code",
   "execution_count": 18,
   "id": "4f4fc2c7",
   "metadata": {},
   "outputs": [
    {
     "data": {
      "text/plain": [
       "{'mem': 10,\n",
       " 'n_processes': 1,\n",
       " 'max_mem': None,\n",
       " 'docker': 'python:3.8',\n",
       " 'queue': 'dinglab',\n",
       " 'gpu_model': 'TeslaV100_SXM2_32GB',\n",
       " 'gpu_mem': '30',\n",
       " 'gpu_num': 1,\n",
       " 'use_gpu': False,\n",
       " 'group': 'compute-dinglab',\n",
       " 'group_name': 'test_cromwell',\n",
       " 'n_concurrent': 10,\n",
       " 'interactive': False,\n",
       " 'username': 'estorrs'}"
      ]
     },
     "execution_count": 18,
     "metadata": {},
     "output_type": "execute_result"
    }
   ],
   "source": [
    "args = bsub.DEFAULT_ARGS\n",
    "args['group_name'] = 'test_cromwell'\n",
    "args"
   ]
  },
  {
   "cell_type": "code",
   "execution_count": 19,
   "id": "9431583c",
   "metadata": {},
   "outputs": [],
   "source": [
    "run_commands = bsub.cromwell_commands(dconfig, cwl_fp, inputs_fp, args, volumes, workflow_root=workflow_root)\n",
    "filepath = os.path.join('../tests/data/somaticwrapper/run_job.sh')\n",
    "bsub.write_command_file(run_commands, filepath)"
   ]
  },
  {
   "cell_type": "code",
   "execution_count": 20,
   "id": "0fd11e67",
   "metadata": {},
   "outputs": [
    {
     "name": "stdout",
     "output_type": "stream",
     "text": [
      "mkdir -p /scratch1/fs1/dinglab/estorrs/cromwell-data/pecgs/testing/somaticwrapper/C3L-00677/cromwell-workdir/logs\n",
      "source /opt/ibm/lsfsuite/lsf/conf/lsf.conf\n",
      "export LSF_DOCKER_NETWORK=host\n",
      "export LSF_DOCKER_VOLUMES=\"/storage1/fs1/dinglab/Active/Projects/estorrs/wombat/tests/data/somaticwrapper:/storage1/fs1/dinglab/Active/Projects/estorrs/wombat/tests/data/somaticwrapper /storage1/fs1/dinglab/Active/Projects/estorrs/pecgs-pipeline:/storage1/fs1/dinglab/Active/Projects/estorrs/pecgs-pipeline /scratch1/fs1/dinglab/estorrs/cromwell-data/pecgs/testing/somaticwrapper/C3L-00677:/scratch1/fs1/dinglab/estorrs/cromwell-data/pecgs/testing/somaticwrapper/C3L-00677 /storage1/fs1/dinglab:/storage1/fs1/dinglab /storage1/fs1/m.wyczalkowski:/storage1/fs1/m.wyczalkowski /scratch1/fs1/dinglab:/scratch1/fs1/dinglab\"\n",
      "bgadd -L 10 /estorrs/test_cromwell\n",
      "export PATH=\"/opt/java/openjdk/bin:$PATH\"\n",
      "bsub -R 'select[mem>10GB] rusage[mem=10GB] span[hosts=1]' -M 11GB -n 1 -q dinglab -G compute-dinglab -a 'docker(estorrs/cromwell-runner:58)' -g /estorrs/test_cromwell -J 55575ea7-58ca-4933-a34f-7ab4d69f8f0b '/opt/java/openjdk/bin/java -Dconfig.file=/storage1/fs1/dinglab/Active/Projects/estorrs/wombat/tests/data/somaticwrapper/C3L-00677.cromwell-config-db.compute1.dat -jar /app/cromwell-78-38cd360.jar run -t cwl -i /storage1/fs1/dinglab/Active/Projects/estorrs/wombat/tests/data/somaticwrapper/C3L-00677_inputs.yaml /storage1/fs1/dinglab/Active/Projects/estorrs/pecgs-pipeline/submodules/pecgs-somaticwrapper/cwl/somaticwrapper.cwl'\n"
     ]
    }
   ],
   "source": [
    "for c in run_commands: print(c)"
   ]
  },
  {
   "cell_type": "code",
   "execution_count": null,
   "id": "cd556ffc",
   "metadata": {},
   "outputs": [],
   "source": []
  },
  {
   "cell_type": "code",
   "execution_count": null,
   "id": "f432d731",
   "metadata": {},
   "outputs": [],
   "source": []
  }
 ],
 "metadata": {
  "kernelspec": {
   "display_name": "Python 3 (ipykernel)",
   "language": "python",
   "name": "python3"
  },
  "language_info": {
   "codemirror_mode": {
    "name": "ipython",
    "version": 3
   },
   "file_extension": ".py",
   "mimetype": "text/x-python",
   "name": "python",
   "nbconvert_exporter": "python",
   "pygments_lexer": "ipython3",
   "version": "3.9.16"
  }
 },
 "nbformat": 4,
 "nbformat_minor": 5
}
