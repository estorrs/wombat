{
 "cells": [
  {
   "cell_type": "code",
   "execution_count": 1,
   "id": "5432e572",
   "metadata": {},
   "outputs": [],
   "source": [
    "import os\n",
    "import yaml\n",
    "import json\n",
    "import pandas as pd"
   ]
  },
  {
   "cell_type": "code",
   "execution_count": 2,
   "id": "f966ed05",
   "metadata": {},
   "outputs": [],
   "source": [
    "%load_ext autoreload"
   ]
  },
  {
   "cell_type": "code",
   "execution_count": 3,
   "id": "51cae587",
   "metadata": {},
   "outputs": [],
   "source": [
    "%autoreload 2"
   ]
  },
  {
   "cell_type": "code",
   "execution_count": 4,
   "id": "090ef42e",
   "metadata": {},
   "outputs": [],
   "source": [
    "import wombat.bsub as bsub"
   ]
  },
  {
   "cell_type": "code",
   "execution_count": 7,
   "id": "16731f65",
   "metadata": {},
   "outputs": [],
   "source": [
    "root = '/diskmnt/Projects/Users/estorrs/pecgs-pipeline'"
   ]
  },
  {
   "cell_type": "markdown",
   "id": "2402ecc6",
   "metadata": {},
   "source": [
    "load sample data"
   ]
  },
  {
   "cell_type": "code",
   "execution_count": 13,
   "id": "97126fe4",
   "metadata": {},
   "outputs": [],
   "source": [
    "input_vcf = '/storage1/fs1/dinglab/Active/Projects/estorrs/sandbox/charger/C3L-00081/HotspotFiltered.vcf.gz'\n",
    "\n",
    "inheritance_gene_list = '/storage1/fs1/dinglab/Active/Projects/estorrs/pecgs_resources/charger/CharGer_dependencyFiles/PanCan/cancer_pred_genes_160genes_011321_curated_forCharGer.txt'\n",
    "pp2_gene_list = '/storage1/fs1/dinglab/Active/Projects/estorrs/pecgs_resources/charger/CharGer_dependencyFiles/PanCan/160cpgs.txt'\n",
    "pathogenic_variants = '/storage1/fs1/dinglab/Active/Projects/estorrs/pecgs_resources/charger/CharGer_dependencyFiles/PanCan/emptyRemoved_20160428_pathogenic_variants_HGVSg_VEP_grch38lifOver.vcf'\n",
    "hotspot3d_clusters = '/storage1/fs1/dinglab/Active/Projects/estorrs/pecgs_resources/charger/CharGer_dependencyFiles/PanCan/cptac_mc3_combined_noHypers_sorted.maf.3D_Proximity.pairwise.recurrence.l0.ad10.r10.clusters'\n",
    "clinvar_alleles = '/storage1/fs1/dinglab/Active/Projects/estorrs/pecgs_resources/charger/CharGer_dependencyFiles/clinvar_alleles.single.b38.tsv.gz'\n",
    "\n",
    "sample = 'C3L-00081'\n"
   ]
  },
  {
   "cell_type": "markdown",
   "id": "d57ac9d9",
   "metadata": {},
   "source": [
    "make test input yaml"
   ]
  },
  {
   "cell_type": "code",
   "execution_count": 10,
   "id": "ca2e5afe",
   "metadata": {},
   "outputs": [
    {
     "data": {
      "text/plain": [
       "{'clinvar_alleles': {'class': 'File', 'path': 'a/file/path'},\n",
       " 'hotspot3d_clusters': {'class': 'File', 'path': 'a/file/path'},\n",
       " 'inheritance_gene_list': {'class': 'File', 'path': 'a/file/path'},\n",
       " 'pathogenic_variants': {'class': 'File', 'path': 'a/file/path'},\n",
       " 'pp2_gene_list': {'class': 'File', 'path': 'a/file/path'},\n",
       " 'sample': 'a_string',\n",
       " 'vcf': {'class': 'File', 'path': 'a/file/path'}}"
      ]
     },
     "execution_count": 10,
     "metadata": {},
     "output_type": "execute_result"
    }
   ],
   "source": [
    "template = yaml.safe_load(open(f'{root}/submodules/pecgs-charger/cwl/template.charger.yaml'))\n",
    "template\n"
   ]
  },
  {
   "cell_type": "code",
   "execution_count": 11,
   "id": "5dfbc4b4",
   "metadata": {},
   "outputs": [],
   "source": [
    "template['vcf']['path'] = input_vcf\n",
    "template['inheritance_gene_list']['path'] = inheritance_gene_list\n",
    "template['pp2_gene_list']['path'] = pp2_gene_list\n",
    "template['pathogenic_variants']['path'] = pathogenic_variants\n",
    "template['hotspot3d_clusters']['path'] = hotspot3d_clusters\n",
    "template['clinvar_alleles']['path'] = clinvar_alleles\n",
    "\n",
    "template['sample'] = sample"
   ]
  },
  {
   "cell_type": "code",
   "execution_count": 12,
   "id": "4ef0e758",
   "metadata": {},
   "outputs": [
    {
     "data": {
      "text/plain": [
       "{'clinvar_alleles': {'class': 'File',\n",
       "  'path': '/storage1/fs1/dinglab/Active/Projects/estorrs/pecgs_resources/charger/CharGer_dependencyFiles/clinvar_alleles.single.b38.tsv.gz'},\n",
       " 'hotspot3d_clusters': {'class': 'File',\n",
       "  'path': '/storage1/fs1/dinglab/Active/Projects/estorrs/pecgs_resources/charger/CharGer_dependencyFiles/PanCan/cptac_mc3_combined_noHypers_sorted.maf.3D_Proximity.pairwise.recurrence.l0.ad10.r10.clusters'},\n",
       " 'inheritance_gene_list': {'class': 'File',\n",
       "  'path': '/storage1/fs1/dinglab/Active/Projects/estorrs/pecgs_resources/charger/CharGer_dependencyFiles/PanCan/cancer_pred_genes_160genes_011321_curated_forCharGer.txt'},\n",
       " 'pathogenic_variants': {'class': 'File',\n",
       "  'path': '/storage1/fs1/dinglab/Active/Projects/estorrs/pecgs_resources/charger/CharGer_dependencyFiles/PanCan/emptyRemoved_20160428_pathogenic_variants_HGVSg_VEP_grch38lifOver.vcf'},\n",
       " 'pp2_gene_list': {'class': 'File',\n",
       "  'path': '/storage1/fs1/dinglab/Active/Projects/estorrs/pecgs_resources/charger/CharGer_dependencyFiles/PanCan/160cpgs.txt'},\n",
       " 'sample': 'C3L-00081',\n",
       " 'vcf': {'class': 'File',\n",
       "  'path': '/storage1/fs1/dinglab/Active/Projects/estorrs/sandbox/charger/C3L-00081/HotspotFiltered.vcf.gz'}}"
      ]
     },
     "execution_count": 12,
     "metadata": {},
     "output_type": "execute_result"
    }
   ],
   "source": [
    "template"
   ]
  },
  {
   "cell_type": "code",
   "execution_count": 17,
   "id": "a826e901",
   "metadata": {},
   "outputs": [],
   "source": [
    "yaml.safe_dump(template, open(f'../tests/data/charger/{sample}_inputs.yaml', 'w'))"
   ]
  },
  {
   "cell_type": "markdown",
   "id": "12560a0a",
   "metadata": {},
   "source": [
    "make cromwell compute1 config"
   ]
  },
  {
   "cell_type": "code",
   "execution_count": 18,
   "id": "08d83271",
   "metadata": {},
   "outputs": [
    {
     "data": {
      "text/plain": [
       "{'mem': 10,\n",
       " 'n_processes': 1,\n",
       " 'max_mem': None,\n",
       " 'docker': 'python:3.8',\n",
       " 'queue': 'dinglab',\n",
       " 'group': 'compute-dinglab',\n",
       " 'group_name': 'test_cromwell',\n",
       " 'n_concurrent': 10,\n",
       " 'interactive': False,\n",
       " 'username': 'estorrs'}"
      ]
     },
     "execution_count": 18,
     "metadata": {},
     "output_type": "execute_result"
    }
   ],
   "source": [
    "args = bsub.DEFAULT_ARGS\n",
    "args['group_name'] = 'test_cromwell'\n",
    "args"
   ]
  },
  {
   "cell_type": "code",
   "execution_count": 19,
   "id": "907b723c",
   "metadata": {},
   "outputs": [],
   "source": [
    "workflow_root = f'/scratch1/fs1/dinglab/estorrs/cromwell-data/pecgs/testing/charger/{sample}'\n",
    "output_fp = f'../tests/data/charger/{sample}.cromwell-config-db.compute1.dat'\n",
    "args['queue'] = 'general'\n",
    "bsub.save_compute1_cromwell_template(workflow_root, output_fp, queue=args['queue'])"
   ]
  },
  {
   "cell_type": "code",
   "execution_count": null,
   "id": "f5ec1447",
   "metadata": {},
   "outputs": [],
   "source": []
  },
  {
   "cell_type": "markdown",
   "id": "a474eb61",
   "metadata": {},
   "source": [
    "make execution script"
   ]
  },
  {
   "cell_type": "code",
   "execution_count": 31,
   "id": "f1ab9ce6",
   "metadata": {},
   "outputs": [],
   "source": [
    "TEST_DIR_ROOT = '/storage1/fs1/dinglab/Active/Projects/estorrs/wombat/tests/data/charger'\n",
    "TOOL_ROOT = '/storage1/fs1/dinglab/Active/Projects/estorrs/pecgs-pipeline'\n",
    "\n",
    "dconfig = os.path.join(TEST_DIR_ROOT, f'{sample}.cromwell-config-db.compute1.dat')\n",
    "cwl_fp = os.path.join(TOOL_ROOT, 'submodules', 'pecgs-charger', 'cwl', 'charger.cwl')\n",
    "inputs_fp = os.path.join(TEST_DIR_ROOT, f'{sample}_inputs.yaml')\n",
    "log_fp = os.path.join(TEST_DIR_ROOT, f'{sample}.log')\n",
    "volumes = [TEST_DIR_ROOT, TOOL_ROOT, workflow_root, '/storage1/fs1/dinglab/Active', '/storage1/fs1/m.wyczalkowski/Active', '/scratch1/fs1/dinglab/estorrs']"
   ]
  },
  {
   "cell_type": "code",
   "execution_count": 36,
   "id": "573c9852",
   "metadata": {},
   "outputs": [],
   "source": [
    "run_commands = bsub.cromwell_commands(dconfig, cwl_fp, inputs_fp, args, volumes,\n",
    "                                     workflow_root=workflow_root, interactive=False,\n",
    "                                     log_fp=log_fp)\n",
    "filepath = os.path.join('../tests/data/charger/run_job.sh')\n",
    "bsub.write_command_file(run_commands, filepath)"
   ]
  },
  {
   "cell_type": "code",
   "execution_count": 37,
   "id": "0fd11e67",
   "metadata": {},
   "outputs": [
    {
     "data": {
      "text/plain": [
       "['mkdir -p /scratch1/fs1/dinglab/estorrs/cromwell-data/pecgs/testing/charger/C3L-00081/cromwell-workdir/logs',\n",
       " 'source /opt/ibm/lsfsuite/lsf/conf/lsf.conf',\n",
       " 'export LSF_DOCKER_NETWORK=host',\n",
       " 'export LSF_DOCKER_VOLUMES=\"/storage1/fs1/dinglab/Active/Projects/estorrs/wombat/tests/data/charger:/storage1/fs1/dinglab/Active/Projects/estorrs/wombat/tests/data/charger /storage1/fs1/dinglab/Active/Projects/estorrs/pecgs-pipeline:/storage1/fs1/dinglab/Active/Projects/estorrs/pecgs-pipeline /scratch1/fs1/dinglab/estorrs/cromwell-data/pecgs/testing/charger/C3L-00081:/scratch1/fs1/dinglab/estorrs/cromwell-data/pecgs/testing/charger/C3L-00081 /storage1/fs1/dinglab/Active:/storage1/fs1/dinglab/Active /storage1/fs1/m.wyczalkowski/Active:/storage1/fs1/m.wyczalkowski/Active /scratch1/fs1/dinglab/estorrs:/scratch1/fs1/dinglab/estorrs\"',\n",
       " 'bgadd -L 10 /estorrs/test_cromwell',\n",
       " 'export PATH=\"/opt/java/openjdk/bin:$PATH\"',\n",
       " \"bsub -n 1 -q general -G compute-dinglab -a 'docker(estorrs/cromwell-runner:58)' -g /estorrs/test_cromwell -J dbe10d1d-bc82-4861-b38c-637776936d32 -oo /storage1/fs1/dinglab/Active/Projects/estorrs/wombat/tests/data/charger/C3L-00081.log '/opt/java/openjdk/bin/java -Dconfig.file=/storage1/fs1/dinglab/Active/Projects/estorrs/wombat/tests/data/charger/C3L-00081.cromwell-config-db.compute1.dat -jar /app/cromwell-78-38cd360.jar run -t cwl -i /storage1/fs1/dinglab/Active/Projects/estorrs/wombat/tests/data/charger/C3L-00081_inputs.yaml /storage1/fs1/dinglab/Active/Projects/estorrs/pecgs-pipeline/submodules/pecgs-charger/cwl/charger.cwl'\"]"
      ]
     },
     "execution_count": 37,
     "metadata": {},
     "output_type": "execute_result"
    }
   ],
   "source": [
    "run_commands"
   ]
  },
  {
   "cell_type": "code",
   "execution_count": null,
   "id": "dd5a6aee",
   "metadata": {},
   "outputs": [],
   "source": []
  }
 ],
 "metadata": {
  "kernelspec": {
   "display_name": "Python 3 (ipykernel)",
   "language": "python",
   "name": "python3"
  },
  "language_info": {
   "codemirror_mode": {
    "name": "ipython",
    "version": 3
   },
   "file_extension": ".py",
   "mimetype": "text/x-python",
   "name": "python",
   "nbconvert_exporter": "python",
   "pygments_lexer": "ipython3",
   "version": "3.8.12"
  }
 },
 "nbformat": 4,
 "nbformat_minor": 5
}
