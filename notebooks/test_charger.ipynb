{
 "cells": [
  {
   "cell_type": "code",
   "execution_count": 1,
   "id": "39d81adc",
   "metadata": {},
   "outputs": [],
   "source": [
    "import json\n",
    "import yaml\n",
    "import uuid"
   ]
  },
  {
   "cell_type": "code",
   "execution_count": 10,
   "id": "00d0ce1b",
   "metadata": {},
   "outputs": [],
   "source": [
    "import wombat.bsub as bsub\n",
    "import os"
   ]
  },
  {
   "cell_type": "code",
   "execution_count": null,
   "id": "2e16293f",
   "metadata": {},
   "outputs": [],
   "source": []
  },
  {
   "cell_type": "code",
   "execution_count": 2,
   "id": "3397ac85",
   "metadata": {},
   "outputs": [
    {
     "data": {
      "text/plain": [
       "{'vcf': {'class': 'File', 'path': 'a/file/path'}}"
      ]
     },
     "execution_count": 2,
     "metadata": {},
     "output_type": "execute_result"
    }
   ],
   "source": [
    "t = yaml.safe_load(open('/home/estorrs/pecgs-pipeline/cwl/charger/template.charger.yaml'))\n",
    "t"
   ]
  },
  {
   "cell_type": "code",
   "execution_count": 3,
   "id": "38b49f48",
   "metadata": {},
   "outputs": [
    {
     "data": {
      "text/plain": [
       "{'vcf': {'class': 'File',\n",
       "  'path': '/scratch1/fs1/dinglab/estorrs/cromwell-data/pecgs/testing/pecgs_TN_wxs_bam/runs/C3L-00677_2a9edf1e-76df-4595-9125-fb9b9d919621/cromwell-workdir/cromwell-executions/pecgs_TN_wxs_bam.cwl/05158e98-46ce-4fbe-84d5-e583fd353767/call-run_tinjasmine/TinJasmine.cwl/0dbce154-310b-4c81-a820-be6e67ab7542/call-canonical_filter/execution/output/HotspotFiltered.vcf'}}"
      ]
     },
     "execution_count": 3,
     "metadata": {},
     "output_type": "execute_result"
    }
   ],
   "source": [
    "template = {\n",
    "    'vcf': {\n",
    "        'class': 'File',\n",
    "        'path': '/scratch1/fs1/dinglab/estorrs/cromwell-data/pecgs/testing/pecgs_TN_wxs_bam/runs/C3L-00677_2a9edf1e-76df-4595-9125-fb9b9d919621/cromwell-workdir/cromwell-executions/pecgs_TN_wxs_bam.cwl/05158e98-46ce-4fbe-84d5-e583fd353767/call-run_tinjasmine/TinJasmine.cwl/0dbce154-310b-4c81-a820-be6e67ab7542/call-canonical_filter/execution/output/HotspotFiltered.vcf'\n",
    "    }\n",
    "}\n",
    "template"
   ]
  },
  {
   "cell_type": "code",
   "execution_count": 5,
   "id": "49d0e85b",
   "metadata": {},
   "outputs": [],
   "source": [
    "yaml.safe_dump(template, open('../tests/data/charger/C3L-00677_inputs.yaml', 'w'))"
   ]
  },
  {
   "cell_type": "code",
   "execution_count": 8,
   "id": "70081645",
   "metadata": {},
   "outputs": [],
   "source": [
    "workflow_root = '/scratch1/fs1/dinglab/estorrs/cromwell-data/pecgs/testing/charger/C3L-00677'\n",
    "output_fp = '../tests/data/charger/C3L-00677.cromwell-config-db.compute1.dat'\n",
    "bsub.save_compute1_cromwell_template(workflow_root, output_fp)"
   ]
  },
  {
   "cell_type": "code",
   "execution_count": 11,
   "id": "ed21b2cd",
   "metadata": {},
   "outputs": [],
   "source": [
    "TEST_DIR_ROOT = '/storage1/fs1/dinglab/Active/Projects/estorrs/wombat/tests/data/charger'\n",
    "TOOL_ROOT = '/storage1/fs1/dinglab/Active/Projects/estorrs/pecgs-pipeline'\n",
    "\n",
    "dconfig = os.path.join(TEST_DIR_ROOT, 'C3L-00677.cromwell-config-db.compute1.dat')\n",
    "cwl_fp = os.path.join(TOOL_ROOT, 'cwl', 'charger', 'charger.cwl')\n",
    "inputs_fp = os.path.join(TEST_DIR_ROOT, 'C3L-00677_inputs.yaml')\n",
    "volumes = [TEST_DIR_ROOT, TOOL_ROOT, workflow_root, '/storage1/fs1/dinglab/Active', '/storage1/fs1/m.wyczalkowski/Active', '/scratch1/fs1/dinglab/estorrs']"
   ]
  },
  {
   "cell_type": "code",
   "execution_count": 12,
   "id": "736e6d40",
   "metadata": {},
   "outputs": [
    {
     "data": {
      "text/plain": [
       "{'mem': 10,\n",
       " 'n_processes': 1,\n",
       " 'max_mem': None,\n",
       " 'docker': 'python:3.8',\n",
       " 'queue': 'dinglab',\n",
       " 'group': 'compute-dinglab',\n",
       " 'group_name': 'test_cromwell',\n",
       " 'n_concurrent': 10,\n",
       " 'interactive': False,\n",
       " 'username': 'estorrs'}"
      ]
     },
     "execution_count": 12,
     "metadata": {},
     "output_type": "execute_result"
    }
   ],
   "source": [
    "args = bsub.DEFAULT_ARGS\n",
    "args['group_name'] = 'test_cromwell'\n",
    "args"
   ]
  },
  {
   "cell_type": "code",
   "execution_count": 13,
   "id": "ffb85b22",
   "metadata": {},
   "outputs": [],
   "source": [
    "start_commands, run_command = bsub.cromwell_commands(dconfig, cwl_fp, inputs_fp, args, volumes, workflow_root=workflow_root)\n",
    "filepath = os.path.join('../tests/data/charger/start_server.sh')\n",
    "bsub.write_command_file(start_commands, filepath)\n",
    "filepath = os.path.join('../tests/data/charger/run_job.sh')\n",
    "bsub.write_command_file([run_command], filepath)"
   ]
  },
  {
   "cell_type": "code",
   "execution_count": 14,
   "id": "e2d122a1",
   "metadata": {},
   "outputs": [
    {
     "name": "stdout",
     "output_type": "stream",
     "text": [
      "mkdir -p /scratch1/fs1/dinglab/estorrs/cromwell-data/pecgs/testing/charger/C3L-00677/cromwell-workdir/logs\n",
      "source /opt/ibm/lsfsuite/lsf/conf/lsf.conf\n",
      "export LSF_DOCKER_NETWORK=host\n",
      "export LSF_DOCKER_VOLUMES=\"/storage1/fs1/dinglab/Active/Projects/estorrs/wombat/tests/data/charger:/storage1/fs1/dinglab/Active/Projects/estorrs/wombat/tests/data/charger /storage1/fs1/dinglab/Active/Projects/estorrs/pecgs-pipeline:/storage1/fs1/dinglab/Active/Projects/estorrs/pecgs-pipeline /scratch1/fs1/dinglab/estorrs/cromwell-data/pecgs/testing/charger/C3L-00677:/scratch1/fs1/dinglab/estorrs/cromwell-data/pecgs/testing/charger/C3L-00677 /storage1/fs1/dinglab/Active:/storage1/fs1/dinglab/Active /storage1/fs1/m.wyczalkowski/Active:/storage1/fs1/m.wyczalkowski/Active /scratch1/fs1/dinglab/estorrs:/scratch1/fs1/dinglab/estorrs\"\n",
      "bgadd -L 10 /estorrs/test_cromwell\n",
      "bsub -n 1 -q dinglab-interactive -G compute-dinglab -a 'docker(mwyczalkowski/cromwell-runner)' -g /estorrs/test_cromwell -J 802058a0-5e22-4d87-9231-de01afa29b54 -Is '/bin/bash'\n"
     ]
    }
   ],
   "source": [
    "for c in start_commands: print(c)"
   ]
  },
  {
   "cell_type": "code",
   "execution_count": 15,
   "id": "d0eebffa",
   "metadata": {},
   "outputs": [
    {
     "name": "stdout",
     "output_type": "stream",
     "text": [
      "/usr/bin/java -Dconfig.file=/storage1/fs1/dinglab/Active/Projects/estorrs/wombat/tests/data/charger/C3L-00677.cromwell-config-db.compute1.dat -Djavax.net.ssl.trustStorePassword=changeit -Djavax.net.ssl.trustStore=/gscmnt/gc2560/core/genome/cromwell/cromwell.truststore -jar /usr/local/cromwell/cromwell-47.jar run -t cwl -i /storage1/fs1/dinglab/Active/Projects/estorrs/wombat/tests/data/charger/C3L-00677_inputs.yaml /storage1/fs1/dinglab/Active/Projects/estorrs/pecgs-pipeline/cwl/charger/charger.cwl\n"
     ]
    }
   ],
   "source": [
    "print(run_command)"
   ]
  },
  {
   "cell_type": "code",
   "execution_count": null,
   "id": "81c54bef",
   "metadata": {},
   "outputs": [],
   "source": []
  }
 ],
 "metadata": {
  "kernelspec": {
   "display_name": "Python 3 (ipykernel)",
   "language": "python",
   "name": "python3"
  },
  "language_info": {
   "codemirror_mode": {
    "name": "ipython",
    "version": 3
   },
   "file_extension": ".py",
   "mimetype": "text/x-python",
   "name": "python",
   "nbconvert_exporter": "python",
   "pygments_lexer": "ipython3",
   "version": "3.8.12"
  }
 },
 "nbformat": 4,
 "nbformat_minor": 5
}
