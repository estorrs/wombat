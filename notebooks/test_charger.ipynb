{
 "cells": [
  {
   "cell_type": "code",
   "execution_count": 1,
   "id": "39d81adc",
   "metadata": {},
   "outputs": [],
   "source": [
    "import json\n",
    "import yaml\n",
    "import uuid"
   ]
  },
  {
   "cell_type": "code",
   "execution_count": 7,
   "id": "00d0ce1b",
   "metadata": {},
   "outputs": [],
   "source": [
    "import wombat.bsub as bsub"
   ]
  },
  {
   "cell_type": "code",
   "execution_count": null,
   "id": "2e16293f",
   "metadata": {},
   "outputs": [],
   "source": []
  },
  {
   "cell_type": "code",
   "execution_count": 2,
   "id": "3397ac85",
   "metadata": {},
   "outputs": [
    {
     "data": {
      "text/plain": [
       "{'vcf': {'class': 'File', 'path': 'a/file/path'}}"
      ]
     },
     "execution_count": 2,
     "metadata": {},
     "output_type": "execute_result"
    }
   ],
   "source": [
    "t = yaml.safe_load(open('/home/estorrs/pecgs-pipeline/cwl/charger/template.charger.yaml'))\n",
    "t"
   ]
  },
  {
   "cell_type": "code",
   "execution_count": 3,
   "id": "38b49f48",
   "metadata": {},
   "outputs": [
    {
     "data": {
      "text/plain": [
       "{'vcf': {'class': 'File',\n",
       "  'path': '/scratch1/fs1/dinglab/estorrs/cromwell-data/pecgs/testing/pecgs_TN_wxs_bam/runs/C3L-00677_2a9edf1e-76df-4595-9125-fb9b9d919621/cromwell-workdir/cromwell-executions/pecgs_TN_wxs_bam.cwl/05158e98-46ce-4fbe-84d5-e583fd353767/call-run_tinjasmine/TinJasmine.cwl/0dbce154-310b-4c81-a820-be6e67ab7542/call-canonical_filter/execution/output/HotspotFiltered.vcf'}}"
      ]
     },
     "execution_count": 3,
     "metadata": {},
     "output_type": "execute_result"
    }
   ],
   "source": [
    "template = {\n",
    "    'vcf': {\n",
    "        'class': 'File',\n",
    "        'path': '/scratch1/fs1/dinglab/estorrs/cromwell-data/pecgs/testing/pecgs_TN_wxs_bam/runs/C3L-00677_2a9edf1e-76df-4595-9125-fb9b9d919621/cromwell-workdir/cromwell-executions/pecgs_TN_wxs_bam.cwl/05158e98-46ce-4fbe-84d5-e583fd353767/call-run_tinjasmine/TinJasmine.cwl/0dbce154-310b-4c81-a820-be6e67ab7542/call-canonical_filter/execution/output/HotspotFiltered.vcf'\n",
    "    }\n",
    "}\n",
    "template"
   ]
  },
  {
   "cell_type": "code",
   "execution_count": 5,
   "id": "49d0e85b",
   "metadata": {},
   "outputs": [],
   "source": [
    "yaml.safe_dump(template, open('../tests/data/charger/C3L-00677_inputs.yaml', 'w'))"
   ]
  },
  {
   "cell_type": "code",
   "execution_count": 8,
   "id": "70081645",
   "metadata": {},
   "outputs": [],
   "source": [
    "workflow_root = '/scratch1/fs1/dinglab/estorrs/cromwell-data/pecgs/testing/charger/C3L-00677'\n",
    "output_fp = '../tests/data/charger/C3L-00677.cromwell-config-db.compute1.dat'\n",
    "bsub.save_compute1_cromwell_template(workflow_root, output_fp)"
   ]
  },
  {
   "cell_type": "code",
   "execution_count": 9,
   "id": "ed21b2cd",
   "metadata": {},
   "outputs": [
    {
     "ename": "NameError",
     "evalue": "name 'os' is not defined",
     "output_type": "error",
     "traceback": [
      "\u001b[0;31m---------------------------------------------------------------------------\u001b[0m",
      "\u001b[0;31mNameError\u001b[0m                                 Traceback (most recent call last)",
      "Input \u001b[0;32mIn [9]\u001b[0m, in \u001b[0;36m<module>\u001b[0;34m\u001b[0m\n\u001b[1;32m      1\u001b[0m TEST_DIR_ROOT \u001b[38;5;241m=\u001b[39m \u001b[38;5;124m'\u001b[39m\u001b[38;5;124m/storage1/fs1/dinglab/Active/Projects/estorrs/wombat/tests/data/charger\u001b[39m\u001b[38;5;124m'\u001b[39m\n\u001b[1;32m      2\u001b[0m TOOL_ROOT \u001b[38;5;241m=\u001b[39m \u001b[38;5;124m'\u001b[39m\u001b[38;5;124m/storage1/fs1/dinglab/Active/Projects/estorrs/pecgs-pipeline\u001b[39m\u001b[38;5;124m'\u001b[39m\n\u001b[0;32m----> 4\u001b[0m dconfig \u001b[38;5;241m=\u001b[39m \u001b[43mos\u001b[49m\u001b[38;5;241m.\u001b[39mpath\u001b[38;5;241m.\u001b[39mjoin(TEST_DIR_ROOT, \u001b[38;5;124m'\u001b[39m\u001b[38;5;124mC3L-00677.cromwell-config-db.compute1.dat\u001b[39m\u001b[38;5;124m'\u001b[39m)\n\u001b[1;32m      5\u001b[0m cwl_fp \u001b[38;5;241m=\u001b[39m os\u001b[38;5;241m.\u001b[39mpath\u001b[38;5;241m.\u001b[39mjoin(TOOL_ROOT, \u001b[38;5;124m'\u001b[39m\u001b[38;5;124mcwl\u001b[39m\u001b[38;5;124m'\u001b[39m, \u001b[38;5;124m'\u001b[39m\u001b[38;5;124mcharger\u001b[39m\u001b[38;5;124m'\u001b[39m, \u001b[38;5;124m'\u001b[39m\u001b[38;5;124mcharger.cwl\u001b[39m\u001b[38;5;124m'\u001b[39m)\n\u001b[1;32m      6\u001b[0m inputs_fp \u001b[38;5;241m=\u001b[39m os\u001b[38;5;241m.\u001b[39mpath\u001b[38;5;241m.\u001b[39mjoin(TEST_DIR_ROOT, \u001b[38;5;124m'\u001b[39m\u001b[38;5;124mC3L-00677_inputs.yaml\u001b[39m\u001b[38;5;124m'\u001b[39m)\n",
      "\u001b[0;31mNameError\u001b[0m: name 'os' is not defined"
     ]
    }
   ],
   "source": [
    "TEST_DIR_ROOT = '/storage1/fs1/dinglab/Active/Projects/estorrs/wombat/tests/data/charger'\n",
    "TOOL_ROOT = '/storage1/fs1/dinglab/Active/Projects/estorrs/pecgs-pipeline'\n",
    "\n",
    "dconfig = os.path.join(TEST_DIR_ROOT, 'C3L-00677.cromwell-config-db.compute1.dat')\n",
    "cwl_fp = os.path.join(TOOL_ROOT, 'cwl', 'charger', 'charger.cwl')\n",
    "inputs_fp = os.path.join(TEST_DIR_ROOT, 'C3L-00677_inputs.yaml')\n",
    "volumes = [TEST_DIR_ROOT, TOOL_ROOT, workflow_root, '/storage1/fs1/dinglab/Active', '/storage1/fs1/m.wyczalkowski/Active', '/scratch1/fs1/dinglab/estorrs']"
   ]
  },
  {
   "cell_type": "code",
   "execution_count": 38,
   "id": "736e6d40",
   "metadata": {},
   "outputs": [
    {
     "data": {
      "text/plain": [
       "{'mem': 10,\n",
       " 'n_processes': 1,\n",
       " 'max_mem': None,\n",
       " 'docker': 'python:3.8',\n",
       " 'queue': 'dinglab',\n",
       " 'group': 'compute-dinglab',\n",
       " 'group_name': 'test_cromwell',\n",
       " 'n_concurrent': 10,\n",
       " 'interactive': False,\n",
       " 'username': 'estorrs'}"
      ]
     },
     "execution_count": 38,
     "metadata": {},
     "output_type": "execute_result"
    }
   ],
   "source": [
    "args = bsub.DEFAULT_ARGS\n",
    "args['group_name'] = 'test_cromwell'\n",
    "args"
   ]
  },
  {
   "cell_type": "code",
   "execution_count": 39,
   "id": "ffb85b22",
   "metadata": {},
   "outputs": [],
   "source": [
    "start_commands, run_command = bsub.cromwell_commands(dconfig, cwl_fp, inputs_fp, args, volumes, workflow_root=workflow_root)\n",
    "filepath = os.path.join('../tests/data/align_wxs/start_server.sh')\n",
    "bsub.write_command_file(start_commands, filepath)\n",
    "filepath = os.path.join('../tests/data/align_wxs/run_job.sh')\n",
    "bsub.write_command_file([run_command], filepath)"
   ]
  },
  {
   "cell_type": "code",
   "execution_count": 40,
   "id": "e2d122a1",
   "metadata": {},
   "outputs": [
    {
     "name": "stdout",
     "output_type": "stream",
     "text": [
      "mkdir -p /scratch1/fs1/dinglab/estorrs/cromwell-data/pecgs/testing/align_wxs/HT191P1-S1H1A3Y3/cromwell-workdir/logs\n",
      "source /opt/ibm/lsfsuite/lsf/conf/lsf.conf\n",
      "export LSF_DOCKER_NETWORK=host\n",
      "export LSF_DOCKER_VOLUMES=\"/storage1/fs1/dinglab/Active/Projects/estorrs/wombat/tests/data/align_wxs:/storage1/fs1/dinglab/Active/Projects/estorrs/wombat/tests/data/align_wxs /storage1/fs1/dinglab/Active/Projects/estorrs/pecgs-pipeline:/storage1/fs1/dinglab/Active/Projects/estorrs/pecgs-pipeline /scratch1/fs1/dinglab/estorrs/cromwell-data/pecgs/testing/align_wxs/HT191P1-S1H1A3Y3:/scratch1/fs1/dinglab/estorrs/cromwell-data/pecgs/testing/align_wxs/HT191P1-S1H1A3Y3 /storage1/fs1/dinglab/Active:/storage1/fs1/dinglab/Active /storage1/fs1/m.wyczalkowski/Active:/storage1/fs1/m.wyczalkowski/Active /scratch1/fs1/dinglab/estorrs:/scratch1/fs1/dinglab/estorrs\"\n",
      "bgadd -L 10 /estorrs/test_cromwell\n",
      "bsub -n 1 -q dinglab-interactive -G compute-dinglab -a 'docker(mwyczalkowski/cromwell-runner)' -g /estorrs/test_cromwell -J 7c8736e9-a196-4ad6-8a01-be22b93fc6d7 -Is '/bin/bash'\n"
     ]
    }
   ],
   "source": [
    "for c in start_commands: print(c)"
   ]
  },
  {
   "cell_type": "code",
   "execution_count": 41,
   "id": "d0eebffa",
   "metadata": {},
   "outputs": [
    {
     "name": "stdout",
     "output_type": "stream",
     "text": [
      "/usr/bin/java -Dconfig.file=/storage1/fs1/dinglab/Active/Projects/estorrs/wombat/tests/data/align_wxs/HT191P1-S1H1A3Y3.cromwell-config-db.compute1.dat -Djavax.net.ssl.trustStorePassword=changeit -Djavax.net.ssl.trustStore=/gscmnt/gc2560/core/genome/cromwell/cromwell.truststore -jar /usr/local/cromwell/cromwell-47.jar run -t cwl -i /storage1/fs1/dinglab/Active/Projects/estorrs/wombat/tests/data/align_wxs/HT191P1-S1H1A3Y3_inputs.yaml /storage1/fs1/dinglab/Active/Projects/estorrs/pecgs-pipeline/cwl/align_dnaseq/align_dnaseq_workflow.cwl\n"
     ]
    }
   ],
   "source": [
    "print(run_command)"
   ]
  },
  {
   "cell_type": "code",
   "execution_count": null,
   "id": "81c54bef",
   "metadata": {},
   "outputs": [],
   "source": []
  }
 ],
 "metadata": {
  "kernelspec": {
   "display_name": "Python 3 (ipykernel)",
   "language": "python",
   "name": "python3"
  },
  "language_info": {
   "codemirror_mode": {
    "name": "ipython",
    "version": 3
   },
   "file_extension": ".py",
   "mimetype": "text/x-python",
   "name": "python",
   "nbconvert_exporter": "python",
   "pygments_lexer": "ipython3",
   "version": "3.8.12"
  }
 },
 "nbformat": 4,
 "nbformat_minor": 5
}
