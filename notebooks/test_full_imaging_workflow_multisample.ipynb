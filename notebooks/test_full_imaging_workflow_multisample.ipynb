{
 "cells": [
  {
   "cell_type": "code",
   "execution_count": 1,
   "id": "5432e572",
   "metadata": {},
   "outputs": [],
   "source": [
    "import os\n",
    "import yaml\n",
    "import json\n",
    "import pandas as pd"
   ]
  },
  {
   "cell_type": "code",
   "execution_count": 2,
   "id": "f966ed05",
   "metadata": {},
   "outputs": [],
   "source": [
    "%load_ext autoreload"
   ]
  },
  {
   "cell_type": "code",
   "execution_count": 3,
   "id": "51cae587",
   "metadata": {},
   "outputs": [],
   "source": [
    "%autoreload 2"
   ]
  },
  {
   "cell_type": "code",
   "execution_count": 9,
   "id": "090ef42e",
   "metadata": {},
   "outputs": [],
   "source": [
    "import wombat.bsub as bsub\n",
    "import wombat.multiplex_imaging_pipeline as pipeline"
   ]
  },
  {
   "cell_type": "markdown",
   "id": "d57ac9d9",
   "metadata": {},
   "source": [
    "make test input yaml"
   ]
  },
  {
   "cell_type": "code",
   "execution_count": 6,
   "id": "c4932de5",
   "metadata": {},
   "outputs": [
    {
     "data": {
      "text/html": [
       "<div>\n",
       "<style scoped>\n",
       "    .dataframe tbody tr th:only-of-type {\n",
       "        vertical-align: middle;\n",
       "    }\n",
       "\n",
       "    .dataframe tbody tr th {\n",
       "        vertical-align: top;\n",
       "    }\n",
       "\n",
       "    .dataframe thead th {\n",
       "        text-align: right;\n",
       "    }\n",
       "</style>\n",
       "<table border=\"1\" class=\"dataframe\">\n",
       "  <thead>\n",
       "    <tr style=\"text-align: right;\">\n",
       "      <th></th>\n",
       "      <th>specimen_id</th>\n",
       "      <th>input_tif</th>\n",
       "      <th>platform</th>\n",
       "      <th>bbox</th>\n",
       "      <th>nuclei_channels</th>\n",
       "      <th>membrane_channels</th>\n",
       "      <th>mask_markers</th>\n",
       "      <th>group</th>\n",
       "      <th>project</th>\n",
       "    </tr>\n",
       "    <tr>\n",
       "      <th>run_id</th>\n",
       "      <th></th>\n",
       "      <th></th>\n",
       "      <th></th>\n",
       "      <th></th>\n",
       "      <th></th>\n",
       "      <th></th>\n",
       "      <th></th>\n",
       "      <th></th>\n",
       "      <th></th>\n",
       "    </tr>\n",
       "  </thead>\n",
       "  <tbody>\n",
       "    <tr>\n",
       "      <th>HT206B1-S1H5_U1_07012023_test</th>\n",
       "      <td>HT206B1-S1H5_U1_07012023_test</td>\n",
       "      <td>/storage1/fs1/dinglab/Active/Projects/estorrs/...</td>\n",
       "      <td>phenocycler</td>\n",
       "      <td>0,10000,3000,13000</td>\n",
       "      <td>DAPI</td>\n",
       "      <td>Pan-Cytokeratin,E-cadherin,CD45,CD8,CD3e,CD4,V...</td>\n",
       "      <td>Pan-Cytokeratin,E-cadherin</td>\n",
       "      <td>HTAN</td>\n",
       "      <td>Multiplex_Imaging</td>\n",
       "    </tr>\n",
       "    <tr>\n",
       "      <th>HT206B1-S1H5_U2_07012023_test</th>\n",
       "      <td>HT206B1-S1H5_U2_07012023_test</td>\n",
       "      <td>/storage1/fs1/dinglab/Active/Projects/estorrs/...</td>\n",
       "      <td>phenocycler</td>\n",
       "      <td>0,10000,17000,26000</td>\n",
       "      <td>DAPI</td>\n",
       "      <td>Pan-Cytokeratin,E-cadherin,CD45,CD8,CD3e,CD4,V...</td>\n",
       "      <td>Pan-Cytokeratin,E-cadherin</td>\n",
       "      <td>HTAN</td>\n",
       "      <td>Multiplex_Imaging</td>\n",
       "    </tr>\n",
       "    <tr>\n",
       "      <th>HT206B1_old</th>\n",
       "      <td>HT206B1_old</td>\n",
       "      <td>/storage1/fs1/dinglab/Active/Projects/estorrs/...</td>\n",
       "      <td>codex</td>\n",
       "      <td>NaN</td>\n",
       "      <td>DAPI</td>\n",
       "      <td>Pan-Cytokeratin,E-cadherin,CD45,CD8,CD3e,CD4,V...</td>\n",
       "      <td>Pan-Cytokeratin,E-cadherin</td>\n",
       "      <td>HTAN</td>\n",
       "      <td>Multiplex_Imaging</td>\n",
       "    </tr>\n",
       "  </tbody>\n",
       "</table>\n",
       "</div>"
      ],
      "text/plain": [
       "                                                 specimen_id  \\\n",
       "run_id                                                         \n",
       "HT206B1-S1H5_U1_07012023_test  HT206B1-S1H5_U1_07012023_test   \n",
       "HT206B1-S1H5_U2_07012023_test  HT206B1-S1H5_U2_07012023_test   \n",
       "HT206B1_old                                      HT206B1_old   \n",
       "\n",
       "                                                                       input_tif  \\\n",
       "run_id                                                                             \n",
       "HT206B1-S1H5_U1_07012023_test  /storage1/fs1/dinglab/Active/Projects/estorrs/...   \n",
       "HT206B1-S1H5_U2_07012023_test  /storage1/fs1/dinglab/Active/Projects/estorrs/...   \n",
       "HT206B1_old                    /storage1/fs1/dinglab/Active/Projects/estorrs/...   \n",
       "\n",
       "                                  platform                 bbox  \\\n",
       "run_id                                                            \n",
       "HT206B1-S1H5_U1_07012023_test  phenocycler   0,10000,3000,13000   \n",
       "HT206B1-S1H5_U2_07012023_test  phenocycler  0,10000,17000,26000   \n",
       "HT206B1_old                          codex                  NaN   \n",
       "\n",
       "                              nuclei_channels  \\\n",
       "run_id                                          \n",
       "HT206B1-S1H5_U1_07012023_test            DAPI   \n",
       "HT206B1-S1H5_U2_07012023_test            DAPI   \n",
       "HT206B1_old                              DAPI   \n",
       "\n",
       "                                                               membrane_channels  \\\n",
       "run_id                                                                             \n",
       "HT206B1-S1H5_U1_07012023_test  Pan-Cytokeratin,E-cadherin,CD45,CD8,CD3e,CD4,V...   \n",
       "HT206B1-S1H5_U2_07012023_test  Pan-Cytokeratin,E-cadherin,CD45,CD8,CD3e,CD4,V...   \n",
       "HT206B1_old                    Pan-Cytokeratin,E-cadherin,CD45,CD8,CD3e,CD4,V...   \n",
       "\n",
       "                                             mask_markers group  \\\n",
       "run_id                                                            \n",
       "HT206B1-S1H5_U1_07012023_test  Pan-Cytokeratin,E-cadherin  HTAN   \n",
       "HT206B1-S1H5_U2_07012023_test  Pan-Cytokeratin,E-cadherin  HTAN   \n",
       "HT206B1_old                    Pan-Cytokeratin,E-cadherin  HTAN   \n",
       "\n",
       "                                         project  \n",
       "run_id                                            \n",
       "HT206B1-S1H5_U1_07012023_test  Multiplex_Imaging  \n",
       "HT206B1-S1H5_U2_07012023_test  Multiplex_Imaging  \n",
       "HT206B1_old                    Multiplex_Imaging  "
      ]
     },
     "execution_count": 6,
     "metadata": {},
     "output_type": "execute_result"
    }
   ],
   "source": [
    "run_list = pd.read_csv('../tests/data/full_imaging_workflow_multisample/run_list.txt', sep='\\t', index_col='run_id')\n",
    "run_list"
   ]
  },
  {
   "cell_type": "code",
   "execution_count": 7,
   "id": "cf1160ba",
   "metadata": {},
   "outputs": [],
   "source": [
    "run_dir = '/scratch1/fs1/dinglab/estorrs/cromwell-data/pecgs/testing/full_imaging_workflow_multisample'\n",
    "tool_root = '/storage1/fs1/dinglab/Active/Projects/estorrs/multiplex-imaging-pipeline'\n",
    "out_dir = '../tests/data/full_imaging_workflow'\n",
    "run_list = 'run_list.txt'\n",
    "pipeline_variant = 'full_imaging_workflow'\n",
    "queue = 'general'\n",
    "target_dir = '/storage1/fs1/dinglab/Active/Projects/estorrs/wombat/tests/data/full_imaging_workflow_multisample/run'"
   ]
  },
  {
   "cell_type": "code",
   "execution_count": 10,
   "id": "01764c5b",
   "metadata": {},
   "outputs": [],
   "source": [
    "launch_cmds, make_cmd, tidy_cmd, summarize_cmd, transfer_cmd = pipeline.create_run_setup_scripts(\n",
    "    tool_root, out_dir, pipeline_variant, run_list, run_dir,\n",
    "    queue=queue, target_dir=target_dir)"
   ]
  },
  {
   "cell_type": "code",
   "execution_count": 11,
   "id": "9f622a2a",
   "metadata": {},
   "outputs": [
    {
     "name": "stdout",
     "output_type": "stream",
     "text": [
      "mkdir -p /scratch1/fs1/dinglab/estorrs/cromwell-data/pecgs/testing/full_imaging_workflow_multisample\n",
      "export LSF_DOCKER_VOLUMES=\"/storage1/fs1/dinglab/Active:/storage1/fs1/dinglab/Active /scratch1/fs1/dinglab:/scratch1/fs1/dinglab\"\n",
      "export PATH=\"/miniconda/envs/mip/bin:$PATH\"\n",
      "bsub -q dinglab-interactive -G compute-dinglab -Is -a 'docker(estorrs/multiplex-imaging-pipeline:0.0.1)' '/bin/bash'\n"
     ]
    }
   ],
   "source": [
    "for c in launch_cmds: print(c)"
   ]
  },
  {
   "cell_type": "code",
   "execution_count": 12,
   "id": "901aad85",
   "metadata": {},
   "outputs": [
    {
     "data": {
      "text/plain": [
       "'python /storage1/fs1/dinglab/Active/Projects/estorrs/multiplex-imaging-pipeline/src/compute1/generate_run_commands.py make-run --queue general full_imaging_workflow run_list.txt /scratch1/fs1/dinglab/estorrs/cromwell-data/pecgs/testing/full_imaging_workflow_multisample'"
      ]
     },
     "execution_count": 12,
     "metadata": {},
     "output_type": "execute_result"
    }
   ],
   "source": [
    "make_cmd"
   ]
  },
  {
   "cell_type": "code",
   "execution_count": 13,
   "id": "29bf137c",
   "metadata": {},
   "outputs": [
    {
     "data": {
      "text/plain": [
       "'python /storage1/fs1/dinglab/Active/Projects/estorrs/multiplex-imaging-pipeline/src/compute1/generate_run_commands.py tidy-run full_imaging_workflow run_list.txt /scratch1/fs1/dinglab/estorrs/cromwell-data/pecgs/testing/full_imaging_workflow_multisample'"
      ]
     },
     "execution_count": 13,
     "metadata": {},
     "output_type": "execute_result"
    }
   ],
   "source": [
    "tidy_cmd"
   ]
  },
  {
   "cell_type": "code",
   "execution_count": 14,
   "id": "261261a8",
   "metadata": {},
   "outputs": [
    {
     "data": {
      "text/plain": [
       "'python /storage1/fs1/dinglab/Active/Projects/estorrs/multiplex-imaging-pipeline/src/compute1/generate_run_commands.py summarize-run full_imaging_workflow run_list.txt /scratch1/fs1/dinglab/estorrs/cromwell-data/pecgs/testing/full_imaging_workflow_multisample'"
      ]
     },
     "execution_count": 14,
     "metadata": {},
     "output_type": "execute_result"
    }
   ],
   "source": [
    "summarize_cmd"
   ]
  },
  {
   "cell_type": "code",
   "execution_count": 15,
   "id": "84d69a36",
   "metadata": {},
   "outputs": [
    {
     "data": {
      "text/plain": [
       "'python /storage1/fs1/dinglab/Active/Projects/estorrs/multiplex-imaging-pipeline/src/compute1/generate_run_commands.py move-run full_imaging_workflow run_list.txt /scratch1/fs1/dinglab/estorrs/cromwell-data/pecgs/testing/full_imaging_workflow_multisample --target-dir /storage1/fs1/dinglab/Active/Projects/estorrs/wombat/tests/data/full_imaging_workflow_multisample/run'"
      ]
     },
     "execution_count": 15,
     "metadata": {},
     "output_type": "execute_result"
    }
   ],
   "source": [
    "transfer_cmd"
   ]
  },
  {
   "cell_type": "code",
   "execution_count": null,
   "id": "fbdd14b3",
   "metadata": {},
   "outputs": [],
   "source": []
  },
  {
   "cell_type": "code",
   "execution_count": null,
   "id": "3cd59684",
   "metadata": {},
   "outputs": [],
   "source": []
  },
  {
   "cell_type": "code",
   "execution_count": null,
   "id": "893dc079",
   "metadata": {},
   "outputs": [],
   "source": []
  },
  {
   "cell_type": "code",
   "execution_count": null,
   "id": "57e120a6",
   "metadata": {},
   "outputs": [],
   "source": []
  },
  {
   "cell_type": "code",
   "execution_count": null,
   "id": "87722f8a",
   "metadata": {},
   "outputs": [],
   "source": []
  },
  {
   "cell_type": "code",
   "execution_count": null,
   "id": "0bd6d2fc",
   "metadata": {},
   "outputs": [],
   "source": []
  }
 ],
 "metadata": {
  "kernelspec": {
   "display_name": "Python 3 (ipykernel)",
   "language": "python",
   "name": "python3"
  },
  "language_info": {
   "codemirror_mode": {
    "name": "ipython",
    "version": 3
   },
   "file_extension": ".py",
   "mimetype": "text/x-python",
   "name": "python",
   "nbconvert_exporter": "python",
   "pygments_lexer": "ipython3",
   "version": "3.9.16"
  }
 },
 "nbformat": 4,
 "nbformat_minor": 5
}
