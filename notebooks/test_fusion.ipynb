{
 "cells": [
  {
   "cell_type": "code",
   "execution_count": 1,
   "id": "5432e572",
   "metadata": {},
   "outputs": [],
   "source": [
    "import os\n",
    "import yaml\n",
    "import json\n",
    "import pandas as pd"
   ]
  },
  {
   "cell_type": "code",
   "execution_count": 2,
   "id": "f966ed05",
   "metadata": {},
   "outputs": [],
   "source": [
    "%load_ext autoreload"
   ]
  },
  {
   "cell_type": "code",
   "execution_count": 3,
   "id": "51cae587",
   "metadata": {},
   "outputs": [],
   "source": [
    "%autoreload 2"
   ]
  },
  {
   "cell_type": "code",
   "execution_count": 4,
   "id": "090ef42e",
   "metadata": {},
   "outputs": [],
   "source": [
    "import wombat.bsub as bsub"
   ]
  },
  {
   "cell_type": "markdown",
   "id": "2402ecc6",
   "metadata": {},
   "source": [
    "load sample data"
   ]
  },
  {
   "cell_type": "code",
   "execution_count": 9,
   "id": "97126fe4",
   "metadata": {},
   "outputs": [
    {
     "data": {
      "text/plain": [
       "{'id': 'C3L-00677',\n",
       " 'rna-seq': {'tumor': {'R1': {'filepath': '/storage1/fs1/dinglab/Active/Projects/estorrs/pecgs_resources/test_samples/C3L-00677/rna-seq/170906_UNC32-K00270_0058_BHLJ7FBBXX_TGACCA_S4_L007_R1_001.fastq.gz'},\n",
       "   'R2': {'filepath': '/storage1/fs1/dinglab/Active/Projects/estorrs/pecgs_resources/test_samples/C3L-00677/rna-seq/170906_UNC32-K00270_0058_BHLJ7FBBXX_TGACCA_S4_L007_R2_001.fastq.gz'}}},\n",
       " 'wxs': {'normal': {'barcode': 'CPT0071960002',\n",
       "   'filepath': '/storage1/fs1/dinglab/Active/Projects/estorrs/pecgs_resources/test_samples/C3L-00677/wxs/5cee818c-61e8-4441-bd9a-5c984cde9c6b_gdc_realn.bam'},\n",
       "  'tumor': {'barcode': 'CPT0071100006',\n",
       "   'filepath': '/storage1/fs1/dinglab/Active/Projects/estorrs/pecgs_resources/test_samples/C3L-00677/wxs/1d6c4f0f-09c4-4472-a19e-30ee7e0ecf64_gdc_realn.bam'}}}"
      ]
     },
     "execution_count": 9,
     "metadata": {},
     "output_type": "execute_result"
    }
   ],
   "source": [
    "m = yaml.safe_load(open('../tests/data/fusion/C3L-00677.yaml'))\n",
    "m"
   ]
  },
  {
   "cell_type": "code",
   "execution_count": 7,
   "id": "91bac577",
   "metadata": {},
   "outputs": [],
   "source": [
    "m['rna-seq']['tumor']['R1']['filepath'] = '/storage1/fs1/dinglab/Active/Projects/estorrs/pecgs_resources/test_samples/C3L-00677/rna-seq/170906_UNC32-K00270_0058_BHLJ7FBBXX_TGACCA_S4_L007_R1_001.fastq.gz'\n",
    "m['rna-seq']['tumor']['R2']['filepath'] = '/storage1/fs1/dinglab/Active/Projects/estorrs/pecgs_resources/test_samples/C3L-00677/rna-seq/170906_UNC32-K00270_0058_BHLJ7FBBXX_TGACCA_S4_L007_R2_001.fastq.gz'\n",
    "m['wxs']['tumor']['filepath'] = '/storage1/fs1/dinglab/Active/Projects/estorrs/pecgs_resources/test_samples/C3L-00677/wxs/1d6c4f0f-09c4-4472-a19e-30ee7e0ecf64_gdc_realn.bam'\n",
    "m['wxs']['normal']['filepath'] = '/storage1/fs1/dinglab/Active/Projects/estorrs/pecgs_resources/test_samples/C3L-00677/wxs/5cee818c-61e8-4441-bd9a-5c984cde9c6b_gdc_realn.bam'\n",
    "\n",
    "\n"
   ]
  },
  {
   "cell_type": "markdown",
   "id": "d57ac9d9",
   "metadata": {},
   "source": [
    "make test input yaml"
   ]
  },
  {
   "cell_type": "code",
   "execution_count": 10,
   "id": "ca2e5afe",
   "metadata": {},
   "outputs": [
    {
     "data": {
      "text/plain": [
       "{'bwts': {'class': 'Directory', 'path': 'a/file/path'},\n",
       " 'cpu': 'a_int',\n",
       " 'filter_database': {'class': 'Directory', 'path': 'a/file/path'},\n",
       " 'fq_1': {'class': 'File', 'path': 'a/file/path'},\n",
       " 'fq_2': {'class': 'File', 'path': 'a/file/path'},\n",
       " 'fusion_annotator_dir': {'class': 'Directory', 'path': 'a/file/path'},\n",
       " 'genome_db': {'class': 'Directory', 'path': 'a/file/path'},\n",
       " 'genome_lib_dir': {'class': 'Directory', 'path': 'a/file/path'},\n",
       " 'integrate_annotations': {'class': 'File', 'path': 'a/file/path'},\n",
       " 'integrate_executable': {'class': 'File', 'path': 'a/file/path'},\n",
       " 'integrate_fasta': {'class': 'File', 'path': 'a/file/path'},\n",
       " 'sample': 'a_string'}"
      ]
     },
     "execution_count": 10,
     "metadata": {},
     "output_type": "execute_result"
    }
   ],
   "source": [
    "template = yaml.safe_load(open('/home/estorrs/pecgs-pipeline/submodules/pecgs-fusion/cwl/template.fusion.yaml'))\n",
    "template"
   ]
  },
  {
   "cell_type": "code",
   "execution_count": null,
   "id": "3d1b8600",
   "metadata": {},
   "outputs": [],
   "source": [
    "sample = m['id']\n",
    "fq_1 = m['rna-seq']['tumor']['R1']['filepath']\n",
    "fq_2 = m['rna-seq']['tumor']['R2']['filepath']\n",
    "cpu = 16\n",
    "genome_lib_dir = '/data/pecgs/fusion/STAR-Fusion_dependencies/GRCh38_gencode_v37_CTAT_lib_Mar012021.plug-n-play/ctat_genome_lib_build_dir/'\n",
    "genome_db = '/data/pecgs/fusion/ericscript_dependencies/ericscript_db_homosapiens_ensembl84/'\n",
    "# ericscript = '/data/pecgs/fusion/ericscript-0.5.5/ericscript.pl'\n",
    "bwts = '/data/pecgs/fusion/Integrate_dependencies/bwts/'\n",
    "integrate_fasta = '/data/pecgs/fusion/Integrate_dependencies/STAR/hg38.fa'\n",
    "integrate_annotations = '/data/pecgs/fusion/Integrate_dependencies/annot.ensembl.GRCh38.txt'\n",
    "combine_call_script = '/data/pecgs/fusion/Fusion_hg38_scripts/combine_call.pl'\n",
    "filter_script = '/data/pecgs/fusion/Fusion_hg38_scripts/filter.pl'\n"
   ]
  },
  {
   "cell_type": "code",
   "execution_count": 11,
   "id": "5dfbc4b4",
   "metadata": {},
   "outputs": [],
   "source": [
    "template['bwts']['path'] = '/storage1/fs1/dinglab/Active/Projects/estorrs/pecgs_resources/fusion/Integrate_dependencies/bwts'\n",
    "template['integrate_fasta']['path'] = '/storage1/fs1/dinglab/Active/Projects/estorrs/pecgs_resources/fusion/Integrate_dependencies/STAR/hg38.fa'\n",
    "template['integrate_annotations']['path'] = '/storage1/fs1/dinglab/Active/Projects/estorrs/pecgs_resources/fusion/Integrate_dependencies/annot.ensembl.GRCh38.txt'\n",
    "template['integrate_executable']['path'] = '/storage1/fs1/dinglab/Active/Projects/estorrs/pecgs_resources/fusion/INTEGRATE_0_2_6/INTEGRATE-build/bin/Integrate'\n",
    "template['fusion_annotator_dir']['path'] = '/storage1/fs1/dinglab/Active/Projects/estorrs/pecgs_resources/fusion/FusionAnnotator'\n",
    "template['filter_database']['path'] = '/storage1/fs1/dinglab/Active/Projects/estorrs/pecgs_resources/fusion/FilterDatabase'\n",
    "template['genome_db']['path'] = '/storage1/fs1/dinglab/Active/Projects/estorrs/pecgs_resources/fusion/ericscript_dependencies/ericscript_db_homosapiens_ensembl84'\n",
    "template['genome_lib_dir']['path'] = '/storage1/fs1/dinglab/Active/Projects/estorrs/pecgs_resources/fusion/STAR-Fusion_dependencies/GRCh38_gencode_v37_CTAT_lib_Mar012021.plug-n-play/ctat_genome_lib_build_dir'\n",
    "\n",
    "template['sample'] = m['id']\n",
    "template['cpu'] = 1\n",
    "template['fq_1']['path'] = m['rna-seq']['tumor']['R1']['filepath']\n",
    "template['fq_2']['path'] = m['rna-seq']['tumor']['R2']['filepath']\n"
   ]
  },
  {
   "cell_type": "code",
   "execution_count": 12,
   "id": "4ef0e758",
   "metadata": {},
   "outputs": [
    {
     "data": {
      "text/plain": [
       "{'bwts': {'class': 'Directory',\n",
       "  'path': '/storage1/fs1/dinglab/Active/Projects/estorrs/pecgs_resources/fusion/Integrate_dependencies/bwts'},\n",
       " 'cpu': 1,\n",
       " 'filter_database': {'class': 'Directory',\n",
       "  'path': '/storage1/fs1/dinglab/Active/Projects/estorrs/pecgs_resources/fusion/FilterDatabase'},\n",
       " 'fq_1': {'class': 'File',\n",
       "  'path': '/storage1/fs1/dinglab/Active/Projects/estorrs/pecgs_resources/test_samples/C3L-00677/rna-seq/170906_UNC32-K00270_0058_BHLJ7FBBXX_TGACCA_S4_L007_R1_001.fastq.gz'},\n",
       " 'fq_2': {'class': 'File',\n",
       "  'path': '/storage1/fs1/dinglab/Active/Projects/estorrs/pecgs_resources/test_samples/C3L-00677/rna-seq/170906_UNC32-K00270_0058_BHLJ7FBBXX_TGACCA_S4_L007_R2_001.fastq.gz'},\n",
       " 'fusion_annotator_dir': {'class': 'Directory',\n",
       "  'path': '/storage1/fs1/dinglab/Active/Projects/estorrs/pecgs_resources/fusion/FusionAnnotator'},\n",
       " 'genome_db': {'class': 'Directory',\n",
       "  'path': '/storage1/fs1/dinglab/Active/Projects/estorrs/pecgs_resources/fusion/ericscript_dependencies/ericscript_db_homosapiens_ensembl84'},\n",
       " 'genome_lib_dir': {'class': 'Directory',\n",
       "  'path': '/storage1/fs1/dinglab/Active/Projects/estorrs/pecgs_resources/fusion/STAR-Fusion_dependencies/GRCh38_gencode_v37_CTAT_lib_Mar012021.plug-n-play/ctat_genome_lib_build_dir'},\n",
       " 'integrate_annotations': {'class': 'File',\n",
       "  'path': '/storage1/fs1/dinglab/Active/Projects/estorrs/pecgs_resources/fusion/Integrate_dependencies/annot.ensembl.GRCh38.txt'},\n",
       " 'integrate_executable': {'class': 'File',\n",
       "  'path': '/storage1/fs1/dinglab/Active/Projects/estorrs/pecgs_resources/fusion/INTEGRATE_0_2_6/INTEGRATE-build/bin/Integrate'},\n",
       " 'integrate_fasta': {'class': 'File',\n",
       "  'path': '/storage1/fs1/dinglab/Active/Projects/estorrs/pecgs_resources/fusion/Integrate_dependencies/STAR/hg38.fa'},\n",
       " 'sample': 'C3L-00677'}"
      ]
     },
     "execution_count": 12,
     "metadata": {},
     "output_type": "execute_result"
    }
   ],
   "source": [
    "template"
   ]
  },
  {
   "cell_type": "code",
   "execution_count": 13,
   "id": "a826e901",
   "metadata": {},
   "outputs": [],
   "source": [
    "yaml.safe_dump(template, open('../tests/data/fusion/C3L-00677_inputs.yaml', 'w'))"
   ]
  },
  {
   "cell_type": "code",
   "execution_count": null,
   "id": "8bbaec59",
   "metadata": {},
   "outputs": [],
   "source": []
  },
  {
   "cell_type": "markdown",
   "id": "12560a0a",
   "metadata": {},
   "source": [
    "make cromwell compute1 config"
   ]
  },
  {
   "cell_type": "code",
   "execution_count": 14,
   "id": "907b723c",
   "metadata": {},
   "outputs": [],
   "source": [
    "workflow_root = '/scratch1/fs1/dinglab/estorrs/cromwell-data/pecgs/testing/fusion/C3L-00677'\n",
    "output_fp = '../tests/data/fusion/C3L-00677.cromwell-config-db.compute1.dat'\n",
    "bsub.save_compute1_cromwell_template(workflow_root, output_fp)"
   ]
  },
  {
   "cell_type": "code",
   "execution_count": null,
   "id": "f5ec1447",
   "metadata": {},
   "outputs": [],
   "source": []
  },
  {
   "cell_type": "markdown",
   "id": "a474eb61",
   "metadata": {},
   "source": [
    "make execution script"
   ]
  },
  {
   "cell_type": "code",
   "execution_count": 15,
   "id": "f1ab9ce6",
   "metadata": {},
   "outputs": [],
   "source": [
    "TEST_DIR_ROOT = '/storage1/fs1/dinglab/Active/Projects/estorrs/wombat/tests/data/fusion'\n",
    "TOOL_ROOT = '/storage1/fs1/dinglab/Active/Projects/estorrs/pecgs-pipeline'\n",
    "\n",
    "dconfig = os.path.join(TEST_DIR_ROOT, 'C3L-00677.cromwell-config-db.compute1.dat')\n",
    "cwl_fp = os.path.join(TOOL_ROOT, 'submodules', 'pecgs-fusion', 'cwl', 'fusion.cwl')\n",
    "inputs_fp = os.path.join(TEST_DIR_ROOT, 'C3L-00677_inputs.yaml')\n",
    "volumes = [TEST_DIR_ROOT, TOOL_ROOT, workflow_root, '/storage1/fs1/dinglab/Active', '/storage1/fs1/m.wyczalkowski/Active']"
   ]
  },
  {
   "cell_type": "code",
   "execution_count": 16,
   "id": "4f4fc2c7",
   "metadata": {},
   "outputs": [
    {
     "data": {
      "text/plain": [
       "{'mem': 10,\n",
       " 'max_mem': None,\n",
       " 'docker': 'python:3.8',\n",
       " 'queue': 'dinglab',\n",
       " 'group': 'compute-dinglab',\n",
       " 'group_name': 'test_cromwell',\n",
       " 'n_concurrent': 10,\n",
       " 'interactive': False,\n",
       " 'username': 'estorrs'}"
      ]
     },
     "execution_count": 16,
     "metadata": {},
     "output_type": "execute_result"
    }
   ],
   "source": [
    "args = bsub.DEFAULT_ARGS\n",
    "args['group_name'] = 'test_cromwell'\n",
    "args"
   ]
  },
  {
   "cell_type": "code",
   "execution_count": 17,
   "id": "9431583c",
   "metadata": {},
   "outputs": [],
   "source": [
    "start_commands, run_command = bsub.cromwell_commands(dconfig, cwl_fp, inputs_fp, args, volumes)\n",
    "filepath = os.path.join('../tests/data/fusion/start_server.sh')\n",
    "bsub.write_command_file(start_commands, filepath)\n",
    "filepath = os.path.join('../tests/data/fusion/run_job.sh')\n",
    "bsub.write_command_file([run_command], filepath)"
   ]
  },
  {
   "cell_type": "code",
   "execution_count": 18,
   "id": "0fd11e67",
   "metadata": {},
   "outputs": [
    {
     "name": "stdout",
     "output_type": "stream",
     "text": [
      "source /opt/ibm/lsfsuite/lsf/conf/lsf.conf\n",
      "export LSF_DOCKER_NETWORK=host\n",
      "export LSF_DOCKER_VOLUMES=\"/storage1/fs1/dinglab/Active/Projects/estorrs/wombat/tests/data/fusion:/storage1/fs1/dinglab/Active/Projects/estorrs/wombat/tests/data/fusion /storage1/fs1/dinglab/Active/Projects/estorrs/pecgs-pipeline:/storage1/fs1/dinglab/Active/Projects/estorrs/pecgs-pipeline /scratch1/fs1/dinglab/estorrs/cromwell-data/pecgs/testing/fusion/C3L-00677:/scratch1/fs1/dinglab/estorrs/cromwell-data/pecgs/testing/fusion/C3L-00677 /storage1/fs1/dinglab/Active:/storage1/fs1/dinglab/Active /storage1/fs1/m.wyczalkowski/Active:/storage1/fs1/m.wyczalkowski/Active\"\n",
      "bgadd -L 10 /estorrs/test_cromwell\n",
      "bsub -q dinglab-interactive -G compute-dinglab -a 'docker(mwyczalkowski/cromwell-runner)' -Is '/bin/bash'\n"
     ]
    }
   ],
   "source": [
    "for c in start_commands: print(c)"
   ]
  },
  {
   "cell_type": "code",
   "execution_count": 19,
   "id": "a3c52b34",
   "metadata": {},
   "outputs": [
    {
     "name": "stdout",
     "output_type": "stream",
     "text": [
      "/usr/bin/java -Dconfig.file=/storage1/fs1/dinglab/Active/Projects/estorrs/wombat/tests/data/fusion/C3L-00677.cromwell-config-db.compute1.dat -Djavax.net.ssl.trustStorePassword=changeit -Djavax.net.ssl.trustStore=/gscmnt/gc2560/core/genome/cromwell/cromwell.truststore -jar /usr/local/cromwell/cromwell-47.jar run -t cwl -i /storage1/fs1/dinglab/Active/Projects/estorrs/wombat/tests/data/fusion/C3L-00677_inputs.yaml /storage1/fs1/dinglab/Active/Projects/estorrs/pecgs-pipeline/submodules/pecgs-fusion/cwl/fusion.cwl\n"
     ]
    }
   ],
   "source": [
    "print(run_command)"
   ]
  },
  {
   "cell_type": "code",
   "execution_count": null,
   "id": "cd556ffc",
   "metadata": {},
   "outputs": [],
   "source": []
  }
 ],
 "metadata": {
  "kernelspec": {
   "display_name": "Python 3 (ipykernel)",
   "language": "python",
   "name": "python3"
  },
  "language_info": {
   "codemirror_mode": {
    "name": "ipython",
    "version": 3
   },
   "file_extension": ".py",
   "mimetype": "text/x-python",
   "name": "python",
   "nbconvert_exporter": "python",
   "pygments_lexer": "ipython3",
   "version": "3.8.12"
  }
 },
 "nbformat": 4,
 "nbformat_minor": 5
}
